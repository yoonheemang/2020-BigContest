{
 "cells": [
  {
   "cell_type": "markdown",
   "metadata": {},
   "source": [
    "월별로 상대팀 생각x\n",
    "\n",
    "2016.07.16.\n",
    "2017.07.15.\n",
    "2018.07.14\n",
    "2019.07.21\n",
    "기준 이전 날짜는 전반기 이후 날짜는 후반기"
   ]
  },
  {
   "cell_type": "code",
   "execution_count": 2,
   "metadata": {},
   "outputs": [],
   "source": [
    "import pandas as pd\n",
    "import numpy as np\n",
    "import matplotlib.pyplot as plt"
   ]
  },
  {
   "cell_type": "markdown",
   "metadata": {},
   "source": [
    "## 1. 데이터 가져오기"
   ]
  },
  {
   "cell_type": "code",
   "execution_count": 3,
   "metadata": {},
   "outputs": [],
   "source": [
    "t_bat17=pd.read_csv(\"C:/Users/a/Desktop/2020빅콘/제공데이터/제공데이터(.CSV)_시즌별, 시트별 구분/2020빅콘테스트_스포츠투아이_제공데이터_팀타자_2017.csv\",encoding='utf-8',engine='python')\n",
    "t_bat18=pd.read_csv(\"C:/Users/a/Desktop/2020빅콘/제공데이터/제공데이터(.CSV)_시즌별, 시트별 구분/2020빅콘테스트_스포츠투아이_제공데이터_팀타자_2018.csv\",encoding='utf-8',engine='python')\n",
    "t_bat19=pd.read_csv(\"C:/Users/a/Desktop/2020빅콘/제공데이터/제공데이터(.CSV)_시즌별, 시트별 구분/2020빅콘테스트_스포츠투아이_제공데이터_팀타자_2019.csv\",encoding='utf-8',engine='python')"
   ]
  },
  {
   "cell_type": "code",
   "execution_count": 4,
   "metadata": {},
   "outputs": [],
   "source": [
    "#모든 열 다 출력하기\n",
    "pd.options.display.max_columns=None"
   ]
  },
  {
   "cell_type": "markdown",
   "metadata": {},
   "source": [
    "## 2. 월 정보 추가"
   ]
  },
  {
   "cell_type": "code",
   "execution_count": 5,
   "metadata": {},
   "outputs": [],
   "source": [
    "#월 정보 추가\n",
    "t_bat17['MONTH']=t_bat17['GDAY_DS'].astype(str).str[4:6]\n",
    "t_bat18['MONTH']=t_bat18['GDAY_DS'].astype(str).str[4:6]\n",
    "t_bat19['MONTH']=t_bat19['GDAY_DS'].astype(str).str[4:6]"
   ]
  },
  {
   "cell_type": "code",
   "execution_count": 6,
   "metadata": {},
   "outputs": [],
   "source": [
    "stats=['PA','AB','RBI','RUN','HIT','H1','H2','H3','HR','SB','CS','SH','SF','BB','IB','HP'\n",
    "       ,'KK','GD','ERR','LOB','P_AB_CN','P_HIT_CN']"
   ]
  },
  {
   "cell_type": "markdown",
   "metadata": {},
   "source": [
    "## 3. 각 팀의 월별 타율 변수로 생성"
   ]
  },
  {
   "cell_type": "code",
   "execution_count": 7,
   "metadata": {
    "scrolled": true
   },
   "outputs": [],
   "source": [
    "#팀별 기록(17년도)\n",
    "data17=t_bat17.filter(['T_ID','MONTH','AB','HIT'])\n",
    "t17=data17.groupby(['T_ID','MONTH']).sum()\n",
    "t17['HIT_RATE']=t17['HIT']/t17['AB']\n",
    "\n",
    "#팀별 기록(19년도)\n",
    "data18=t_bat18.filter(['T_ID','MONTH','AB','HIT'])\n",
    "t18=data18.groupby(['T_ID','MONTH']).sum()\n",
    "t18['HIT_RATE']=t18['HIT']/t18['AB']\n",
    "\n",
    "#팀별 기록(19년도)\n",
    "data19=t_bat19.filter(['T_ID','MONTH','AB','HIT'])\n",
    "t19=data19.groupby(['T_ID','MONTH']).sum()\n",
    "t19['HIT_RATE']=t19['HIT']/t19['AB']"
   ]
  },
  {
   "cell_type": "code",
   "execution_count": 8,
   "metadata": {
    "scrolled": true
   },
   "outputs": [],
   "source": [
    "#타율만 남김\n",
    "t17=t17.drop(t17.columns[[0,1]],axis='columns')\n",
    "t18=t18.drop(t18.columns[[0,1]],axis='columns')\n",
    "t19=t19.drop(t19.columns[[0,1]],axis='columns')"
   ]
  },
  {
   "cell_type": "code",
   "execution_count": 9,
   "metadata": {},
   "outputs": [],
   "source": [
    "t17=t17.reset_index(level=['T_ID','MONTH']) #MONTH열을 index에서 값으로 변환\n",
    "t18=t18.reset_index(level=['T_ID','MONTH']) #MONTH열을 index에서 값으로 변환\n",
    "t19=t19.reset_index(level=['T_ID','MONTH']) #MONTH열을 index에서 값으로 변환"
   ]
  },
  {
   "cell_type": "code",
   "execution_count": 10,
   "metadata": {
    "scrolled": true
   },
   "outputs": [],
   "source": [
    "#3월 경기 제거\n",
    "t17=t17[t17['MONTH']!='03']\n",
    "t18=t18[t18['MONTH']!='03']\n",
    "t19=t19[t19['MONTH']!='03']\n",
    "\n",
    "#10월 경기 일단 제거..\n",
    "t17_9=t17[t17['MONTH']!='10']\n",
    "t18_9=t18[t18['MONTH']!='10']\n",
    "t19_9=t19[t19['MONTH']!='10']"
   ]
  },
  {
   "cell_type": "code",
   "execution_count": 11,
   "metadata": {},
   "outputs": [],
   "source": [
    "data17=t17_9.pivot(index='T_ID',columns='MONTH',values='HIT_RATE')\n",
    "data18=t18_9.pivot(index='T_ID',columns='MONTH',values='HIT_RATE')\n",
    "data19=t19_9.pivot(index='T_ID',columns='MONTH',values='HIT_RATE')"
   ]
  },
  {
   "cell_type": "code",
   "execution_count": 12,
   "metadata": {
    "scrolled": true
   },
   "outputs": [
    {
     "data": {
      "text/html": [
       "<div>\n",
       "<style scoped>\n",
       "    .dataframe tbody tr th:only-of-type {\n",
       "        vertical-align: middle;\n",
       "    }\n",
       "\n",
       "    .dataframe tbody tr th {\n",
       "        vertical-align: top;\n",
       "    }\n",
       "\n",
       "    .dataframe thead th {\n",
       "        text-align: right;\n",
       "    }\n",
       "</style>\n",
       "<table border=\"1\" class=\"dataframe\">\n",
       "  <thead>\n",
       "    <tr style=\"text-align: right;\">\n",
       "      <th>MONTH</th>\n",
       "      <th>04</th>\n",
       "      <th>05</th>\n",
       "      <th>06</th>\n",
       "      <th>07</th>\n",
       "      <th>08</th>\n",
       "      <th>09</th>\n",
       "    </tr>\n",
       "    <tr>\n",
       "      <th>T_ID</th>\n",
       "      <th></th>\n",
       "      <th></th>\n",
       "      <th></th>\n",
       "      <th></th>\n",
       "      <th></th>\n",
       "      <th></th>\n",
       "    </tr>\n",
       "  </thead>\n",
       "  <tbody>\n",
       "    <tr>\n",
       "      <th>HH</th>\n",
       "      <td>0.251788</td>\n",
       "      <td>0.241455</td>\n",
       "      <td>0.247853</td>\n",
       "      <td>0.253435</td>\n",
       "      <td>0.261084</td>\n",
       "      <td>0.268802</td>\n",
       "    </tr>\n",
       "    <tr>\n",
       "      <th>HT</th>\n",
       "      <td>0.267009</td>\n",
       "      <td>0.268852</td>\n",
       "      <td>0.269596</td>\n",
       "      <td>0.263757</td>\n",
       "      <td>0.267349</td>\n",
       "      <td>0.253373</td>\n",
       "    </tr>\n",
       "    <tr>\n",
       "      <th>KT</th>\n",
       "      <td>0.246002</td>\n",
       "      <td>0.282511</td>\n",
       "      <td>0.289655</td>\n",
       "      <td>0.298555</td>\n",
       "      <td>0.273769</td>\n",
       "      <td>0.271973</td>\n",
       "    </tr>\n",
       "    <tr>\n",
       "      <th>LG</th>\n",
       "      <td>0.276903</td>\n",
       "      <td>0.255708</td>\n",
       "      <td>0.270148</td>\n",
       "      <td>0.260504</td>\n",
       "      <td>0.297136</td>\n",
       "      <td>0.258156</td>\n",
       "    </tr>\n",
       "    <tr>\n",
       "      <th>LT</th>\n",
       "      <td>0.268421</td>\n",
       "      <td>0.273859</td>\n",
       "      <td>0.243961</td>\n",
       "      <td>0.227656</td>\n",
       "      <td>0.251483</td>\n",
       "      <td>0.219200</td>\n",
       "    </tr>\n",
       "    <tr>\n",
       "      <th>NC</th>\n",
       "      <td>0.298223</td>\n",
       "      <td>0.295896</td>\n",
       "      <td>0.253149</td>\n",
       "      <td>0.286787</td>\n",
       "      <td>0.264925</td>\n",
       "      <td>0.269231</td>\n",
       "    </tr>\n",
       "    <tr>\n",
       "      <th>OB</th>\n",
       "      <td>0.284302</td>\n",
       "      <td>0.271702</td>\n",
       "      <td>0.271084</td>\n",
       "      <td>0.261092</td>\n",
       "      <td>0.301549</td>\n",
       "      <td>0.276119</td>\n",
       "    </tr>\n",
       "    <tr>\n",
       "      <th>SK</th>\n",
       "      <td>0.244694</td>\n",
       "      <td>0.269147</td>\n",
       "      <td>0.299097</td>\n",
       "      <td>0.275116</td>\n",
       "      <td>0.254524</td>\n",
       "      <td>0.236301</td>\n",
       "    </tr>\n",
       "    <tr>\n",
       "      <th>SS</th>\n",
       "      <td>0.261997</td>\n",
       "      <td>0.270239</td>\n",
       "      <td>0.275610</td>\n",
       "      <td>0.256610</td>\n",
       "      <td>0.225490</td>\n",
       "      <td>0.235217</td>\n",
       "    </tr>\n",
       "    <tr>\n",
       "      <th>WO</th>\n",
       "      <td>0.309028</td>\n",
       "      <td>0.275787</td>\n",
       "      <td>0.273364</td>\n",
       "      <td>0.279874</td>\n",
       "      <td>0.303471</td>\n",
       "      <td>0.250000</td>\n",
       "    </tr>\n",
       "  </tbody>\n",
       "</table>\n",
       "</div>"
      ],
      "text/plain": [
       "MONTH        04        05        06        07        08        09\n",
       "T_ID                                                             \n",
       "HH     0.251788  0.241455  0.247853  0.253435  0.261084  0.268802\n",
       "HT     0.267009  0.268852  0.269596  0.263757  0.267349  0.253373\n",
       "KT     0.246002  0.282511  0.289655  0.298555  0.273769  0.271973\n",
       "LG     0.276903  0.255708  0.270148  0.260504  0.297136  0.258156\n",
       "LT     0.268421  0.273859  0.243961  0.227656  0.251483  0.219200\n",
       "NC     0.298223  0.295896  0.253149  0.286787  0.264925  0.269231\n",
       "OB     0.284302  0.271702  0.271084  0.261092  0.301549  0.276119\n",
       "SK     0.244694  0.269147  0.299097  0.275116  0.254524  0.236301\n",
       "SS     0.261997  0.270239  0.275610  0.256610  0.225490  0.235217\n",
       "WO     0.309028  0.275787  0.273364  0.279874  0.303471  0.250000"
      ]
     },
     "execution_count": 12,
     "metadata": {},
     "output_type": "execute_result"
    }
   ],
   "source": [
    "data19"
   ]
  },
  {
   "cell_type": "code",
   "execution_count": null,
   "metadata": {},
   "outputs": [],
   "source": []
  },
  {
   "cell_type": "markdown",
   "metadata": {},
   "source": [
    "## 4. 모델학습"
   ]
  },
  {
   "cell_type": "code",
   "execution_count": 13,
   "metadata": {},
   "outputs": [],
   "source": [
    "# 출력 할 때 마다, 기존 출력물들은 제거해주는 모듈\n",
    "from IPython.display import clear_output"
   ]
  },
  {
   "cell_type": "code",
   "execution_count": 14,
   "metadata": {},
   "outputs": [],
   "source": [
    "# 모델 모듈\n",
    "import xgboost\n",
    "from xgboost import XGBRegressor, plot_importance\n",
    "from lightgbm import LGBMRegressor\n",
    "from sklearn.ensemble import RandomForestRegressor\n",
    "from sklearn.svm import SVR\n",
    "from sklearn.linear_model import Ridge, Lasso, LinearRegression, ElasticNet\n",
    "from sklearn.neighbors import KNeighborsRegressor\n",
    "\n",
    "from sklearn.metrics import mean_squared_error, r2_score\n",
    "from sklearn.preprocessing import StandardScaler, MinMaxScaler"
   ]
  },
  {
   "cell_type": "code",
   "execution_count": 15,
   "metadata": {
    "scrolled": true
   },
   "outputs": [],
   "source": [
    "X_cols=['0' + str(i) for i in range(4,9)]\n",
    "Y_col=['09'] "
   ]
  },
  {
   "cell_type": "code",
   "execution_count": 35,
   "metadata": {},
   "outputs": [],
   "source": [
    "#### 학습시킬 모델\n",
    "model_dict = {'xgb':XGBRegressor(n_estimators=100, learning_rate=0.05 ,max_depth=3, random_state=23),\n",
    "    'lgbm':LGBMRegressor(),\n",
    "    'rf':RandomForestRegressor(),\n",
    "    'svr':SVR(),\n",
    "    'reg':LinearRegression(),\n",
    "    'ridge':Ridge(),\n",
    "    'lasso':Lasso()}"
   ]
  },
  {
   "cell_type": "code",
   "execution_count": 17,
   "metadata": {},
   "outputs": [],
   "source": [
    "train=data17\n",
    "test=data19"
   ]
  },
  {
   "cell_type": "code",
   "execution_count": 36,
   "metadata": {
    "scrolled": true
   },
   "outputs": [
    {
     "name": "stdout",
     "output_type": "stream",
     "text": [
      "test error :  0.04457301557156734\n",
      "r2 :  -5.259688628735302\n",
      "완료\n"
     ]
    }
   ],
   "source": [
    "X_train = train[X_cols]\n",
    "Y_train = train[Y_col]\n",
    "\n",
    "X_test = test[X_cols]\n",
    "Y_test = test[Y_col]\n",
    "\n",
    "model = model_dict['xgb']    #모델명 바꾸어 가면서 실험 가능\n",
    "weight = train['08']\n",
    "#model.fit(X_train, Y_train, sample_weight=weight)\n",
    "model.fit(X_train, Y_train)  #가중치 제거\n",
    "\n",
    "Y_predict = model.predict(X_test)\n",
    "\n",
    "#test_error=mean_squared_error(Y_test, Y_predict, sample_weight=X_test['08']) ** 0.5\n",
    "test_error=mean_squared_error(Y_test, Y_predict) ** 0.5  #가중치 제거\n",
    "\n",
    "r2=r2_score(Y_test, Y_predict)\n",
    " \n",
    "    \n",
    "print(\"test error : \", test_error)\n",
    "print(\"r2 : \", r2)\n",
    "print(\"완료\")"
   ]
  },
  {
   "cell_type": "markdown",
   "metadata": {},
   "source": [
    "1.xgb > \n",
    "test error :  0.024632430441749672\n",
    "r2 :  -0.6645697037194196\n",
    "\n",
    "2. lgbm > \n",
    "test error :  0.02185244340343367\n",
    "r2 :  -0.317440397821546\n",
    "\n",
    "3. rf > \n",
    "test error :  0.021567645215552707\n",
    "r2 :  -0.2655626315034607\n",
    "\n",
    "4. svr > \n",
    "test error :  0.022712686166363988\n",
    "r2 :  -0.4027787092042414\n",
    "\n",
    "5. reg > \n",
    "test error :  0.04181604057242239\n",
    "r2 :  -4.0212149498847864\n",
    "\n",
    "6. ridge > \n",
    "test error :  0.03917854765963012\n",
    "r2 :  -3.392563926438606\n",
    "\n",
    "7. lasso > \n",
    "test error :  0.023887529650144353\n",
    "r2 :  -0.5541297385972017\n"
   ]
  },
  {
   "cell_type": "markdown",
   "metadata": {},
   "source": [
    "### 예측값과 실제값 차이"
   ]
  },
  {
   "cell_type": "code",
   "execution_count": 19,
   "metadata": {
    "scrolled": false
   },
   "outputs": [
    {
     "data": {
      "text/plain": [
       "Text(0,0.5,'예측 값')"
      ]
     },
     "execution_count": 19,
     "metadata": {},
     "output_type": "execute_result"
    },
    {
     "data": {
      "image/png": "[encoded data removed]",
      "text/plain": [
       "<Figure size 432x288 with 1 Axes>"
      ]
     },
     "metadata": {},
     "output_type": "display_data"
    }
   ],
   "source": [
    "# 예측값과 실제값의 시각화\n",
    "plt.scatter(Y_test, Y_predict)\n",
    "plt.xlabel(\"실제 값\")\n",
    "plt.ylabel(\"예측 값\")"
   ]
  },
  {
   "cell_type": "code",
   "execution_count": 20,
   "metadata": {
    "scrolled": false
   },
   "outputs": [
    {
     "data": {
      "text/html": [
       "<div>\n",
       "<style scoped>\n",
       "    .dataframe tbody tr th:only-of-type {\n",
       "        vertical-align: middle;\n",
       "    }\n",
       "\n",
       "    .dataframe tbody tr th {\n",
       "        vertical-align: top;\n",
       "    }\n",
       "\n",
       "    .dataframe thead th {\n",
       "        text-align: right;\n",
       "    }\n",
       "</style>\n",
       "<table border=\"1\" class=\"dataframe\">\n",
       "  <thead>\n",
       "    <tr style=\"text-align: right;\">\n",
       "      <th>MONTH</th>\n",
       "      <th>09</th>\n",
       "      <th>predict</th>\n",
       "      <th>diff</th>\n",
       "    </tr>\n",
       "    <tr>\n",
       "      <th>T_ID</th>\n",
       "      <th></th>\n",
       "      <th></th>\n",
       "      <th></th>\n",
       "    </tr>\n",
       "  </thead>\n",
       "  <tbody>\n",
       "    <tr>\n",
       "      <th>HH</th>\n",
       "      <td>0.268802</td>\n",
       "      <td>0.303989</td>\n",
       "      <td>0.035186</td>\n",
       "    </tr>\n",
       "    <tr>\n",
       "      <th>HT</th>\n",
       "      <td>0.253373</td>\n",
       "      <td>0.292941</td>\n",
       "      <td>0.039568</td>\n",
       "    </tr>\n",
       "    <tr>\n",
       "      <th>KT</th>\n",
       "      <td>0.271973</td>\n",
       "      <td>0.311368</td>\n",
       "      <td>0.039395</td>\n",
       "    </tr>\n",
       "    <tr>\n",
       "      <th>LG</th>\n",
       "      <td>0.258156</td>\n",
       "      <td>0.281196</td>\n",
       "      <td>0.023040</td>\n",
       "    </tr>\n",
       "    <tr>\n",
       "      <th>LT</th>\n",
       "      <td>0.219200</td>\n",
       "      <td>0.285479</td>\n",
       "      <td>0.066279</td>\n",
       "    </tr>\n",
       "    <tr>\n",
       "      <th>NC</th>\n",
       "      <td>0.269231</td>\n",
       "      <td>0.276879</td>\n",
       "      <td>0.007648</td>\n",
       "    </tr>\n",
       "    <tr>\n",
       "      <th>OB</th>\n",
       "      <td>0.276119</td>\n",
       "      <td>0.273876</td>\n",
       "      <td>0.002243</td>\n",
       "    </tr>\n",
       "    <tr>\n",
       "      <th>SK</th>\n",
       "      <td>0.236301</td>\n",
       "      <td>0.312508</td>\n",
       "      <td>0.076207</td>\n",
       "    </tr>\n",
       "    <tr>\n",
       "      <th>SS</th>\n",
       "      <td>0.235217</td>\n",
       "      <td>0.303537</td>\n",
       "      <td>0.068320</td>\n",
       "    </tr>\n",
       "    <tr>\n",
       "      <th>WO</th>\n",
       "      <td>0.250000</td>\n",
       "      <td>0.262949</td>\n",
       "      <td>0.012949</td>\n",
       "    </tr>\n",
       "  </tbody>\n",
       "</table>\n",
       "</div>"
      ],
      "text/plain": [
       "MONTH        09   predict      diff\n",
       "T_ID                               \n",
       "HH     0.268802  0.303989  0.035186\n",
       "HT     0.253373  0.292941  0.039568\n",
       "KT     0.271973  0.311368  0.039395\n",
       "LG     0.258156  0.281196  0.023040\n",
       "LT     0.219200  0.285479  0.066279\n",
       "NC     0.269231  0.276879  0.007648\n",
       "OB     0.276119  0.273876  0.002243\n",
       "SK     0.236301  0.312508  0.076207\n",
       "SS     0.235217  0.303537  0.068320\n",
       "WO     0.250000  0.262949  0.012949"
      ]
     },
     "execution_count": 20,
     "metadata": {},
     "output_type": "execute_result"
    }
   ],
   "source": [
    "#예측값과 실제값 차이\n",
    "a=Y_test\n",
    "a=a.assign(predict=Y_predict)\n",
    "a['diff']=abs(a['09']-a['predict'])\n",
    "a"
   ]
  },
  {
   "cell_type": "code",
   "execution_count": 21,
   "metadata": {},
   "outputs": [
    {
     "data": {
      "text/plain": [
       "-5.296938278492618"
      ]
     },
     "execution_count": 21,
     "metadata": {},
     "output_type": "execute_result"
    }
   ],
   "source": [
    "rss=sum(a['diff']**2)\n",
    "tss=sum((a['09']-a['09'].mean())**2)\n",
    "rsq=1-rss/tss\n",
    "rsq"
   ]
  },
  {
   "cell_type": "code",
   "execution_count": 22,
   "metadata": {},
   "outputs": [
    {
     "data": {
      "text/plain": [
       "0.37083525394221145"
      ]
     },
     "execution_count": 22,
     "metadata": {},
     "output_type": "execute_result"
    }
   ],
   "source": [
    "#차이 합\n",
    "a['diff'].sum()"
   ]
  },
  {
   "cell_type": "code",
   "execution_count": null,
   "metadata": {},
   "outputs": [],
   "source": []
  },
  {
   "cell_type": "code",
   "execution_count": 23,
   "metadata": {},
   "outputs": [
    {
     "data": {
      "text/plain": [
       "0.01998576330775739"
      ]
     },
     "execution_count": 23,
     "metadata": {},
     "output_type": "execute_result"
    }
   ],
   "source": [
    "rss"
   ]
  }
 ],
 "metadata": {
  "kernelspec": {
   "display_name": "Python [default]",
   "language": "python",
   "name": "python3"
  },
  "language_info": {
   "codemirror_mode": {
    "name": "ipython",
    "version": 3
   },
   "file_extension": ".py",
   "mimetype": "text/x-python",
   "name": "python",
   "nbconvert_exporter": "python",
   "pygments_lexer": "ipython3",
   "version": "3.6.5"
  }
 },
 "nbformat": 4,
 "nbformat_minor": 2
}
