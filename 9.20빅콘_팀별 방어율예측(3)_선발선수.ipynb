{
 "cells": [
  {
   "cell_type": "code",
   "execution_count": 163,
   "metadata": {},
   "outputs": [],
   "source": [
    "import pandas as pd\n",
    "import numpy as np\n",
    "import matplotlib.pyplot as plt"
   ]
  },
  {
   "cell_type": "markdown",
   "metadata": {},
   "source": [
    "## 1. 데이터 가져오기"
   ]
  },
  {
   "cell_type": "code",
   "execution_count": 164,
   "metadata": {},
   "outputs": [],
   "source": [
    "t_pit16=pd.read_csv(\"C:/Users/a/Desktop/2020빅콘/제공데이터/제공데이터(.CSV)_시즌별, 시트별 구분/2020빅콘테스트_스포츠투아이_제공데이터_팀투수_2016.csv\",encoding='utf-8',engine='python')\n",
    "t_pit17=pd.read_csv(\"C:/Users/a/Desktop/2020빅콘/제공데이터/제공데이터(.CSV)_시즌별, 시트별 구분/2020빅콘테스트_스포츠투아이_제공데이터_팀투수_2017.csv\",encoding='utf-8',engine='python')\n",
    "t_pit18=pd.read_csv(\"C:/Users/a/Desktop/2020빅콘/제공데이터/제공데이터(.CSV)_시즌별, 시트별 구분/2020빅콘테스트_스포츠투아이_제공데이터_팀투수_2018.csv\",encoding='utf-8',engine='python')\n",
    "t_pit19=pd.read_csv(\"C:/Users/a/Desktop/2020빅콘/제공데이터/제공데이터(.CSV)_시즌별, 시트별 구분/2020빅콘테스트_스포츠투아이_제공데이터_팀투수_2019.csv\",encoding='utf-8',engine='python')"
   ]
  },
  {
   "cell_type": "code",
   "execution_count": 165,
   "metadata": {},
   "outputs": [],
   "source": [
    "p_pit16=pd.read_csv(\"C:/Users/a/Desktop/2020빅콘/제공데이터/제공데이터(.CSV)_시즌별, 시트별 구분/2020빅콘테스트_스포츠투아이_제공데이터_개인투수_2016.csv\",encoding='utf-8',engine='python')\n",
    "p_pit17=pd.read_csv(\"C:/Users/a/Desktop/2020빅콘/제공데이터/제공데이터(.CSV)_시즌별, 시트별 구분/2020빅콘테스트_스포츠투아이_제공데이터_개인투수_2017.csv\",encoding='utf-8',engine='python')\n",
    "p_pit18=pd.read_csv(\"C:/Users/a/Desktop/2020빅콘/제공데이터/제공데이터(.CSV)_시즌별, 시트별 구분/2020빅콘테스트_스포츠투아이_제공데이터_개인투수_2018.csv\",encoding='utf-8',engine='python')\n",
    "p_pit19=pd.read_csv(\"C:/Users/a/Desktop/2020빅콘/제공데이터/제공데이터(.CSV)_시즌별, 시트별 구분/2020빅콘테스트_스포츠투아이_제공데이터_개인투수_2019.csv\",encoding='utf-8',engine='python')"
   ]
  },
  {
   "cell_type": "code",
   "execution_count": 166,
   "metadata": {},
   "outputs": [],
   "source": [
    "#모든 열 다 출력하기\n",
    "pd.options.display.max_columns=None"
   ]
  },
  {
   "cell_type": "markdown",
   "metadata": {},
   "source": [
    "## 2. 변수 생성"
   ]
  },
  {
   "cell_type": "code",
   "execution_count": 167,
   "metadata": {},
   "outputs": [],
   "source": [
    "team=['HH', 'HT', 'KT', 'LG', 'LT', 'NC', 'OB', 'SK', 'SS', 'WO']"
   ]
  },
  {
   "cell_type": "code",
   "execution_count": 168,
   "metadata": {},
   "outputs": [],
   "source": [
    "#이닝수 변수 만들기\n",
    "t_pit16['INN']=t_pit16['INN2']/3\n",
    "t_pit17['INN']=t_pit17['INN2']/3\n",
    "t_pit18['INN']=t_pit18['INN2']/3\n",
    "t_pit19['INN']=t_pit19['INN2']/3"
   ]
  },
  {
   "cell_type": "code",
   "execution_count": 169,
   "metadata": {},
   "outputs": [],
   "source": [
    "#1루타 변수 만들기\n",
    "t_pit16['H1']=t_pit16['HIT']-t_pit16['H2']-t_pit16['H3']-t_pit16['HR']\n",
    "t_pit17['H1']=t_pit17['HIT']-t_pit17['H2']-t_pit17['H3']-t_pit17['HR']\n",
    "t_pit18['H1']=t_pit18['HIT']-t_pit18['H2']-t_pit18['H3']-t_pit18['HR']\n",
    "t_pit19['H1']=t_pit19['HIT']-t_pit19['H2']-t_pit19['H3']-t_pit19['HR']"
   ]
  },
  {
   "cell_type": "code",
   "execution_count": 170,
   "metadata": {},
   "outputs": [],
   "source": [
    "pd.set_option('mode.chained_assignment',None) #chain copy warning 제거하기\n",
    "\n",
    "#승률 변수만들기(이긴 경기, 진 경기 합치기)\n",
    "def make_win_lose(data):\n",
    "    data['W']=0; data['L']=0\n",
    "    data['W'][data['WLS']=='W']=1\n",
    "    data['L'][data['WLS']=='L']=1\n",
    "    return data"
   ]
  },
  {
   "cell_type": "code",
   "execution_count": 171,
   "metadata": {},
   "outputs": [],
   "source": [
    "data_list=[t_pit16,t_pit17,t_pit18,t_pit19]\n",
    "for data in data_list:\n",
    "    data=make_win_lose(data)"
   ]
  },
  {
   "cell_type": "markdown",
   "metadata": {},
   "source": [
    "### 선발기록 만들기"
   ]
  },
  {
   "cell_type": "markdown",
   "metadata": {},
   "source": [
    "**팀별 선발 기록 이용\n",
    "\n",
    "1. 40경기씩 묶어서 G_ID뽑기(총 5개 묶음)\n",
    "\n",
    "2. p_pit데이터에서 겹치는 경기들 뽑기(5개 묶음)\n",
    "\n",
    "3. 선발인 선수들 뽑아서, 선수별로 묶기(5개 묶음)\n",
    "\n",
    "4. 6명씩 선수들 뽑기(대표 선수들 뽑기 > 각자 그룹에서 뽑자)\n",
    "\n",
    "5. 팀별로 묶기\n",
    "\n",
    "6. 앞 4개 묶음 아래로 이어붙이기(총 2개)\n",
    "\n",
    "7. 기존 데이터에 열 추가(train에 앞묶음, test에 뒷 묶음)"
   ]
  },
  {
   "cell_type": "code",
   "execution_count": 172,
   "metadata": {},
   "outputs": [],
   "source": [
    "t_pit_list=[t_pit16,t_pit17,t_pit18,t_pit19] #팀투수 데이터 리스트\n",
    "p_pit_list=[p_pit16,p_pit17,p_pit18,p_pit19] #개인투수 데이터 리스트\n",
    "var=['T_ID','P_ID','SB','SF','ERR','R','ER','INN2','AB','HIT','HR']  #필요한 개인투수 변수리스트\n",
    "\n",
    "def game40(year):\n",
    "    t_pit=t_pit_list[year-2016][['G_ID','T_ID']]  #팀별 경기를 뽑아내기 위함\n",
    "    p_pit=p_pit_list[year-2016]       #필요한 개인투수 데이터셋\n",
    "\n",
    "    game_list=[pd.DataFrame() for var in range(1,6)] #40경기씩 묶일 데이터셋\n",
    "    data_list=[pd.DataFrame() for var in range(1,6)] #40경기씩 묶일 데이터셋\n",
    "        \n",
    "    data=pd.DataFrame()  #빈 데이터프레임 만들기\n",
    "\n",
    "    for i in range(5):\n",
    "        game40=game_list[i] #팀별 40경기 G_ID가 들어있는 데이터셋\n",
    "        data40=data_list[i] #팀별 40경기씩 넣을 개인투수 데이터셋\n",
    "        \n",
    "        for t in team:\n",
    "            game40=t_pit[t_pit['T_ID']==t][4+i*20:44+i*20]\n",
    "            data40=pd.concat([data40,p_pit[p_pit['G_ID'].isin(game40['G_ID'])][p_pit['T_ID']==t]])\n",
    "        data40=data40[data40['START_CK']==1].filter(var)                                #선발 뽑기\n",
    "        data40=data40.groupby(['T_ID','P_ID']).sum()                                    #선수별로 묶기\n",
    "        data40=data40.sort_values(by='INN2', ascending=False).groupby('T_ID').head(5)  #이닝수가 많은 5명 뽑기\n",
    "        data40=data40.groupby(['T_ID']).sum()                                           #팀별로 묶기\n",
    "        \n",
    "        #변수 만들기\n",
    "        data40['ERA']=data40['ER']*27/data40['INN2']        #선발ERA 변수 만들기\n",
    "        data40['HIT_RATE']=data40['HIT']/data40['AB']       #피안타율 변수 만들기\n",
    "        data40['HR_RATE']=data40['HR']/data40['AB']         #피홈런율 변수 만들기\n",
    "        \n",
    "        data40=data40.drop(['INN2','HIT','AB','HR','ER'],axis='columns')  #변수 삭제\n",
    "        data40=data40.add_prefix('START_')                                #변수명 앞에 START 붙이기\n",
    "\n",
    "        #데이터 합치기\n",
    "        if i <4:\n",
    "            data=pd.concat([data,data40])  #40경기의 데이터 이어붙이기\n",
    "        else:\n",
    "            test_data=data40\n",
    "            \n",
    "    return data, test_data"
   ]
  },
  {
   "cell_type": "code",
   "execution_count": 173,
   "metadata": {
    "scrolled": true
   },
   "outputs": [
    {
     "name": "stderr",
     "output_type": "stream",
     "text": [
      "C:\\Users\\a\\Anaconda3\\lib\\site-packages\\ipykernel\\__main__.py:20: UserWarning: Boolean Series key will be reindexed to match DataFrame index.\n"
     ]
    }
   ],
   "source": [
    "st_train16,st_test16=game40(2016)\n",
    "st_train17,st_test17=game40(2017)\n",
    "st_train18,st_test18=game40(2018)\n",
    "st_train19,st_test19=game40(2019)"
   ]
  },
  {
   "cell_type": "markdown",
   "metadata": {},
   "source": [
    "## 3. train test 셋 만들기"
   ]
  },
  {
   "cell_type": "code",
   "execution_count": 174,
   "metadata": {},
   "outputs": [],
   "source": [
    "var_t=['T_ID','HOLD','BF','PA','AB','HIT','H2','H3','HR','R','ER','P_WHIP_RT','CB_WHIP_RT','INN','H1','W','L']\n",
    "t16=t_pit16.filter(var_t)\n",
    "t17=t_pit17.filter(var_t)\n",
    "t18=t_pit18.filter(var_t)\n",
    "t19=t_pit19.filter(var_t)"
   ]
  },
  {
   "cell_type": "code",
   "execution_count": 175,
   "metadata": {},
   "outputs": [],
   "source": [
    "#정답 셋과 train 셋 만드는 함수\n",
    "t_bat=[t16,t17,t18,t19]\n",
    "def make_answer_train(year):\n",
    "    a=t_bat[year-2016]  \n",
    "    data=pd.DataFrame()  #빈 데이터프레임 만들기\n",
    "    pa=pd.DataFrame()\n",
    "\n",
    "    train_name=['train' + str(i) for i in range(1,6)]\n",
    "    train_data=[pd.DataFrame() for var in train_name] #20경기씩 묶일 데이터셋\n",
    "    \n",
    "    ans_name=['ans' + str(i) for i in range(1,6)]\n",
    "    answer=[pd.DataFrame() for var in ans_name]  #20경기씩 묶일 데이터셋\n",
    "        \n",
    "    for i in range(5):\n",
    "        tra=train_data[i]\n",
    "        ans=answer[i]\n",
    "        for t in team:\n",
    "            tra=pd.concat([tra,a[a['T_ID']==t][4+i*20:4+40+i*20]])      #팀별로 앞 4경기 제외\n",
    "            ans=pd.concat([ans,a[a['T_ID']==t][4+40+i*20:4+60+i*20]])\n",
    "        \n",
    "        tra=tra.groupby(['T_ID']).sum()\n",
    "        #SLG변수 만들기\n",
    "        tra['SLG']=(tra['H1']+tra['H2']*2+tra['H3']*3+tra['HR']*4)/tra['AB']\n",
    "        tra=tra.drop(['H1','H2','H3','HR'],axis='columns')\n",
    "        \n",
    "        #승률 변수 만들기\n",
    "        tra['WINNING_RATE']=tra['W']/(tra['W']+tra['L'])\n",
    "        tra=tra.drop(['W','L'],axis='columns')\n",
    "        \n",
    "        #타율 변수 만들기\n",
    "        tra['HIT_RATE']=tra['HIT']/tra['AB']\n",
    "        tra=tra.drop(['HIT','AB'],axis='columns')       \n",
    "        \n",
    "        #변수 버리기\n",
    "        tra=tra.drop(['ER'],axis='columns') \n",
    "\n",
    "        #팀별 AB,HIT합 구하기\n",
    "        ans=ans.groupby(['T_ID']).sum()\n",
    "        ans['ERA']=ans['ER']*9/ans['INN']     #방어율 계산\n",
    "        ans=ans.drop(ans.columns[list(range(16))],axis='columns')\n",
    "                \n",
    "        if i <4:\n",
    "            data=pd.concat([data,pd.merge(tra,ans,on='T_ID')])\n",
    "        else:\n",
    "            test_data=pd.merge(tra,ans,on='T_ID')\n",
    "            \n",
    "    return data,test_data"
   ]
  },
  {
   "cell_type": "code",
   "execution_count": 176,
   "metadata": {
    "scrolled": false
   },
   "outputs": [],
   "source": [
    "train16,test16=make_answer_train(2016)\n",
    "train17,test17=make_answer_train(2017)\n",
    "train18,test18=make_answer_train(2018)\n",
    "train19,test19=make_answer_train(2019)"
   ]
  },
  {
   "cell_type": "code",
   "execution_count": 177,
   "metadata": {
    "scrolled": true
   },
   "outputs": [],
   "source": [
    "#선발 데이터와 합치기\n",
    "train16=pd.concat([st_train16,train16],axis=1)\n",
    "train17=pd.concat([st_train17,train17],axis=1)\n",
    "train18=pd.concat([st_train18,train18],axis=1)\n",
    "train19=pd.concat([st_train19,train19],axis=1)\n",
    "\n",
    "test16=pd.concat([st_test16,test16],axis=1)\n",
    "test17=pd.concat([st_test17,test17],axis=1)\n",
    "test18=pd.concat([st_test18,test18],axis=1)\n",
    "test19=pd.concat([st_test19,test19],axis=1)"
   ]
  },
  {
   "cell_type": "code",
   "execution_count": 178,
   "metadata": {},
   "outputs": [],
   "source": [
    "#4개년 합친 데이터\n",
    "train678_9=pd.concat([train16,test16,train17,test17,train18,test18,train19])\n",
    "train679_8=pd.concat([train16,test16,train17,test17,train19,test19,train18])\n",
    "train689_7=pd.concat([train16,test16,train18,test18,train19,test19,train17])\n",
    "train789_6=pd.concat([train17,test17,train18,test18,train19,test19,train16])"
   ]
  },
  {
   "cell_type": "markdown",
   "metadata": {},
   "source": [
    "## 3. 모델학습"
   ]
  },
  {
   "cell_type": "code",
   "execution_count": 162,
   "metadata": {},
   "outputs": [],
   "source": [
    "# 모델 모듈\n",
    "from sklearn.ensemble import RandomForestRegressor\n",
    "\n",
    "from sklearn.metrics import mean_squared_error, r2_score\n",
    "from sklearn.preprocessing import StandardScaler, MinMaxScaler"
   ]
  },
  {
   "cell_type": "markdown",
   "metadata": {},
   "source": [
    "stats=['START_SB', 'START_SF', 'START_ERR', 'START_R', 'START_ERA',\n",
    "       'START_HIT_RATE', 'START_HR_RATE', 'HOLD', 'BF', 'PA', 'R',\n",
    "       'ER', 'P_WHIP_RT', 'CB_WHIP_RT', 'INN', 'SLG','HIT_RATE' 'WINNING_RATE']"
   ]
  },
  {
   "cell_type": "code",
   "execution_count": null,
   "metadata": {},
   "outputs": [],
   "source": [
    "stats=['START_SB', 'START_SF', 'START_ERR', 'START_R', 'START_ERA',\n",
    "       'START_HIT_RATE', 'START_HR_RATE', 'HOLD', 'PA', 'R',\n",
    "       'P_WHIP_RT', 'CB_WHIP_RT', 'INN', 'SLG','HIT_RATE' ,'WINNING_RATE']"
   ]
  },
  {
   "cell_type": "code",
   "execution_count": null,
   "metadata": {
    "scrolled": true
   },
   "outputs": [],
   "source": [
    "X_cols=stats\n",
    "Y_col=['ERA']"
   ]
  },
  {
   "cell_type": "markdown",
   "metadata": {},
   "source": [
    "### 랜덤포레스트 돌려보기"
   ]
  },
  {
   "cell_type": "code",
   "execution_count": null,
   "metadata": {},
   "outputs": [],
   "source": [
    "train_list=[train16,train17,train18,train19]\n",
    "train4_list=[train789_6,train689_7,train679_8,train678_9]\n",
    "test_list=[test16,test17,test18,test19]"
   ]
  },
  {
   "cell_type": "code",
   "execution_count": 180,
   "metadata": {
    "scrolled": true
   },
   "outputs": [
    {
     "name": "stdout",
     "output_type": "stream",
     "text": [
      "2016 >\tr2 : -0.49226806947408575 \ttrain점수 :0.834 \t차이합 : 8.405873983762628\n",
      "2017 >\tr2 : -0.5466131150570275 \ttrain점수 :0.825 \t차이합 : 7.4315991352331645\n",
      "2018 >\tr2 : -0.007449869347473159 \ttrain점수 :0.825 \t차이합 : 4.682542783905901\n",
      "2019 >\tr2 : -1.1414320188561091 \ttrain점수 :0.829 \t차이합 : 8.264139789619051\n"
     ]
    }
   ],
   "source": [
    "#4개년 랜포 돌려보기\n",
    "result=[]\n",
    "for i in range(4):\n",
    "    train=train_list[i];  test=test_list[i]\n",
    "    X_train = train[X_cols]; Y_train = train[Y_col]\n",
    "    X_test = test[X_cols]; Y_test = test[Y_col]\n",
    "\n",
    "    model = RandomForestRegressor() \n",
    "    Y_train=Y_train.values.ravel()  #rf에서의 오류 없애기 위함\n",
    "    model.fit(X_train, Y_train) \n",
    "    Y_predict = model.predict(X_test)\n",
    "\n",
    "    r2=r2_score(Y_test, Y_predict)\n",
    "\n",
    "    result.append(Y_test.assign(predict=Y_predict))\n",
    "    result[i]['diff']=result[i]['ERA']-result[i]['predict']\n",
    "    print(i+2016,\">\\tr2 :\", r2,'\\ttrain점수 :{:.3f}'.format(model.score(X_train,Y_train)),\"\\t차이합 :\",abs(result[i]['diff']).sum())"
   ]
  },
  {
   "cell_type": "code",
   "execution_count": null,
   "metadata": {},
   "outputs": [],
   "source": [
    "train19.corr()['ERA']"
   ]
  },
  {
   "cell_type": "markdown",
   "metadata": {},
   "source": [
    "### 예측값과 실제값 차이"
   ]
  },
  {
   "cell_type": "code",
   "execution_count": null,
   "metadata": {
    "scrolled": false
   },
   "outputs": [],
   "source": [
    "# 예측값과 실제값의 시각화\n",
    "plt.scatter(Y_test, Y_predict)\n",
    "plt.xlabel(\"실제 값\")\n",
    "plt.ylabel(\"예측 값\")"
   ]
  },
  {
   "cell_type": "code",
   "execution_count": null,
   "metadata": {
    "scrolled": false
   },
   "outputs": [],
   "source": [
    "print('2016 >',abs(result[0]['diff']).sum())\n",
    "result[0]"
   ]
  },
  {
   "cell_type": "code",
   "execution_count": null,
   "metadata": {
    "scrolled": false
   },
   "outputs": [],
   "source": [
    "print('2017 >',abs(result[1]['diff']).sum())\n",
    "result[1]"
   ]
  },
  {
   "cell_type": "code",
   "execution_count": null,
   "metadata": {
    "scrolled": false
   },
   "outputs": [],
   "source": [
    "print('2018 >',abs(result[2]['diff']).sum())\n",
    "result[2]"
   ]
  },
  {
   "cell_type": "code",
   "execution_count": null,
   "metadata": {
    "scrolled": false
   },
   "outputs": [],
   "source": [
    "print('2019 >',abs(result[3]['diff']).sum())\n",
    "result[3]"
   ]
  },
  {
   "cell_type": "code",
   "execution_count": null,
   "metadata": {},
   "outputs": [],
   "source": []
  },
  {
   "cell_type": "code",
   "execution_count": null,
   "metadata": {},
   "outputs": [],
   "source": []
  }
 ],
 "metadata": {
  "kernelspec": {
   "display_name": "Python [default]",
   "language": "python",
   "name": "python3"
  },
  "language_info": {
   "codemirror_mode": {
    "name": "ipython",
    "version": 3
   },
   "file_extension": ".py",
   "mimetype": "text/x-python",
   "name": "python",
   "nbconvert_exporter": "python",
   "pygments_lexer": "ipython3",
   "version": "3.6.5"
  }
 },
 "nbformat": 4,
 "nbformat_minor": 2
}
