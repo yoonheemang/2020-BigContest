{
 "cells": [
  {
   "cell_type": "markdown",
   "metadata": {},
   "source": [
    "# 타율 예측"
   ]
  },
  {
   "cell_type": "markdown",
   "metadata": {},
   "source": [
    "**직전 50경기 타율들과 평균타율, 승률, 방어율로 이후 20경기 예측하기\n",
    "\n",
    "    train set : 14-63 / 24-83 / 54-103 번째 경기\n",
    "    test set  : 74-123 번째 경기"
   ]
  },
  {
   "cell_type": "code",
   "execution_count": 1,
   "metadata": {},
   "outputs": [],
   "source": [
    "import pandas as pd\n",
    "import numpy as np\n",
    "import matplotlib.pyplot as plt"
   ]
  },
  {
   "cell_type": "markdown",
   "metadata": {},
   "source": [
    "## 1. 데이터 가져오기"
   ]
  },
  {
   "cell_type": "code",
   "execution_count": 2,
   "metadata": {},
   "outputs": [],
   "source": [
    "t_bat16=pd.read_csv(\"C:/Users/a/Desktop/2020빅콘/제공데이터/제공데이터(.CSV)_시즌별, 시트별 구분/2020빅콘테스트_스포츠투아이_제공데이터_팀타자_2016.csv\",encoding='utf-8',engine='python')\n",
    "t_bat17=pd.read_csv(\"C:/Users/a/Desktop/2020빅콘/제공데이터/제공데이터(.CSV)_시즌별, 시트별 구분/2020빅콘테스트_스포츠투아이_제공데이터_팀타자_2017.csv\",encoding='utf-8',engine='python')\n",
    "t_bat18=pd.read_csv(\"C:/Users/a/Desktop/2020빅콘/제공데이터/제공데이터(.CSV)_시즌별, 시트별 구분/2020빅콘테스트_스포츠투아이_제공데이터_팀타자_2018.csv\",encoding='utf-8',engine='python')\n",
    "t_bat19=pd.read_csv(\"C:/Users/a/Desktop/2020빅콘/제공데이터/제공데이터(.CSV)_시즌별, 시트별 구분/2020빅콘테스트_스포츠투아이_제공데이터_팀타자_2019.csv\",encoding='utf-8',engine='python')"
   ]
  },
  {
   "cell_type": "code",
   "execution_count": 3,
   "metadata": {},
   "outputs": [],
   "source": [
    "t_pit16=pd.read_csv(\"C:/Users/a/Desktop/2020빅콘/제공데이터/제공데이터(.CSV)_시즌별, 시트별 구분/2020빅콘테스트_스포츠투아이_제공데이터_팀투수_2016.csv\",encoding='utf-8',engine='python')\n",
    "t_pit17=pd.read_csv(\"C:/Users/a/Desktop/2020빅콘/제공데이터/제공데이터(.CSV)_시즌별, 시트별 구분/2020빅콘테스트_스포츠투아이_제공데이터_팀투수_2017.csv\",encoding='utf-8',engine='python')\n",
    "t_pit18=pd.read_csv(\"C:/Users/a/Desktop/2020빅콘/제공데이터/제공데이터(.CSV)_시즌별, 시트별 구분/2020빅콘테스트_스포츠투아이_제공데이터_팀투수_2018.csv\",encoding='utf-8',engine='python')\n",
    "t_pit19=pd.read_csv(\"C:/Users/a/Desktop/2020빅콘/제공데이터/제공데이터(.CSV)_시즌별, 시트별 구분/2020빅콘테스트_스포츠투아이_제공데이터_팀투수_2019.csv\",encoding='utf-8',engine='python')"
   ]
  },
  {
   "cell_type": "code",
   "execution_count": 4,
   "metadata": {},
   "outputs": [],
   "source": [
    "#모든 열 다 출력하기\n",
    "pd.options.display.max_columns=None"
   ]
  },
  {
   "cell_type": "markdown",
   "metadata": {},
   "source": [
    "## 2. train test 셋 만들기"
   ]
  },
  {
   "cell_type": "code",
   "execution_count": 5,
   "metadata": {},
   "outputs": [],
   "source": [
    "team=['HH', 'HT', 'KT', 'LG', 'LT', 'NC', 'OB', 'SK', 'SS', 'WO']"
   ]
  },
  {
   "cell_type": "markdown",
   "metadata": {},
   "source": [
    "#### 승률 변수 만들기"
   ]
  },
  {
   "cell_type": "code",
   "execution_count": 6,
   "metadata": {},
   "outputs": [],
   "source": [
    "pd.set_option('mode.chained_assignment',None) #chain copy warning 제거하기\n",
    "\n",
    "def make_win_lose(data):\n",
    "    data['W']=0; data['L']=0\n",
    "    data['W'][data['WLS']=='W']=1\n",
    "    data['L'][data['WLS']=='L']=1\n",
    "    return data"
   ]
  },
  {
   "cell_type": "code",
   "execution_count": 7,
   "metadata": {
    "scrolled": true
   },
   "outputs": [],
   "source": [
    "#팀투수 데이터에 승,패 여부 추가\n",
    "data_list=[t_pit16,t_pit17,t_pit18,t_pit19] \n",
    "for data in data_list:\n",
    "    data=make_win_lose(data)"
   ]
  },
  {
   "cell_type": "code",
   "execution_count": 8,
   "metadata": {
    "scrolled": true
   },
   "outputs": [],
   "source": [
    "#팀타자 데이터에 승,패 변수 추가\n",
    "t_bat16=pd.merge(t_bat16,t_pit16[['G_ID','T_ID','W','L','ER','INN2']],on=['G_ID','T_ID'])\n",
    "t_bat17=pd.merge(t_bat17,t_pit17[['G_ID','T_ID','W','L','ER','INN2']],on=['G_ID','T_ID'])\n",
    "t_bat18=pd.merge(t_bat18,t_pit18[['G_ID','T_ID','W','L','ER','INN2']],on=['G_ID','T_ID'])\n",
    "t_bat19=pd.merge(t_bat19,t_pit19[['G_ID','T_ID','W','L','ER','INN2']],on=['G_ID','T_ID'])"
   ]
  },
  {
   "cell_type": "markdown",
   "metadata": {},
   "source": [
    "#### 타율 변수 만드는 함수"
   ]
  },
  {
   "cell_type": "code",
   "execution_count": 9,
   "metadata": {},
   "outputs": [],
   "source": [
    "def make_data(train_data,answer_data):\n",
    "    train_data['HIT_RATE']=train_data['HIT']/train_data['AB']\n",
    "    tr=train_data[['T_ID','HIT_RATE']]                          #경기당 팀과 타율만 남김\n",
    "    num=list(range(1,int((len(train_data)/10)+1)))*10           #팀별 경기순서 추가\n",
    "    tr=tr.assign(order=num)\n",
    "    tr=tr.pivot(index='T_ID',columns='order',values='HIT_RATE') #팀당 경기별 타율 데이터셋 만들기\n",
    "    \n",
    "    data=pd.merge(tr,answer_data,on='T_ID')                     #팀별 앞124경기와 후20경기 결과 합치기\n",
    "    return data"
   ]
  },
  {
   "cell_type": "markdown",
   "metadata": {},
   "source": [
    "#### train, test set 만드는 함수"
   ]
  },
  {
   "cell_type": "code",
   "execution_count": 10,
   "metadata": {},
   "outputs": [],
   "source": [
    "t_bat=[t_bat16,t_bat17,t_bat18,t_bat19]\n",
    "def make_answer_train(year):\n",
    "    a=t_bat[year-2016][['T_ID','HIT','AB','W','L','ER','INN2']]  \n",
    "    data=pd.DataFrame()  #빈 데이터프레임 만들기\n",
    "    pa=pd.DataFrame()    #빈 데이터프레임 만들기\n",
    "\n",
    "    train_data=[pd.DataFrame() for var in range(1,5)]   #50경기씩 묶일 데이터프레임\n",
    "    answer=[pd.DataFrame() for var in range(1,5)]       #최종 후반 20경기 묶일 데이터프레임\n",
    "        \n",
    "    for i in range(4):\n",
    "        tra=train_data[i]\n",
    "        ans=answer[i]\n",
    "        for t in team:\n",
    "            tra=pd.concat([tra,a[a['T_ID']==t][14+i*20:14+50+i*20]])     #각 팀별 앞 14경기 제외하고, 50경기씩 묶음(train set)\n",
    "            ans=pd.concat([ans,a[a['T_ID']==t][14+50+i*20:14+70+i*20]])  #train set의 경기의 다음 20경기 묶음(test set)\n",
    "    \n",
    "        #팀별 AB,HIT합 구하기\n",
    "        ans=ans.groupby(['T_ID']).sum()\n",
    "        ans['HIT_RATE']=ans['HIT']/ans['AB']              #타율 계산\n",
    "        ans=ans.drop(ans.columns[list(range(6))],axis='columns')\n",
    "        \n",
    "        #변수 생성\n",
    "        tr=tra.groupby(['T_ID']).sum() \n",
    "        tr['WINNING_RATE'] = tr['W']/(tr['W']+tr['L'])    #승률 변수생성\n",
    "        tr['ERA'] = tr['ER']*27/tr['INN2']                #방어율 변수생성\n",
    "        \n",
    "        #변수 삭제\n",
    "        tr=tr.drop(['HIT','W','L','ER','INN2'],axis='columns')\n",
    "        \n",
    "        if i <3:\n",
    "            data=pd.concat([data,make_data(tra,ans)])  \n",
    "            pa=pd.concat([pa,tr])\n",
    "        else:\n",
    "            test_data=make_data(tra,ans)\n",
    "            test_data['WINNING_RATE']=tr['WINNING_RATE']   #test set에 승률 추가\n",
    "            test_data['ERA']=tr['ERA']                     #test set에 ERA 추가\n",
    "            \n",
    "    #변수 추가\n",
    "    data['MEAN']=data.iloc[:,:50].mean(axis=1)             #train set에 평균 추가\n",
    "    test_data['MEAN']=test_data.iloc[:,:50].mean(axis=1)   #test set 에 평균 추가\n",
    "    data['WINNING_RATE']=pa['WINNING_RATE']                #train set에 승률 추가\n",
    "    data['ERA']=pa['ERA']                                  #train set에 ERA 추가\n",
    "        \n",
    "    return data,test_data"
   ]
  },
  {
   "cell_type": "code",
   "execution_count": 11,
   "metadata": {
    "scrolled": true
   },
   "outputs": [],
   "source": [
    "#train, test set 만들기\n",
    "train16,test16=make_answer_train(2016)\n",
    "train17,test17=make_answer_train(2017)\n",
    "train18,test18=make_answer_train(2018)\n",
    "train19,test19=make_answer_train(2019)"
   ]
  },
  {
   "cell_type": "markdown",
   "metadata": {},
   "source": [
    "## 3. 모델학습(Random Forest)"
   ]
  },
  {
   "cell_type": "code",
   "execution_count": 12,
   "metadata": {},
   "outputs": [],
   "source": [
    "# 모델 모듈\n",
    "from sklearn.ensemble import RandomForestRegressor\n",
    "from sklearn.metrics import mean_squared_error, r2_score"
   ]
  },
  {
   "cell_type": "code",
   "execution_count": 13,
   "metadata": {
    "scrolled": true
   },
   "outputs": [],
   "source": [
    "X_cols=list(range(1,51))+['MEAN','WINNING_RATE','ERA']\n",
    "Y_col=['HIT_RATE']"
   ]
  },
  {
   "cell_type": "code",
   "execution_count": 14,
   "metadata": {},
   "outputs": [],
   "source": [
    "train_list=[train16,train17,train18,train19]\n",
    "test_list=[test16,test17,test18,test19]"
   ]
  },
  {
   "cell_type": "code",
   "execution_count": 15,
   "metadata": {
    "scrolled": true
   },
   "outputs": [
    {
     "name": "stdout",
     "output_type": "stream",
     "text": [
      "2016 >\tr2 : -0.34724847366520306 \t차이합 : 0.09793047322286585\n",
      "2017 >\tr2 : 0.10502049910785749 \t차이합 : 0.11828556352453623\n",
      "2018 >\tr2 : 0.2921787736500143 \t차이합 : 0.12427250371235726\n",
      "2019 >\tr2 : -1.3811789824832128 \t차이합 : 0.2252243315141516\n"
     ]
    }
   ],
   "source": [
    "#4개년 랜포 돌려보기\n",
    "result=[]\n",
    "for i in range(4):\n",
    "    train=train_list[i];  test=test_list[i]\n",
    "    X_train = train[X_cols]; Y_train = train[Y_col]\n",
    "    X_test = test[X_cols]; Y_test = test[Y_col]\n",
    "\n",
    "    model = RandomForestRegressor(random_state=1234)\n",
    "    Y_train=Y_train.values.ravel()          #rf에서의 오류 없애기 위함\n",
    "    model.fit(X_train, Y_train) \n",
    "    Y_predict = model.predict(X_test)\n",
    "\n",
    "    r2=r2_score(Y_test, Y_predict) \n",
    "\n",
    "    result.append(Y_test.assign(predict=Y_predict))\n",
    "    result[i]['diff']=result[i]['HIT_RATE']-result[i]['predict']\n",
    "    print(i+2016,\">\\tr2 :\", r2,\"\\t차이합 :\",abs(result[i]['diff']).sum())"
   ]
  },
  {
   "cell_type": "markdown",
   "metadata": {},
   "source": [
    "### 예측값과 실제값 차이"
   ]
  },
  {
   "cell_type": "code",
   "execution_count": 16,
   "metadata": {
    "scrolled": false
   },
   "outputs": [
    {
     "name": "stdout",
     "output_type": "stream",
     "text": [
      "2016 > 0.09793047322286585\n"
     ]
    },
    {
     "data": {
      "text/html": [
       "<div>\n",
       "<style scoped>\n",
       "    .dataframe tbody tr th:only-of-type {\n",
       "        vertical-align: middle;\n",
       "    }\n",
       "\n",
       "    .dataframe tbody tr th {\n",
       "        vertical-align: top;\n",
       "    }\n",
       "\n",
       "    .dataframe thead th {\n",
       "        text-align: right;\n",
       "    }\n",
       "</style>\n",
       "<table border=\"1\" class=\"dataframe\">\n",
       "  <thead>\n",
       "    <tr style=\"text-align: right;\">\n",
       "      <th></th>\n",
       "      <th>HIT_RATE</th>\n",
       "      <th>predict</th>\n",
       "      <th>diff</th>\n",
       "    </tr>\n",
       "    <tr>\n",
       "      <th>T_ID</th>\n",
       "      <th></th>\n",
       "      <th></th>\n",
       "      <th></th>\n",
       "    </tr>\n",
       "  </thead>\n",
       "  <tbody>\n",
       "    <tr>\n",
       "      <th>HH</th>\n",
       "      <td>0.291317</td>\n",
       "      <td>0.301063</td>\n",
       "      <td>-0.009747</td>\n",
       "    </tr>\n",
       "    <tr>\n",
       "      <th>HT</th>\n",
       "      <td>0.263400</td>\n",
       "      <td>0.298136</td>\n",
       "      <td>-0.034736</td>\n",
       "    </tr>\n",
       "    <tr>\n",
       "      <th>KT</th>\n",
       "      <td>0.288630</td>\n",
       "      <td>0.294050</td>\n",
       "      <td>-0.005420</td>\n",
       "    </tr>\n",
       "    <tr>\n",
       "      <th>LG</th>\n",
       "      <td>0.289706</td>\n",
       "      <td>0.296720</td>\n",
       "      <td>-0.007014</td>\n",
       "    </tr>\n",
       "    <tr>\n",
       "      <th>LT</th>\n",
       "      <td>0.314448</td>\n",
       "      <td>0.286100</td>\n",
       "      <td>0.028348</td>\n",
       "    </tr>\n",
       "    <tr>\n",
       "      <th>NC</th>\n",
       "      <td>0.291429</td>\n",
       "      <td>0.294071</td>\n",
       "      <td>-0.002642</td>\n",
       "    </tr>\n",
       "    <tr>\n",
       "      <th>OB</th>\n",
       "      <td>0.304654</td>\n",
       "      <td>0.301840</td>\n",
       "      <td>0.002814</td>\n",
       "    </tr>\n",
       "    <tr>\n",
       "      <th>SK</th>\n",
       "      <td>0.300562</td>\n",
       "      <td>0.298544</td>\n",
       "      <td>0.002018</td>\n",
       "    </tr>\n",
       "    <tr>\n",
       "      <th>SS</th>\n",
       "      <td>0.285311</td>\n",
       "      <td>0.287198</td>\n",
       "      <td>-0.001887</td>\n",
       "    </tr>\n",
       "    <tr>\n",
       "      <th>WO</th>\n",
       "      <td>0.286533</td>\n",
       "      <td>0.289837</td>\n",
       "      <td>-0.003304</td>\n",
       "    </tr>\n",
       "  </tbody>\n",
       "</table>\n",
       "</div>"
      ],
      "text/plain": [
       "      HIT_RATE   predict      diff\n",
       "T_ID                              \n",
       "HH    0.291317  0.301063 -0.009747\n",
       "HT    0.263400  0.298136 -0.034736\n",
       "KT    0.288630  0.294050 -0.005420\n",
       "LG    0.289706  0.296720 -0.007014\n",
       "LT    0.314448  0.286100  0.028348\n",
       "NC    0.291429  0.294071 -0.002642\n",
       "OB    0.304654  0.301840  0.002814\n",
       "SK    0.300562  0.298544  0.002018\n",
       "SS    0.285311  0.287198 -0.001887\n",
       "WO    0.286533  0.289837 -0.003304"
      ]
     },
     "execution_count": 16,
     "metadata": {},
     "output_type": "execute_result"
    }
   ],
   "source": [
    "print('2016 >',abs(result[0]['diff']).sum())\n",
    "result[0]"
   ]
  },
  {
   "cell_type": "code",
   "execution_count": 17,
   "metadata": {},
   "outputs": [
    {
     "name": "stdout",
     "output_type": "stream",
     "text": [
      "2017 > 0.11828556352453623\n"
     ]
    },
    {
     "data": {
      "text/html": [
       "<div>\n",
       "<style scoped>\n",
       "    .dataframe tbody tr th:only-of-type {\n",
       "        vertical-align: middle;\n",
       "    }\n",
       "\n",
       "    .dataframe tbody tr th {\n",
       "        vertical-align: top;\n",
       "    }\n",
       "\n",
       "    .dataframe thead th {\n",
       "        text-align: right;\n",
       "    }\n",
       "</style>\n",
       "<table border=\"1\" class=\"dataframe\">\n",
       "  <thead>\n",
       "    <tr style=\"text-align: right;\">\n",
       "      <th></th>\n",
       "      <th>HIT_RATE</th>\n",
       "      <th>predict</th>\n",
       "      <th>diff</th>\n",
       "    </tr>\n",
       "    <tr>\n",
       "      <th>T_ID</th>\n",
       "      <th></th>\n",
       "      <th></th>\n",
       "      <th></th>\n",
       "    </tr>\n",
       "  </thead>\n",
       "  <tbody>\n",
       "    <tr>\n",
       "      <th>HH</th>\n",
       "      <td>0.275568</td>\n",
       "      <td>0.294748</td>\n",
       "      <td>-0.019180</td>\n",
       "    </tr>\n",
       "    <tr>\n",
       "      <th>HT</th>\n",
       "      <td>0.298295</td>\n",
       "      <td>0.295506</td>\n",
       "      <td>0.002789</td>\n",
       "    </tr>\n",
       "    <tr>\n",
       "      <th>KT</th>\n",
       "      <td>0.297486</td>\n",
       "      <td>0.288253</td>\n",
       "      <td>0.009233</td>\n",
       "    </tr>\n",
       "    <tr>\n",
       "      <th>LG</th>\n",
       "      <td>0.271533</td>\n",
       "      <td>0.282038</td>\n",
       "      <td>-0.010505</td>\n",
       "    </tr>\n",
       "    <tr>\n",
       "      <th>LT</th>\n",
       "      <td>0.296296</td>\n",
       "      <td>0.291901</td>\n",
       "      <td>0.004395</td>\n",
       "    </tr>\n",
       "    <tr>\n",
       "      <th>NC</th>\n",
       "      <td>0.331579</td>\n",
       "      <td>0.291498</td>\n",
       "      <td>0.040081</td>\n",
       "    </tr>\n",
       "    <tr>\n",
       "      <th>OB</th>\n",
       "      <td>0.295105</td>\n",
       "      <td>0.288795</td>\n",
       "      <td>0.006310</td>\n",
       "    </tr>\n",
       "    <tr>\n",
       "      <th>SK</th>\n",
       "      <td>0.297450</td>\n",
       "      <td>0.295501</td>\n",
       "      <td>0.001949</td>\n",
       "    </tr>\n",
       "    <tr>\n",
       "      <th>SS</th>\n",
       "      <td>0.290323</td>\n",
       "      <td>0.286012</td>\n",
       "      <td>0.004311</td>\n",
       "    </tr>\n",
       "    <tr>\n",
       "      <th>WO</th>\n",
       "      <td>0.268226</td>\n",
       "      <td>0.287758</td>\n",
       "      <td>-0.019533</td>\n",
       "    </tr>\n",
       "  </tbody>\n",
       "</table>\n",
       "</div>"
      ],
      "text/plain": [
       "      HIT_RATE   predict      diff\n",
       "T_ID                              \n",
       "HH    0.275568  0.294748 -0.019180\n",
       "HT    0.298295  0.295506  0.002789\n",
       "KT    0.297486  0.288253  0.009233\n",
       "LG    0.271533  0.282038 -0.010505\n",
       "LT    0.296296  0.291901  0.004395\n",
       "NC    0.331579  0.291498  0.040081\n",
       "OB    0.295105  0.288795  0.006310\n",
       "SK    0.297450  0.295501  0.001949\n",
       "SS    0.290323  0.286012  0.004311\n",
       "WO    0.268226  0.287758 -0.019533"
      ]
     },
     "execution_count": 17,
     "metadata": {},
     "output_type": "execute_result"
    }
   ],
   "source": [
    "print('2017 >',abs(result[1]['diff']).sum())\n",
    "result[1]"
   ]
  },
  {
   "cell_type": "code",
   "execution_count": 18,
   "metadata": {},
   "outputs": [
    {
     "name": "stdout",
     "output_type": "stream",
     "text": [
      "2018 > 0.12427250371235726\n"
     ]
    },
    {
     "data": {
      "text/html": [
       "<div>\n",
       "<style scoped>\n",
       "    .dataframe tbody tr th:only-of-type {\n",
       "        vertical-align: middle;\n",
       "    }\n",
       "\n",
       "    .dataframe tbody tr th {\n",
       "        vertical-align: top;\n",
       "    }\n",
       "\n",
       "    .dataframe thead th {\n",
       "        text-align: right;\n",
       "    }\n",
       "</style>\n",
       "<table border=\"1\" class=\"dataframe\">\n",
       "  <thead>\n",
       "    <tr style=\"text-align: right;\">\n",
       "      <th></th>\n",
       "      <th>HIT_RATE</th>\n",
       "      <th>predict</th>\n",
       "      <th>diff</th>\n",
       "    </tr>\n",
       "    <tr>\n",
       "      <th>T_ID</th>\n",
       "      <th></th>\n",
       "      <th></th>\n",
       "      <th></th>\n",
       "    </tr>\n",
       "  </thead>\n",
       "  <tbody>\n",
       "    <tr>\n",
       "      <th>HH</th>\n",
       "      <td>0.276878</td>\n",
       "      <td>0.283936</td>\n",
       "      <td>-0.007058</td>\n",
       "    </tr>\n",
       "    <tr>\n",
       "      <th>HT</th>\n",
       "      <td>0.279830</td>\n",
       "      <td>0.287772</td>\n",
       "      <td>-0.007942</td>\n",
       "    </tr>\n",
       "    <tr>\n",
       "      <th>KT</th>\n",
       "      <td>0.287879</td>\n",
       "      <td>0.293752</td>\n",
       "      <td>-0.005874</td>\n",
       "    </tr>\n",
       "    <tr>\n",
       "      <th>LG</th>\n",
       "      <td>0.267908</td>\n",
       "      <td>0.286285</td>\n",
       "      <td>-0.018377</td>\n",
       "    </tr>\n",
       "    <tr>\n",
       "      <th>LT</th>\n",
       "      <td>0.300699</td>\n",
       "      <td>0.288046</td>\n",
       "      <td>0.012653</td>\n",
       "    </tr>\n",
       "    <tr>\n",
       "      <th>NC</th>\n",
       "      <td>0.271408</td>\n",
       "      <td>0.283710</td>\n",
       "      <td>-0.012302</td>\n",
       "    </tr>\n",
       "    <tr>\n",
       "      <th>OB</th>\n",
       "      <td>0.315646</td>\n",
       "      <td>0.300869</td>\n",
       "      <td>0.014778</td>\n",
       "    </tr>\n",
       "    <tr>\n",
       "      <th>SK</th>\n",
       "      <td>0.281471</td>\n",
       "      <td>0.291455</td>\n",
       "      <td>-0.009984</td>\n",
       "    </tr>\n",
       "    <tr>\n",
       "      <th>SS</th>\n",
       "      <td>0.306207</td>\n",
       "      <td>0.296996</td>\n",
       "      <td>0.009211</td>\n",
       "    </tr>\n",
       "    <tr>\n",
       "      <th>WO</th>\n",
       "      <td>0.264234</td>\n",
       "      <td>0.290327</td>\n",
       "      <td>-0.026093</td>\n",
       "    </tr>\n",
       "  </tbody>\n",
       "</table>\n",
       "</div>"
      ],
      "text/plain": [
       "      HIT_RATE   predict      diff\n",
       "T_ID                              \n",
       "HH    0.276878  0.283936 -0.007058\n",
       "HT    0.279830  0.287772 -0.007942\n",
       "KT    0.287879  0.293752 -0.005874\n",
       "LG    0.267908  0.286285 -0.018377\n",
       "LT    0.300699  0.288046  0.012653\n",
       "NC    0.271408  0.283710 -0.012302\n",
       "OB    0.315646  0.300869  0.014778\n",
       "SK    0.281471  0.291455 -0.009984\n",
       "SS    0.306207  0.296996  0.009211\n",
       "WO    0.264234  0.290327 -0.026093"
      ]
     },
     "execution_count": 18,
     "metadata": {},
     "output_type": "execute_result"
    }
   ],
   "source": [
    "print('2018 >',abs(result[2]['diff']).sum())\n",
    "result[2]"
   ]
  },
  {
   "cell_type": "code",
   "execution_count": 19,
   "metadata": {},
   "outputs": [
    {
     "name": "stdout",
     "output_type": "stream",
     "text": [
      "2019 > 0.2252243315141516\n"
     ]
    },
    {
     "data": {
      "text/html": [
       "<div>\n",
       "<style scoped>\n",
       "    .dataframe tbody tr th:only-of-type {\n",
       "        vertical-align: middle;\n",
       "    }\n",
       "\n",
       "    .dataframe tbody tr th {\n",
       "        vertical-align: top;\n",
       "    }\n",
       "\n",
       "    .dataframe thead th {\n",
       "        text-align: right;\n",
       "    }\n",
       "</style>\n",
       "<table border=\"1\" class=\"dataframe\">\n",
       "  <thead>\n",
       "    <tr style=\"text-align: right;\">\n",
       "      <th></th>\n",
       "      <th>HIT_RATE</th>\n",
       "      <th>predict</th>\n",
       "      <th>diff</th>\n",
       "    </tr>\n",
       "    <tr>\n",
       "      <th>T_ID</th>\n",
       "      <th></th>\n",
       "      <th></th>\n",
       "      <th></th>\n",
       "    </tr>\n",
       "  </thead>\n",
       "  <tbody>\n",
       "    <tr>\n",
       "      <th>HH</th>\n",
       "      <td>0.266764</td>\n",
       "      <td>0.264463</td>\n",
       "      <td>0.002301</td>\n",
       "    </tr>\n",
       "    <tr>\n",
       "      <th>HT</th>\n",
       "      <td>0.253373</td>\n",
       "      <td>0.268567</td>\n",
       "      <td>-0.015194</td>\n",
       "    </tr>\n",
       "    <tr>\n",
       "      <th>KT</th>\n",
       "      <td>0.272321</td>\n",
       "      <td>0.267121</td>\n",
       "      <td>0.005200</td>\n",
       "    </tr>\n",
       "    <tr>\n",
       "      <th>LG</th>\n",
       "      <td>0.257485</td>\n",
       "      <td>0.273886</td>\n",
       "      <td>-0.016401</td>\n",
       "    </tr>\n",
       "    <tr>\n",
       "      <th>LT</th>\n",
       "      <td>0.220877</td>\n",
       "      <td>0.271000</td>\n",
       "      <td>-0.050123</td>\n",
       "    </tr>\n",
       "    <tr>\n",
       "      <th>NC</th>\n",
       "      <td>0.275109</td>\n",
       "      <td>0.267633</td>\n",
       "      <td>0.007476</td>\n",
       "    </tr>\n",
       "    <tr>\n",
       "      <th>OB</th>\n",
       "      <td>0.281690</td>\n",
       "      <td>0.269475</td>\n",
       "      <td>0.012215</td>\n",
       "    </tr>\n",
       "    <tr>\n",
       "      <th>SK</th>\n",
       "      <td>0.239695</td>\n",
       "      <td>0.290985</td>\n",
       "      <td>-0.051290</td>\n",
       "    </tr>\n",
       "    <tr>\n",
       "      <th>SS</th>\n",
       "      <td>0.232061</td>\n",
       "      <td>0.277658</td>\n",
       "      <td>-0.045596</td>\n",
       "    </tr>\n",
       "    <tr>\n",
       "      <th>WO</th>\n",
       "      <td>0.251479</td>\n",
       "      <td>0.270907</td>\n",
       "      <td>-0.019428</td>\n",
       "    </tr>\n",
       "  </tbody>\n",
       "</table>\n",
       "</div>"
      ],
      "text/plain": [
       "      HIT_RATE   predict      diff\n",
       "T_ID                              \n",
       "HH    0.266764  0.264463  0.002301\n",
       "HT    0.253373  0.268567 -0.015194\n",
       "KT    0.272321  0.267121  0.005200\n",
       "LG    0.257485  0.273886 -0.016401\n",
       "LT    0.220877  0.271000 -0.050123\n",
       "NC    0.275109  0.267633  0.007476\n",
       "OB    0.281690  0.269475  0.012215\n",
       "SK    0.239695  0.290985 -0.051290\n",
       "SS    0.232061  0.277658 -0.045596\n",
       "WO    0.251479  0.270907 -0.019428"
      ]
     },
     "execution_count": 19,
     "metadata": {},
     "output_type": "execute_result"
    }
   ],
   "source": [
    "print('2019 >',abs(result[3]['diff']).sum())\n",
    "result[3]"
   ]
  },
  {
   "cell_type": "code",
   "execution_count": null,
   "metadata": {},
   "outputs": [],
   "source": []
  }
 ],
 "metadata": {
  "kernelspec": {
   "display_name": "Python [default]",
   "language": "python",
   "name": "python3"
  },
  "language_info": {
   "codemirror_mode": {
    "name": "ipython",
    "version": 3
   },
   "file_extension": ".py",
   "mimetype": "text/x-python",
   "name": "python",
   "nbconvert_exporter": "python",
   "pygments_lexer": "ipython3",
   "version": "3.6.5"
  }
 },
 "nbformat": 4,
 "nbformat_minor": 2
}
