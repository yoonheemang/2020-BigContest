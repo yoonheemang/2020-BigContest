{
 "cells": [
  {
   "cell_type": "markdown",
   "metadata": {},
   "source": [
    "1. 열에 전체 평균 추가\n",
    "\n",
    "2. 열에 중앙값 추가"
   ]
  },
  {
   "cell_type": "code",
   "execution_count": 324,
   "metadata": {},
   "outputs": [],
   "source": [
    "import pandas as pd\n",
    "import numpy as np\n",
    "import matplotlib.pyplot as plt"
   ]
  },
  {
   "cell_type": "markdown",
   "metadata": {},
   "source": [
    "## 1. 데이터 가져오기"
   ]
  },
  {
   "cell_type": "code",
   "execution_count": 325,
   "metadata": {},
   "outputs": [],
   "source": [
    "t_bat16=pd.read_csv(\"C:/Users/a/Desktop/2020빅콘/제공데이터/제공데이터(.CSV)_시즌별, 시트별 구분/2020빅콘테스트_스포츠투아이_제공데이터_팀타자_2016.csv\",encoding='utf-8',engine='python')\n",
    "t_bat17=pd.read_csv(\"C:/Users/a/Desktop/2020빅콘/제공데이터/제공데이터(.CSV)_시즌별, 시트별 구분/2020빅콘테스트_스포츠투아이_제공데이터_팀타자_2017.csv\",encoding='utf-8',engine='python')\n",
    "t_bat18=pd.read_csv(\"C:/Users/a/Desktop/2020빅콘/제공데이터/제공데이터(.CSV)_시즌별, 시트별 구분/2020빅콘테스트_스포츠투아이_제공데이터_팀타자_2018.csv\",encoding='utf-8',engine='python')\n",
    "t_bat19=pd.read_csv(\"C:/Users/a/Desktop/2020빅콘/제공데이터/제공데이터(.CSV)_시즌별, 시트별 구분/2020빅콘테스트_스포츠투아이_제공데이터_팀타자_2019.csv\",encoding='utf-8',engine='python')"
   ]
  },
  {
   "cell_type": "code",
   "execution_count": 326,
   "metadata": {},
   "outputs": [],
   "source": [
    "#모든 열 다 출력하기\n",
    "pd.options.display.max_columns=None"
   ]
  },
  {
   "cell_type": "markdown",
   "metadata": {},
   "source": [
    "## 2. train test 셋 만들기"
   ]
  },
  {
   "cell_type": "code",
   "execution_count": 327,
   "metadata": {},
   "outputs": [],
   "source": [
    "team=['HH', 'HT', 'KT', 'LG', 'LT', 'NC', 'OB', 'SK', 'SS', 'WO']"
   ]
  },
  {
   "cell_type": "code",
   "execution_count": 328,
   "metadata": {},
   "outputs": [],
   "source": [
    "def make_data(train,answer):\n",
    "    train['HIT_RATE']=train['HIT']/train['AB']\n",
    "    tr=train[['T_ID','HIT_RATE']]  #경기당 팀과 타율만 남김\n",
    "    num=list(range(1,int((len(train)/10)+1)))*10  #팀별 경기순서 추가\n",
    "    tr=tr.assign(order=num)\n",
    "    tr=tr.pivot(index='T_ID',columns='order',values='HIT_RATE') #팀당 경기별 타율 데이터셋 만들기\n",
    "    \n",
    "    data=pd.merge(tr,answer,on='T_ID') #팀별 앞124경기와 후20경기 결과 합치기\n",
    "    return data"
   ]
  },
  {
   "cell_type": "code",
   "execution_count": 329,
   "metadata": {},
   "outputs": [],
   "source": [
    "#정답 셋과 train 셋 만드는 함수\n",
    "t_bat=[t_bat16,t_bat17,t_bat18,t_bat19]\n",
    "def make_answer_train(year):\n",
    "    a=t_bat[year-2016][['T_ID','AB','HIT']][140:]  #각 팀당 앞 14경기 버리기\n",
    "    data=pd.DataFrame()  #빈 데이터프레임 만들기\n",
    "\n",
    "    train_name=['train' + str(i) for i in range(1,5)]\n",
    "    train=[pd.DataFrame() for var in train_name] #50경기씩 묶일 데이터셋\n",
    "    \n",
    "    ans_name=['ans' + str(i) for i in range(1,5)]\n",
    "    answer=[pd.DataFrame() for var in ans_name]  #20경기씩 묶일 데이터셋\n",
    "        \n",
    "    for i in range(4):\n",
    "        tra=train[i]\n",
    "        ans=answer[i]\n",
    "        for t in team:\n",
    "            tra=pd.concat([tra,a[a['T_ID']==t][i*20:50+i*20]])\n",
    "            ans=pd.concat([ans,a[a['T_ID']==t][50+i*20:70+i*20]])\n",
    "\n",
    "        #팀별 AB,HIT합 구하기\n",
    "        ans=ans.groupby(['T_ID']).sum()\n",
    "        ans['HIT_RATE']=ans['HIT']/ans['AB'] #타율 계산\n",
    "        ans=ans.drop(ans.columns[[0,1]],axis='columns')\n",
    "\n",
    "        if i <3:\n",
    "            d=make_data(tra,ans)\n",
    "            data=pd.concat([data,d])\n",
    "        else:\n",
    "            test=make_data(tra,ans)\n",
    "            \n",
    "    data['mean']=data.mean(axis=1)\n",
    "    test['mean']=test.mean(axis=1)\n",
    "        \n",
    "    return data,test"
   ]
  },
  {
   "cell_type": "code",
   "execution_count": 330,
   "metadata": {
    "scrolled": true
   },
   "outputs": [],
   "source": [
    "train16,test16=make_answer_train(2016)\n",
    "train17,test17=make_answer_train(2017)\n",
    "train18,test18=make_answer_train(2018)\n",
    "train19,test19=make_answer_train(2019)"
   ]
  },
  {
   "cell_type": "markdown",
   "metadata": {},
   "source": [
    "## 3. 모델학습"
   ]
  },
  {
   "cell_type": "code",
   "execution_count": 331,
   "metadata": {},
   "outputs": [],
   "source": [
    "# 출력 할 때 마다, 기존 출력물들은 제거해주는 모듈\n",
    "from IPython.display import clear_output"
   ]
  },
  {
   "cell_type": "code",
   "execution_count": 332,
   "metadata": {},
   "outputs": [],
   "source": [
    "# 모델 모듈\n",
    "import xgboost\n",
    "from xgboost import XGBRegressor, plot_importance\n",
    "from lightgbm import LGBMRegressor\n",
    "from sklearn.ensemble import RandomForestRegressor\n",
    "from sklearn.svm import SVR\n",
    "from sklearn.linear_model import Ridge, Lasso, LinearRegression, ElasticNet\n",
    "from sklearn.neighbors import KNeighborsRegressor\n",
    "\n",
    "from sklearn.metrics import mean_squared_error, r2_score\n",
    "from sklearn.preprocessing import StandardScaler, MinMaxScaler"
   ]
  },
  {
   "cell_type": "code",
   "execution_count": 333,
   "metadata": {
    "scrolled": true
   },
   "outputs": [],
   "source": [
    "X_cols=list(range(1,51))+['mean']\n",
    "Y_col=['HIT_RATE']"
   ]
  },
  {
   "cell_type": "code",
   "execution_count": 334,
   "metadata": {},
   "outputs": [],
   "source": [
    "#### 학습시킬 모델\n",
    "model_dict = {'xgb':XGBRegressor(n_estimators=100, learning_rate=0.05 ,max_depth=3, random_state=23),\n",
    "    'lgbm':LGBMRegressor(),\n",
    "    'rf':RandomForestRegressor(),\n",
    "    'svr':SVR(),\n",
    "    'reg':LinearRegression(),\n",
    "    'ridge':Ridge(alpha=100,normalize=True),\n",
    "    'lasso':Lasso(alpha=0.05,normalize=True)}  #변수 자동 채택 / 많은 변수를 다룰때 활용"
   ]
  },
  {
   "cell_type": "markdown",
   "metadata": {},
   "source": [
    "*ridge : 모든 변수를 가지고 계수값을 줄임(모델 복잡/성능저하)\n",
    "\n",
    "*lasso : 변수들끼리 correlate하면 한개의 변수만 채택(정보손실 / 정확성 떨어질수있음)"
   ]
  },
  {
   "cell_type": "code",
   "execution_count": 499,
   "metadata": {},
   "outputs": [],
   "source": [
    "train=train18\n",
    "test=test18"
   ]
  },
  {
   "cell_type": "code",
   "execution_count": 500,
   "metadata": {
    "scrolled": true
   },
   "outputs": [
    {
     "name": "stdout",
     "output_type": "stream",
     "text": [
      "xgb  >  r2 : 0.5023441546080014\n",
      "차이합 : 0.08493419094223498 \n",
      "\n",
      "lgbm  >  r2 : -0.06386320292299819\n",
      "차이합 : 0.14853950835740048 \n",
      "\n",
      "rf  >  r2 : 0.2305044059143001\n",
      "차이합 : 0.11084641567963055 \n",
      "\n",
      "svr  >  r2 : -1.2016000838023682\n",
      "차이합 : 0.20726895587530558 \n",
      "\n",
      "reg  >  r2 : -1.6123009002527566\n",
      "차이합 : 0.19445582044855111 \n",
      "\n",
      "ridge  >  r2 : -0.021701682098784314\n",
      "차이합 : 0.14450982131303902 \n",
      "\n",
      "lasso  >  r2 : -0.06386308412594799\n",
      "차이합 : 0.14853949335024208 \n",
      "\n"
     ]
    }
   ],
   "source": [
    "X_train = train[X_cols]; Y_train = train[Y_col]\n",
    "X_test = test[X_cols]; Y_test = test[Y_col]\n",
    "\n",
    "#모델 여러개 돌려보기\n",
    "model_list=['xgb','lgbm','rf','svr','reg','ridge','lasso']\n",
    "for m in model_list:\n",
    "    model = model_dict[m]\n",
    "    if m=='rf': Y_train=Y_train.values.ravel()  #rf에서의 오류 없애기 위함\n",
    "    weight = train['mean']\n",
    "    model.fit(X_train, Y_train, sample_weight=weight)\n",
    "    Y_predict = model.predict(X_test)\n",
    "\n",
    "    r2=r2_score(Y_test, Y_predict)\n",
    "    print(m,\" >  r2 :\", r2)\n",
    "\n",
    "    a=Y_test.assign(predict=Y_predict)\n",
    "    a['diff']=a['HIT_RATE']-a['predict']\n",
    "    print(\"차이합 :\",abs(a['diff']).sum(),'\\n')"
   ]
  },
  {
   "cell_type": "markdown",
   "metadata": {},
   "source": [
    "1.xgb > \n",
    "test error :  0.030473062746451157\n",
    "r2 :  -1.6025540378090395\n",
    "\n",
    "2. lgbm > \n",
    "test error :  0.023667990843210612\n",
    "r2 :  -0.5844966959926894\n",
    "\n",
    "3. rf > \n",
    "test error :  0.026701733742022844\n",
    "r2 :  -0.9837975976370115\n",
    "\n",
    "4. svr > \n",
    "test error :  0.026801958767720648\n",
    "r2 :  -1.0269770908040021\n",
    "\n",
    "5. reg > \n",
    "test error :  0.029199656833724025\n",
    "r2 :  -1.383872792575123\n",
    "\n",
    "6. ridge > \n",
    "test error :  0.02405873512074495\n",
    "r2 :  -0.6394346821665295\n",
    "\n",
    "7. lasso > \n",
    "test error :  0.023667990992512277\n",
    "r2 :  -0.5844967159189454\n"
   ]
  },
  {
   "cell_type": "markdown",
   "metadata": {},
   "source": [
    "### 예측값과 실제값 차이"
   ]
  },
  {
   "cell_type": "code",
   "execution_count": 430,
   "metadata": {
    "scrolled": false
   },
   "outputs": [
    {
     "data": {
      "text/plain": [
       "Text(0,0.5,'예측 값')"
      ]
     },
     "execution_count": 430,
     "metadata": {},
     "output_type": "execute_result"
    },
    {
     "data": {
      "image/png": "[encoded data removed]",
      "text/plain": [
       "<Figure size 432x288 with 1 Axes>"
      ]
     },
     "metadata": {},
     "output_type": "display_data"
    }
   ],
   "source": [
    "# 예측값과 실제값의 시각화\n",
    "plt.scatter(Y_test, Y_predict)\n",
    "plt.xlabel(\"실제 값\")\n",
    "plt.ylabel(\"예측 값\")"
   ]
  },
  {
   "cell_type": "code",
   "execution_count": 433,
   "metadata": {
    "scrolled": false
   },
   "outputs": [
    {
     "data": {
      "text/html": [
       "<div>\n",
       "<style scoped>\n",
       "    .dataframe tbody tr th:only-of-type {\n",
       "        vertical-align: middle;\n",
       "    }\n",
       "\n",
       "    .dataframe tbody tr th {\n",
       "        vertical-align: top;\n",
       "    }\n",
       "\n",
       "    .dataframe thead th {\n",
       "        text-align: right;\n",
       "    }\n",
       "</style>\n",
       "<table border=\"1\" class=\"dataframe\">\n",
       "  <thead>\n",
       "    <tr style=\"text-align: right;\">\n",
       "      <th></th>\n",
       "      <th>HIT_RATE</th>\n",
       "      <th>predict</th>\n",
       "      <th>diff</th>\n",
       "    </tr>\n",
       "    <tr>\n",
       "      <th>T_ID</th>\n",
       "      <th></th>\n",
       "      <th></th>\n",
       "      <th></th>\n",
       "    </tr>\n",
       "  </thead>\n",
       "  <tbody>\n",
       "    <tr>\n",
       "      <th>HH</th>\n",
       "      <td>0.291317</td>\n",
       "      <td>0.288224</td>\n",
       "      <td>0.003092</td>\n",
       "    </tr>\n",
       "    <tr>\n",
       "      <th>HT</th>\n",
       "      <td>0.258915</td>\n",
       "      <td>0.288224</td>\n",
       "      <td>-0.029310</td>\n",
       "    </tr>\n",
       "    <tr>\n",
       "      <th>KT</th>\n",
       "      <td>0.285714</td>\n",
       "      <td>0.288224</td>\n",
       "      <td>-0.002510</td>\n",
       "    </tr>\n",
       "    <tr>\n",
       "      <th>LG</th>\n",
       "      <td>0.303907</td>\n",
       "      <td>0.288224</td>\n",
       "      <td>0.015683</td>\n",
       "    </tr>\n",
       "    <tr>\n",
       "      <th>LT</th>\n",
       "      <td>0.317037</td>\n",
       "      <td>0.288224</td>\n",
       "      <td>0.028813</td>\n",
       "    </tr>\n",
       "    <tr>\n",
       "      <th>NC</th>\n",
       "      <td>0.291429</td>\n",
       "      <td>0.288224</td>\n",
       "      <td>0.003204</td>\n",
       "    </tr>\n",
       "    <tr>\n",
       "      <th>OB</th>\n",
       "      <td>0.304654</td>\n",
       "      <td>0.288224</td>\n",
       "      <td>0.016430</td>\n",
       "    </tr>\n",
       "    <tr>\n",
       "      <th>SK</th>\n",
       "      <td>0.300562</td>\n",
       "      <td>0.288224</td>\n",
       "      <td>0.012338</td>\n",
       "    </tr>\n",
       "    <tr>\n",
       "      <th>SS</th>\n",
       "      <td>0.285311</td>\n",
       "      <td>0.288224</td>\n",
       "      <td>-0.002914</td>\n",
       "    </tr>\n",
       "    <tr>\n",
       "      <th>WO</th>\n",
       "      <td>0.286533</td>\n",
       "      <td>0.288224</td>\n",
       "      <td>-0.001691</td>\n",
       "    </tr>\n",
       "  </tbody>\n",
       "</table>\n",
       "</div>"
      ],
      "text/plain": [
       "      HIT_RATE   predict      diff\n",
       "T_ID                              \n",
       "HH    0.291317  0.288224  0.003092\n",
       "HT    0.258915  0.288224 -0.029310\n",
       "KT    0.285714  0.288224 -0.002510\n",
       "LG    0.303907  0.288224  0.015683\n",
       "LT    0.317037  0.288224  0.028813\n",
       "NC    0.291429  0.288224  0.003204\n",
       "OB    0.304654  0.288224  0.016430\n",
       "SK    0.300562  0.288224  0.012338\n",
       "SS    0.285311  0.288224 -0.002914\n",
       "WO    0.286533  0.288224 -0.001691"
      ]
     },
     "execution_count": 433,
     "metadata": {},
     "output_type": "execute_result"
    }
   ],
   "source": [
    "#예측값과 실제값 차이\n",
    "a=Y_test\n",
    "a=a.assign(predict=Y_predict)\n",
    "a['diff']=a['HIT_RATE']-a['predict']\n",
    "a"
   ]
  },
  {
   "cell_type": "code",
   "execution_count": 432,
   "metadata": {},
   "outputs": [
    {
     "data": {
      "text/plain": [
       "0.11598452050583224"
      ]
     },
     "execution_count": 432,
     "metadata": {},
     "output_type": "execute_result"
    }
   ],
   "source": [
    "#차이 합\n",
    "abs(a['diff']).sum()"
   ]
  },
  {
   "cell_type": "code",
   "execution_count": null,
   "metadata": {},
   "outputs": [],
   "source": []
  }
 ],
 "metadata": {
  "kernelspec": {
   "display_name": "Python [default]",
   "language": "python",
   "name": "python3"
  },
  "language_info": {
   "codemirror_mode": {
    "name": "ipython",
    "version": 3
   },
   "file_extension": ".py",
   "mimetype": "text/x-python",
   "name": "python",
   "nbconvert_exporter": "python",
   "pygments_lexer": "ipython3",
   "version": "3.6.5"
  }
 },
 "nbformat": 4,
 "nbformat_minor": 2
}
