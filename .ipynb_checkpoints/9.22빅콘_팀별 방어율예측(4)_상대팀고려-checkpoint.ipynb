{
 "cells": [
  {
   "cell_type": "code",
   "execution_count": 11,
   "metadata": {},
   "outputs": [],
   "source": [
    "import pandas as pd\n",
    "import numpy as np\n",
    "import matplotlib.pyplot as plt"
   ]
  },
  {
   "cell_type": "markdown",
   "metadata": {},
   "source": [
    "## 1. 데이터 가져오기"
   ]
  },
  {
   "cell_type": "code",
   "execution_count": 12,
   "metadata": {},
   "outputs": [],
   "source": [
    "t_pit16=pd.read_csv(\"C:/Users/a/Desktop/2020빅콘/제공데이터/제공데이터(.CSV)_시즌별, 시트별 구분/2020빅콘테스트_스포츠투아이_제공데이터_팀투수_2016.csv\",encoding='utf-8',engine='python')\n",
    "t_pit17=pd.read_csv(\"C:/Users/a/Desktop/2020빅콘/제공데이터/제공데이터(.CSV)_시즌별, 시트별 구분/2020빅콘테스트_스포츠투아이_제공데이터_팀투수_2017.csv\",encoding='utf-8',engine='python')\n",
    "t_pit18=pd.read_csv(\"C:/Users/a/Desktop/2020빅콘/제공데이터/제공데이터(.CSV)_시즌별, 시트별 구분/2020빅콘테스트_스포츠투아이_제공데이터_팀투수_2018.csv\",encoding='utf-8',engine='python')\n",
    "t_pit19=pd.read_csv(\"C:/Users/a/Desktop/2020빅콘/제공데이터/제공데이터(.CSV)_시즌별, 시트별 구분/2020빅콘테스트_스포츠투아이_제공데이터_팀투수_2019.csv\",encoding='utf-8',engine='python')"
   ]
  },
  {
   "cell_type": "code",
   "execution_count": 26,
   "metadata": {},
   "outputs": [],
   "source": [
    "t_bat16=pd.read_csv(\"C:/Users/a/Desktop/2020빅콘/제공데이터/제공데이터(.CSV)_시즌별, 시트별 구분/2020빅콘테스트_스포츠투아이_제공데이터_팀타자_2016.csv\",encoding='utf-8',engine='python')\n",
    "t_bat17=pd.read_csv(\"C:/Users/a/Desktop/2020빅콘/제공데이터/제공데이터(.CSV)_시즌별, 시트별 구분/2020빅콘테스트_스포츠투아이_제공데이터_팀타자_2017.csv\",encoding='utf-8',engine='python')\n",
    "t_bat18=pd.read_csv(\"C:/Users/a/Desktop/2020빅콘/제공데이터/제공데이터(.CSV)_시즌별, 시트별 구분/2020빅콘테스트_스포츠투아이_제공데이터_팀타자_2018.csv\",encoding='utf-8',engine='python')\n",
    "t_bat19=pd.read_csv(\"C:/Users/a/Desktop/2020빅콘/제공데이터/제공데이터(.CSV)_시즌별, 시트별 구분/2020빅콘테스트_스포츠투아이_제공데이터_팀타자_2019.csv\",encoding='utf-8',engine='python')"
   ]
  },
  {
   "cell_type": "code",
   "execution_count": 13,
   "metadata": {},
   "outputs": [],
   "source": [
    "p_pit16=pd.read_csv(\"C:/Users/a/Desktop/2020빅콘/제공데이터/제공데이터(.CSV)_시즌별, 시트별 구분/2020빅콘테스트_스포츠투아이_제공데이터_개인투수_2016.csv\",encoding='utf-8',engine='python')\n",
    "p_pit17=pd.read_csv(\"C:/Users/a/Desktop/2020빅콘/제공데이터/제공데이터(.CSV)_시즌별, 시트별 구분/2020빅콘테스트_스포츠투아이_제공데이터_개인투수_2017.csv\",encoding='utf-8',engine='python')\n",
    "p_pit18=pd.read_csv(\"C:/Users/a/Desktop/2020빅콘/제공데이터/제공데이터(.CSV)_시즌별, 시트별 구분/2020빅콘테스트_스포츠투아이_제공데이터_개인투수_2018.csv\",encoding='utf-8',engine='python')\n",
    "p_pit19=pd.read_csv(\"C:/Users/a/Desktop/2020빅콘/제공데이터/제공데이터(.CSV)_시즌별, 시트별 구분/2020빅콘테스트_스포츠투아이_제공데이터_개인투수_2019.csv\",encoding='utf-8',engine='python')"
   ]
  },
  {
   "cell_type": "code",
   "execution_count": 14,
   "metadata": {},
   "outputs": [],
   "source": [
    "#모든 열 다 출력하기\n",
    "pd.options.display.max_columns=None"
   ]
  },
  {
   "cell_type": "code",
   "execution_count": null,
   "metadata": {},
   "outputs": [],
   "source": []
  },
  {
   "cell_type": "markdown",
   "metadata": {},
   "source": [
    "## 2. 변수 생성"
   ]
  },
  {
   "cell_type": "code",
   "execution_count": 15,
   "metadata": {},
   "outputs": [],
   "source": [
    "team=['HH', 'HT', 'KT', 'LG', 'LT', 'NC', 'OB', 'SK', 'SS', 'WO']"
   ]
  },
  {
   "cell_type": "code",
   "execution_count": 16,
   "metadata": {},
   "outputs": [],
   "source": [
    "#이닝수 변수 만들기\n",
    "t_pit16['INN']=t_pit16['INN2']/3\n",
    "t_pit17['INN']=t_pit17['INN2']/3\n",
    "t_pit18['INN']=t_pit18['INN2']/3\n",
    "t_pit19['INN']=t_pit19['INN2']/3"
   ]
  },
  {
   "cell_type": "code",
   "execution_count": 17,
   "metadata": {},
   "outputs": [],
   "source": [
    "#1루타 변수 만들기\n",
    "t_pit16['H1']=t_pit16['HIT']-t_pit16['H2']-t_pit16['H3']-t_pit16['HR']\n",
    "t_pit17['H1']=t_pit17['HIT']-t_pit17['H2']-t_pit17['H3']-t_pit17['HR']\n",
    "t_pit18['H1']=t_pit18['HIT']-t_pit18['H2']-t_pit18['H3']-t_pit18['HR']\n",
    "t_pit19['H1']=t_pit19['HIT']-t_pit19['H2']-t_pit19['H3']-t_pit19['HR']"
   ]
  },
  {
   "cell_type": "code",
   "execution_count": 18,
   "metadata": {},
   "outputs": [],
   "source": [
    "pd.set_option('mode.chained_assignment',None) #chain copy warning 제거하기\n",
    "\n",
    "#승률 변수만들기(이긴 경기, 진 경기 합치기)\n",
    "def make_win_lose(data):\n",
    "    data['W']=0; data['L']=0\n",
    "    data['W'][data['WLS']=='W']=1\n",
    "    data['L'][data['WLS']=='L']=1\n",
    "    return data"
   ]
  },
  {
   "cell_type": "code",
   "execution_count": 19,
   "metadata": {},
   "outputs": [],
   "source": [
    "data_list=[t_pit16,t_pit17,t_pit18,t_pit19]\n",
    "for data in data_list:\n",
    "    data=make_win_lose(data)"
   ]
  },
  {
   "cell_type": "markdown",
   "metadata": {},
   "source": [
    "### 선발기록 만들기"
   ]
  },
  {
   "cell_type": "code",
   "execution_count": 20,
   "metadata": {},
   "outputs": [],
   "source": [
    "t_pit_list=[t_pit16,t_pit17,t_pit18,t_pit19] #팀투수 데이터 리스트\n",
    "p_pit_list=[p_pit16,p_pit17,p_pit18,p_pit19] #개인투수 데이터 리스트\n",
    "var=['T_ID','P_ID','SB','SF','ERR','R','ER','INN2','AB','HIT','HR']  #필요한 개인투수 변수리스트\n",
    "\n",
    "def game40(year):\n",
    "    t_pit=t_pit_list[year-2016][['G_ID','T_ID']]  #팀별 경기를 뽑아내기 위함\n",
    "    p_pit=p_pit_list[year-2016]       #필요한 개인투수 데이터셋\n",
    "\n",
    "    game_list=[pd.DataFrame() for var in range(1,6)] #40경기씩 묶일 데이터셋\n",
    "    data_list=[pd.DataFrame() for var in range(1,6)] #40경기씩 묶일 데이터셋\n",
    "        \n",
    "    data=pd.DataFrame()  #빈 데이터프레임 만들기\n",
    "\n",
    "    for i in range(5):\n",
    "        game40=game_list[i] #팀별 40경기 G_ID가 들어있는 데이터셋\n",
    "        data40=data_list[i] #팀별 40경기씩 넣을 개인투수 데이터셋\n",
    "        \n",
    "        for t in team:\n",
    "            game40=t_pit[t_pit['T_ID']==t][4+i*20:44+i*20]\n",
    "            data40=pd.concat([data40,p_pit[p_pit['G_ID'].isin(game40['G_ID'])][p_pit['T_ID']==t]])\n",
    "        data40=data40[data40['START_CK']==1].filter(var)                                #선발 뽑기\n",
    "        data40=data40.groupby(['T_ID','P_ID']).sum()                                    #선수별로 묶기\n",
    "        data40=data40.sort_values(by='INN2', ascending=False).groupby('T_ID').head(5)  #이닝수가 많은 5명 뽑기\n",
    "        data40=data40.groupby(['T_ID']).sum()                                           #팀별로 묶기\n",
    "        \n",
    "        #변수 만들기\n",
    "        data40['ERA']=data40['ER']*27/data40['INN2']        #선발ERA 변수 만들기\n",
    "        data40['HIT_RATE']=data40['HIT']/data40['AB']       #피안타율 변수 만들기\n",
    "        data40['HR_RATE']=data40['HR']/data40['AB']         #피홈런율 변수 만들기\n",
    "        \n",
    "        data40=data40.drop(['INN2','HIT','AB','HR','ER'],axis='columns')  #변수 삭제\n",
    "        data40=data40.add_prefix('START_')                                #변수명 앞에 START 붙이기\n",
    "\n",
    "        #데이터 합치기\n",
    "        if i <4:\n",
    "            data=pd.concat([data,data40])  #40경기의 데이터 이어붙이기\n",
    "        else:\n",
    "            test_data=data40\n",
    "            \n",
    "    return data, test_data"
   ]
  },
  {
   "cell_type": "code",
   "execution_count": 21,
   "metadata": {
    "scrolled": true
   },
   "outputs": [
    {
     "name": "stderr",
     "output_type": "stream",
     "text": [
      "C:\\Users\\a\\Anaconda3\\lib\\site-packages\\ipykernel\\__main__.py:20: UserWarning: Boolean Series key will be reindexed to match DataFrame index.\n"
     ]
    }
   ],
   "source": [
    "st_train16,st_test16=game40(2016)\n",
    "st_train17,st_test17=game40(2017)\n",
    "st_train18,st_test18=game40(2018)\n",
    "st_train19,st_test19=game40(2019)"
   ]
  },
  {
   "cell_type": "markdown",
   "metadata": {},
   "source": [
    "### 상대팀 변수 만들기"
   ]
  },
  {
   "cell_type": "code",
   "execution_count": 33,
   "metadata": {},
   "outputs": [],
   "source": [
    "var_b=['VS_T_ID','HIT','H2','H3','HR','BB','HP','AB','SF']"
   ]
  },
  {
   "cell_type": "code",
   "execution_count": 39,
   "metadata": {},
   "outputs": [],
   "source": [
    "#상대팀 변수 만드는 함수\n",
    "t_bat=[t_bat16,t_bat17,t_bat18,t_bat19]\n",
    "def vs_data(year):\n",
    "    a=t_bat[year-2016].filter(var_b)\n",
    "    data=pd.DataFrame()  #빈 데이터프레임 만들기\n",
    "\n",
    "    data_list=[pd.DataFrame() for var in range(1,6)]    #40경기씩 묶일 데이터셋\n",
    "    \n",
    "    for i in range(5):\n",
    "        vs_data=data_list[i]\n",
    "        for t in team:\n",
    "            vs_data=pd.concat([vs_data,a[a['VS_T_ID']==t][4+i*20:44+i*20]])      #팀별로 앞 4경기 제외\n",
    "        vs_data=vs_data.groupby(['VS_T_ID']).sum()\n",
    "        \n",
    "        vs_data['H1']=vs_data['HIT']-vs_data['H2']-vs_data['H3']-vs_data['HR']  #H1변수 만들기\n",
    "        vs_data['SLG']=(vs_data['H1']+vs_data['H2']*2+vs_data['H3']*3+vs_data['HR']*4)/vs_data['AB']  #SLG변수 만들기\n",
    "        vs_data['real_SLG']=vs_data['SLG']-(vs_data['HIT']/vs_data['AB'])       #real_SLG변수 만들기\n",
    "        vs_data['OBP']=(vs_data['HIT']+vs_data['BB']+vs_data['HP'])/(vs_data['AB']+vs_data['BB']+vs_data['HP']+vs_data['SF']) #OBP변수 만들기\n",
    "        \n",
    "        #변수 지우기\n",
    "        vs_data=vs_data.drop(['HIT','H1','H2','H3','HR','SLG','BB','HP','AB','SF'],axis='columns')\n",
    "        vs_data=vs_data.add_prefix('VS_')                                #변수명 앞에 START 붙이기\n",
    "\n",
    "        if i <4:\n",
    "            data=pd.concat([data,vs_data])\n",
    "        else:\n",
    "            test_data=vs_data\n",
    "            \n",
    "    return data,test_data"
   ]
  },
  {
   "cell_type": "code",
   "execution_count": 41,
   "metadata": {},
   "outputs": [],
   "source": [
    "vs_train16,vs_test16=vs_data(2016)\n",
    "vs_train17,vs_test17=vs_data(2017)\n",
    "vs_train18,vs_test18=vs_data(2018)\n",
    "vs_train19,vs_test19=vs_data(2019)"
   ]
  },
  {
   "cell_type": "markdown",
   "metadata": {},
   "source": [
    "## 3. train test 셋 만들기"
   ]
  },
  {
   "cell_type": "code",
   "execution_count": 22,
   "metadata": {},
   "outputs": [],
   "source": [
    "var_t=['T_ID','HOLD','BF','PA','AB','HIT','H2','H3','HR','R','ER','P_WHIP_RT','CB_WHIP_RT','INN','H1','W','L']\n",
    "t16=t_pit16.filter(var_t)\n",
    "t17=t_pit17.filter(var_t)\n",
    "t18=t_pit18.filter(var_t)\n",
    "t19=t_pit19.filter(var_t)"
   ]
  },
  {
   "cell_type": "code",
   "execution_count": 27,
   "metadata": {},
   "outputs": [],
   "source": [
    "#정답 셋과 train 셋 만드는 함수\n",
    "t_pit=[t16,t17,t18,t19]\n",
    "def make_answer_train(year):\n",
    "    a=t_pit[year-2016]  \n",
    "    data=pd.DataFrame()  #빈 데이터프레임 만들기\n",
    "\n",
    "    train_data=[pd.DataFrame() for var in range(1,6)] #40경기씩 묶일 데이터셋\n",
    "    answer=[pd.DataFrame() for var in range(1,6)]     #20경기씩 묶일 데이터셋\n",
    "        \n",
    "    for i in range(5):\n",
    "        tra=train_data[i]\n",
    "        ans=answer[i]\n",
    "        for t in team:\n",
    "            tra=pd.concat([tra,a[a['T_ID']==t][4+i*20:4+40+i*20]])      #팀별로 앞 4경기 제외\n",
    "            ans=pd.concat([ans,a[a['T_ID']==t][4+40+i*20:4+60+i*20]])\n",
    "        \n",
    "        tra=tra.groupby(['T_ID']).sum()\n",
    "        #SLG변수 만들기\n",
    "        tra['SLG']=(tra['H1']+tra['H2']*2+tra['H3']*3+tra['HR']*4)/tra['AB']\n",
    "        tra=tra.drop(['H1','H2','H3','HR'],axis='columns')\n",
    "        \n",
    "        #승률 변수 만들기\n",
    "        tra['WINNING_RATE']=tra['W']/(tra['W']+tra['L'])\n",
    "        tra=tra.drop(['W','L'],axis='columns')\n",
    "        \n",
    "        #타율 변수 만들기\n",
    "        tra['HIT_RATE']=tra['HIT']/tra['AB']\n",
    "        tra=tra.drop(['HIT','AB'],axis='columns')       \n",
    "        \n",
    "        #변수 버리기\n",
    "        tra=tra.drop(['ER'],axis='columns') \n",
    "\n",
    "        #팀별 AB,HIT합 구하기\n",
    "        ans=ans.groupby(['T_ID']).sum()\n",
    "        ans['ERA']=ans['ER']*9/ans['INN']     #방어율 계산\n",
    "        ans=ans.drop(ans.columns[list(range(16))],axis='columns')\n",
    "                \n",
    "        if i <4:\n",
    "            data=pd.concat([data,pd.merge(tra,ans,on='T_ID')])\n",
    "        else:\n",
    "            test_data=pd.merge(tra,ans,on='T_ID')\n",
    "            \n",
    "    return data,test_data"
   ]
  },
  {
   "cell_type": "code",
   "execution_count": 28,
   "metadata": {
    "scrolled": false
   },
   "outputs": [],
   "source": [
    "train16,test16=make_answer_train(2016)\n",
    "train17,test17=make_answer_train(2017)\n",
    "train18,test18=make_answer_train(2018)\n",
    "train19,test19=make_answer_train(2019)"
   ]
  },
  {
   "cell_type": "code",
   "execution_count": 47,
   "metadata": {
    "scrolled": true
   },
   "outputs": [],
   "source": [
    "#선발 데이터와 합치기\n",
    "train16=pd.concat([st_train16,train16],axis=1)\n",
    "train17=pd.concat([st_train17,train17],axis=1)\n",
    "train18=pd.concat([st_train18,train18],axis=1)\n",
    "train19=pd.concat([st_train19,train19],axis=1)\n",
    "\n",
    "test16=pd.concat([st_test16,test16],axis=1)\n",
    "test17=pd.concat([st_test17,test17],axis=1)\n",
    "test18=pd.concat([st_test18,test18],axis=1)\n",
    "test19=pd.concat([st_test19,test19],axis=1)"
   ]
  },
  {
   "cell_type": "code",
   "execution_count": 48,
   "metadata": {},
   "outputs": [],
   "source": [
    "#상대팀 데이터와 합치기\n",
    "train16=pd.concat([vs_train16,train16],axis=1)\n",
    "train17=pd.concat([vs_train17,train17],axis=1)\n",
    "train18=pd.concat([vs_train18,train18],axis=1)\n",
    "train19=pd.concat([vs_train19,train19],axis=1)\n",
    "\n",
    "test16=pd.concat([vs_test16,test16],axis=1)\n",
    "test17=pd.concat([vs_test17,test17],axis=1)\n",
    "test18=pd.concat([vs_test18,test18],axis=1)\n",
    "test19=pd.concat([vs_test19,test19],axis=1)"
   ]
  },
  {
   "cell_type": "code",
   "execution_count": 49,
   "metadata": {},
   "outputs": [],
   "source": [
    "#4개년 합친 데이터\n",
    "train678_9=pd.concat([train16,test16,train17,test17,train18,test18,train19])\n",
    "train679_8=pd.concat([train16,test16,train17,test17,train19,test19,train18])\n",
    "train689_7=pd.concat([train16,test16,train18,test18,train19,test19,train17])\n",
    "train789_6=pd.concat([train17,test17,train18,test18,train19,test19,train16])"
   ]
  },
  {
   "cell_type": "code",
   "execution_count": 50,
   "metadata": {},
   "outputs": [
    {
     "data": {
      "text/html": [
       "<div>\n",
       "<style scoped>\n",
       "    .dataframe tbody tr th:only-of-type {\n",
       "        vertical-align: middle;\n",
       "    }\n",
       "\n",
       "    .dataframe tbody tr th {\n",
       "        vertical-align: top;\n",
       "    }\n",
       "\n",
       "    .dataframe thead th {\n",
       "        text-align: right;\n",
       "    }\n",
       "</style>\n",
       "<table border=\"1\" class=\"dataframe\">\n",
       "  <thead>\n",
       "    <tr style=\"text-align: right;\">\n",
       "      <th></th>\n",
       "      <th>VS_real_SLG</th>\n",
       "      <th>VS_OBP</th>\n",
       "      <th>START_SB</th>\n",
       "      <th>START_SF</th>\n",
       "      <th>START_ERR</th>\n",
       "      <th>START_R</th>\n",
       "      <th>START_ERA</th>\n",
       "      <th>START_HIT_RATE</th>\n",
       "      <th>START_HR_RATE</th>\n",
       "      <th>VS_real_SLG</th>\n",
       "      <th>VS_OBP</th>\n",
       "      <th>HOLD</th>\n",
       "      <th>BF</th>\n",
       "      <th>PA</th>\n",
       "      <th>R</th>\n",
       "      <th>P_WHIP_RT</th>\n",
       "      <th>CB_WHIP_RT</th>\n",
       "      <th>INN</th>\n",
       "      <th>SLG</th>\n",
       "      <th>WINNING_RATE</th>\n",
       "      <th>HIT_RATE</th>\n",
       "      <th>ERA</th>\n",
       "    </tr>\n",
       "  </thead>\n",
       "  <tbody>\n",
       "    <tr>\n",
       "      <th>HH</th>\n",
       "      <td>0.140000</td>\n",
       "      <td>0.370347</td>\n",
       "      <td>13</td>\n",
       "      <td>8</td>\n",
       "      <td>3</td>\n",
       "      <td>85</td>\n",
       "      <td>4.404661</td>\n",
       "      <td>0.284330</td>\n",
       "      <td>0.014540</td>\n",
       "      <td>0.140000</td>\n",
       "      <td>0.370347</td>\n",
       "      <td>11</td>\n",
       "      <td>6178</td>\n",
       "      <td>1594</td>\n",
       "      <td>229</td>\n",
       "      <td>68.646691</td>\n",
       "      <td>89.108442</td>\n",
       "      <td>350.000000</td>\n",
       "      <td>0.438571</td>\n",
       "      <td>0.375000</td>\n",
       "      <td>0.298571</td>\n",
       "      <td>3.262082</td>\n",
       "    </tr>\n",
       "    <tr>\n",
       "      <th>HT</th>\n",
       "      <td>0.112012</td>\n",
       "      <td>0.330935</td>\n",
       "      <td>17</td>\n",
       "      <td>9</td>\n",
       "      <td>3</td>\n",
       "      <td>96</td>\n",
       "      <td>3.671642</td>\n",
       "      <td>0.245707</td>\n",
       "      <td>0.015852</td>\n",
       "      <td>0.112012</td>\n",
       "      <td>0.330935</td>\n",
       "      <td>21</td>\n",
       "      <td>5952</td>\n",
       "      <td>1536</td>\n",
       "      <td>187</td>\n",
       "      <td>56.100703</td>\n",
       "      <td>64.287446</td>\n",
       "      <td>354.666667</td>\n",
       "      <td>0.372881</td>\n",
       "      <td>0.487179</td>\n",
       "      <td>0.260870</td>\n",
       "      <td>4.000000</td>\n",
       "    </tr>\n",
       "    <tr>\n",
       "      <th>KT</th>\n",
       "      <td>0.130340</td>\n",
       "      <td>0.324360</td>\n",
       "      <td>17</td>\n",
       "      <td>5</td>\n",
       "      <td>1</td>\n",
       "      <td>104</td>\n",
       "      <td>4.099693</td>\n",
       "      <td>0.268639</td>\n",
       "      <td>0.027219</td>\n",
       "      <td>0.130340</td>\n",
       "      <td>0.324360</td>\n",
       "      <td>24</td>\n",
       "      <td>5697</td>\n",
       "      <td>1534</td>\n",
       "      <td>164</td>\n",
       "      <td>51.916575</td>\n",
       "      <td>64.135606</td>\n",
       "      <td>357.333333</td>\n",
       "      <td>0.393193</td>\n",
       "      <td>0.589744</td>\n",
       "      <td>0.262853</td>\n",
       "      <td>3.254237</td>\n",
       "    </tr>\n",
       "    <tr>\n",
       "      <th>LG</th>\n",
       "      <td>0.133916</td>\n",
       "      <td>0.360845</td>\n",
       "      <td>26</td>\n",
       "      <td>8</td>\n",
       "      <td>2</td>\n",
       "      <td>101</td>\n",
       "      <td>4.557798</td>\n",
       "      <td>0.277856</td>\n",
       "      <td>0.025388</td>\n",
       "      <td>0.133916</td>\n",
       "      <td>0.360845</td>\n",
       "      <td>17</td>\n",
       "      <td>6012</td>\n",
       "      <td>1575</td>\n",
       "      <td>223</td>\n",
       "      <td>70.540360</td>\n",
       "      <td>77.255195</td>\n",
       "      <td>351.333333</td>\n",
       "      <td>0.420670</td>\n",
       "      <td>0.475000</td>\n",
       "      <td>0.286754</td>\n",
       "      <td>2.943609</td>\n",
       "    </tr>\n",
       "    <tr>\n",
       "      <th>LT</th>\n",
       "      <td>0.128603</td>\n",
       "      <td>0.349374</td>\n",
       "      <td>16</td>\n",
       "      <td>6</td>\n",
       "      <td>1</td>\n",
       "      <td>118</td>\n",
       "      <td>4.939024</td>\n",
       "      <td>0.295664</td>\n",
       "      <td>0.014455</td>\n",
       "      <td>0.128603</td>\n",
       "      <td>0.349374</td>\n",
       "      <td>8</td>\n",
       "      <td>5767</td>\n",
       "      <td>1534</td>\n",
       "      <td>202</td>\n",
       "      <td>54.240818</td>\n",
       "      <td>68.620779</td>\n",
       "      <td>348.000000</td>\n",
       "      <td>0.413895</td>\n",
       "      <td>0.333333</td>\n",
       "      <td>0.285292</td>\n",
       "      <td>3.568966</td>\n",
       "    </tr>\n",
       "    <tr>\n",
       "      <th>NC</th>\n",
       "      <td>0.106083</td>\n",
       "      <td>0.324967</td>\n",
       "      <td>14</td>\n",
       "      <td>8</td>\n",
       "      <td>3</td>\n",
       "      <td>104</td>\n",
       "      <td>3.998473</td>\n",
       "      <td>0.256010</td>\n",
       "      <td>0.020433</td>\n",
       "      <td>0.106083</td>\n",
       "      <td>0.324967</td>\n",
       "      <td>18</td>\n",
       "      <td>5797</td>\n",
       "      <td>1527</td>\n",
       "      <td>164</td>\n",
       "      <td>64.677689</td>\n",
       "      <td>60.314719</td>\n",
       "      <td>359.333333</td>\n",
       "      <td>0.359050</td>\n",
       "      <td>0.512821</td>\n",
       "      <td>0.252967</td>\n",
       "      <td>2.927103</td>\n",
       "    </tr>\n",
       "    <tr>\n",
       "      <th>OB</th>\n",
       "      <td>0.102679</td>\n",
       "      <td>0.311276</td>\n",
       "      <td>16</td>\n",
       "      <td>14</td>\n",
       "      <td>7</td>\n",
       "      <td>105</td>\n",
       "      <td>3.885463</td>\n",
       "      <td>0.267816</td>\n",
       "      <td>0.012644</td>\n",
       "      <td>0.102679</td>\n",
       "      <td>0.311276</td>\n",
       "      <td>19</td>\n",
       "      <td>5704</td>\n",
       "      <td>1491</td>\n",
       "      <td>153</td>\n",
       "      <td>61.734532</td>\n",
       "      <td>58.810048</td>\n",
       "      <td>357.000000</td>\n",
       "      <td>0.357887</td>\n",
       "      <td>0.650000</td>\n",
       "      <td>0.255208</td>\n",
       "      <td>3.405850</td>\n",
       "    </tr>\n",
       "    <tr>\n",
       "      <th>SK</th>\n",
       "      <td>0.095952</td>\n",
       "      <td>0.317938</td>\n",
       "      <td>23</td>\n",
       "      <td>9</td>\n",
       "      <td>3</td>\n",
       "      <td>90</td>\n",
       "      <td>3.067265</td>\n",
       "      <td>0.239857</td>\n",
       "      <td>0.025060</td>\n",
       "      <td>0.095952</td>\n",
       "      <td>0.317938</td>\n",
       "      <td>28</td>\n",
       "      <td>5789</td>\n",
       "      <td>1504</td>\n",
       "      <td>145</td>\n",
       "      <td>56.820238</td>\n",
       "      <td>78.019106</td>\n",
       "      <td>355.333333</td>\n",
       "      <td>0.342579</td>\n",
       "      <td>0.575000</td>\n",
       "      <td>0.246627</td>\n",
       "      <td>3.806391</td>\n",
       "    </tr>\n",
       "    <tr>\n",
       "      <th>SS</th>\n",
       "      <td>0.148844</td>\n",
       "      <td>0.356190</td>\n",
       "      <td>12</td>\n",
       "      <td>7</td>\n",
       "      <td>1</td>\n",
       "      <td>105</td>\n",
       "      <td>4.950851</td>\n",
       "      <td>0.292439</td>\n",
       "      <td>0.022825</td>\n",
       "      <td>0.148844</td>\n",
       "      <td>0.356190</td>\n",
       "      <td>15</td>\n",
       "      <td>6018</td>\n",
       "      <td>1589</td>\n",
       "      <td>210</td>\n",
       "      <td>60.547086</td>\n",
       "      <td>71.726798</td>\n",
       "      <td>354.333333</td>\n",
       "      <td>0.425578</td>\n",
       "      <td>0.435897</td>\n",
       "      <td>0.276734</td>\n",
       "      <td>4.680000</td>\n",
       "    </tr>\n",
       "    <tr>\n",
       "      <th>WO</th>\n",
       "      <td>0.096280</td>\n",
       "      <td>0.319035</td>\n",
       "      <td>16</td>\n",
       "      <td>8</td>\n",
       "      <td>3</td>\n",
       "      <td>102</td>\n",
       "      <td>4.099476</td>\n",
       "      <td>0.275497</td>\n",
       "      <td>0.011921</td>\n",
       "      <td>0.096280</td>\n",
       "      <td>0.319035</td>\n",
       "      <td>24</td>\n",
       "      <td>5362</td>\n",
       "      <td>1503</td>\n",
       "      <td>158</td>\n",
       "      <td>52.411805</td>\n",
       "      <td>59.373810</td>\n",
       "      <td>357.333333</td>\n",
       "      <td>0.364697</td>\n",
       "      <td>0.615385</td>\n",
       "      <td>0.268417</td>\n",
       "      <td>1.902857</td>\n",
       "    </tr>\n",
       "  </tbody>\n",
       "</table>\n",
       "</div>"
      ],
      "text/plain": [
       "    VS_real_SLG    VS_OBP  START_SB  START_SF  START_ERR  START_R  START_ERA  \\\n",
       "HH     0.140000  0.370347        13         8          3       85   4.404661   \n",
       "HT     0.112012  0.330935        17         9          3       96   3.671642   \n",
       "KT     0.130340  0.324360        17         5          1      104   4.099693   \n",
       "LG     0.133916  0.360845        26         8          2      101   4.557798   \n",
       "LT     0.128603  0.349374        16         6          1      118   4.939024   \n",
       "NC     0.106083  0.324967        14         8          3      104   3.998473   \n",
       "OB     0.102679  0.311276        16        14          7      105   3.885463   \n",
       "SK     0.095952  0.317938        23         9          3       90   3.067265   \n",
       "SS     0.148844  0.356190        12         7          1      105   4.950851   \n",
       "WO     0.096280  0.319035        16         8          3      102   4.099476   \n",
       "\n",
       "    START_HIT_RATE  START_HR_RATE  VS_real_SLG    VS_OBP  HOLD    BF    PA  \\\n",
       "HH        0.284330       0.014540     0.140000  0.370347    11  6178  1594   \n",
       "HT        0.245707       0.015852     0.112012  0.330935    21  5952  1536   \n",
       "KT        0.268639       0.027219     0.130340  0.324360    24  5697  1534   \n",
       "LG        0.277856       0.025388     0.133916  0.360845    17  6012  1575   \n",
       "LT        0.295664       0.014455     0.128603  0.349374     8  5767  1534   \n",
       "NC        0.256010       0.020433     0.106083  0.324967    18  5797  1527   \n",
       "OB        0.267816       0.012644     0.102679  0.311276    19  5704  1491   \n",
       "SK        0.239857       0.025060     0.095952  0.317938    28  5789  1504   \n",
       "SS        0.292439       0.022825     0.148844  0.356190    15  6018  1589   \n",
       "WO        0.275497       0.011921     0.096280  0.319035    24  5362  1503   \n",
       "\n",
       "      R  P_WHIP_RT  CB_WHIP_RT         INN       SLG  WINNING_RATE  HIT_RATE  \\\n",
       "HH  229  68.646691   89.108442  350.000000  0.438571      0.375000  0.298571   \n",
       "HT  187  56.100703   64.287446  354.666667  0.372881      0.487179  0.260870   \n",
       "KT  164  51.916575   64.135606  357.333333  0.393193      0.589744  0.262853   \n",
       "LG  223  70.540360   77.255195  351.333333  0.420670      0.475000  0.286754   \n",
       "LT  202  54.240818   68.620779  348.000000  0.413895      0.333333  0.285292   \n",
       "NC  164  64.677689   60.314719  359.333333  0.359050      0.512821  0.252967   \n",
       "OB  153  61.734532   58.810048  357.000000  0.357887      0.650000  0.255208   \n",
       "SK  145  56.820238   78.019106  355.333333  0.342579      0.575000  0.246627   \n",
       "SS  210  60.547086   71.726798  354.333333  0.425578      0.435897  0.276734   \n",
       "WO  158  52.411805   59.373810  357.333333  0.364697      0.615385  0.268417   \n",
       "\n",
       "         ERA  \n",
       "HH  3.262082  \n",
       "HT  4.000000  \n",
       "KT  3.254237  \n",
       "LG  2.943609  \n",
       "LT  3.568966  \n",
       "NC  2.927103  \n",
       "OB  3.405850  \n",
       "SK  3.806391  \n",
       "SS  4.680000  \n",
       "WO  1.902857  "
      ]
     },
     "execution_count": 50,
     "metadata": {},
     "output_type": "execute_result"
    }
   ],
   "source": [
    "test19"
   ]
  },
  {
   "cell_type": "markdown",
   "metadata": {},
   "source": [
    "## 3. 모델학습"
   ]
  },
  {
   "cell_type": "code",
   "execution_count": 45,
   "metadata": {},
   "outputs": [],
   "source": [
    "# 모델 모듈\n",
    "from sklearn.ensemble import RandomForestRegressor\n",
    "\n",
    "from sklearn.metrics import mean_squared_error, r2_score\n",
    "from sklearn.preprocessing import StandardScaler, MinMaxScaler"
   ]
  },
  {
   "cell_type": "markdown",
   "metadata": {},
   "source": [
    "stats=['START_SB', 'START_SF', 'START_ERR', 'START_R', 'START_ERA',\n",
    "       'START_HIT_RATE', 'START_HR_RATE', 'HOLD', 'BF', 'PA', 'R',\n",
    "       'ER', 'P_WHIP_RT', 'CB_WHIP_RT', 'INN', 'SLG','HIT_RATE' 'WINNING_RATE']"
   ]
  },
  {
   "cell_type": "code",
   "execution_count": 51,
   "metadata": {},
   "outputs": [],
   "source": [
    "stats=['VS_real_SLG','VS_OBP','START_SB', 'START_SF', 'START_ERR', 'START_R', 'START_ERA',\n",
    "       'START_HIT_RATE', 'START_HR_RATE', 'HOLD', 'PA', 'R',\n",
    "       'P_WHIP_RT', 'CB_WHIP_RT', 'INN', 'SLG','HIT_RATE' ,'WINNING_RATE']"
   ]
  },
  {
   "cell_type": "code",
   "execution_count": 52,
   "metadata": {
    "scrolled": true
   },
   "outputs": [],
   "source": [
    "X_cols=stats\n",
    "Y_col=['ERA']"
   ]
  },
  {
   "cell_type": "markdown",
   "metadata": {},
   "source": [
    "### 랜덤포레스트 돌려보기"
   ]
  },
  {
   "cell_type": "code",
   "execution_count": 53,
   "metadata": {},
   "outputs": [],
   "source": [
    "train_list=[train16,train17,train18,train19]\n",
    "train4_list=[train789_6,train689_7,train679_8,train678_9]\n",
    "test_list=[test16,test17,test18,test19]"
   ]
  },
  {
   "cell_type": "code",
   "execution_count": 63,
   "metadata": {
    "scrolled": true
   },
   "outputs": [
    {
     "name": "stdout",
     "output_type": "stream",
     "text": [
      "2016 >\tr2 : -0.40599744314268604 \ttrain점수 :0.830 \t차이합 : 8.340092220572394\n",
      "2017 >\tr2 : -0.991120906596924 \ttrain점수 :0.858 \t차이합 : 8.02289026895641\n",
      "2018 >\tr2 : -0.15001288444863126 \ttrain점수 :0.827 \t차이합 : 4.897595287529528\n",
      "2019 >\tr2 : -1.3468239861642184 \ttrain점수 :0.818 \t차이합 : 8.583389464933598\n"
     ]
    }
   ],
   "source": [
    "#4개년 랜포 돌려보기\n",
    "result=[]\n",
    "for i in range(4):\n",
    "    train=train_list[i];  test=test_list[i]\n",
    "    X_train = train[X_cols]; Y_train = train[Y_col]\n",
    "    X_test = test[X_cols]; Y_test = test[Y_col]\n",
    "\n",
    "    model = RandomForestRegressor() \n",
    "    Y_train=Y_train.values.ravel()  #rf에서의 오류 없애기 위함\n",
    "    model.fit(X_train, Y_train) \n",
    "    Y_predict = model.predict(X_test)\n",
    "\n",
    "    r2=r2_score(Y_test, Y_predict)\n",
    "\n",
    "    result.append(Y_test.assign(predict=Y_predict))\n",
    "    result[i]['diff']=result[i]['ERA']-result[i]['predict']\n",
    "    print(i+2016,\">\\tr2 :\", r2,'\\ttrain점수 :{:.3f}'.format(model.score(X_train,Y_train)),\"\\t차이합 :\",abs(result[i]['diff']).sum())"
   ]
  },
  {
   "cell_type": "code",
   "execution_count": 55,
   "metadata": {},
   "outputs": [
    {
     "data": {
      "text/plain": [
       "VS_real_SLG       0.374148\n",
       "VS_OBP            0.327921\n",
       "START_SB         -0.110007\n",
       "START_SF          0.058953\n",
       "START_ERR         0.359918\n",
       "START_R           0.297525\n",
       "START_ERA         0.221964\n",
       "START_HIT_RATE    0.128939\n",
       "START_HR_RATE     0.245847\n",
       "VS_real_SLG       0.374148\n",
       "VS_OBP            0.327921\n",
       "HOLD             -0.283450\n",
       "BF                0.181170\n",
       "PA                0.270561\n",
       "R                 0.330892\n",
       "P_WHIP_RT         0.167748\n",
       "CB_WHIP_RT        0.132263\n",
       "INN              -0.138323\n",
       "SLG               0.350391\n",
       "WINNING_RATE     -0.388295\n",
       "HIT_RATE          0.251251\n",
       "ERA               1.000000\n",
       "Name: ERA, dtype: float64"
      ]
     },
     "execution_count": 55,
     "metadata": {},
     "output_type": "execute_result"
    }
   ],
   "source": [
    "train19.corr()['ERA']"
   ]
  },
  {
   "cell_type": "markdown",
   "metadata": {},
   "source": [
    "### 예측값과 실제값 차이"
   ]
  },
  {
   "cell_type": "code",
   "execution_count": null,
   "metadata": {
    "scrolled": false
   },
   "outputs": [],
   "source": [
    "# 예측값과 실제값의 시각화\n",
    "plt.scatter(Y_test, Y_predict)\n",
    "plt.xlabel(\"실제 값\")\n",
    "plt.ylabel(\"예측 값\")"
   ]
  },
  {
   "cell_type": "code",
   "execution_count": null,
   "metadata": {
    "scrolled": false
   },
   "outputs": [],
   "source": [
    "print('2016 >',abs(result[0]['diff']).sum())\n",
    "result[0]"
   ]
  },
  {
   "cell_type": "code",
   "execution_count": null,
   "metadata": {
    "scrolled": false
   },
   "outputs": [],
   "source": [
    "print('2017 >',abs(result[1]['diff']).sum())\n",
    "result[1]"
   ]
  },
  {
   "cell_type": "code",
   "execution_count": null,
   "metadata": {
    "scrolled": false
   },
   "outputs": [],
   "source": [
    "print('2018 >',abs(result[2]['diff']).sum())\n",
    "result[2]"
   ]
  },
  {
   "cell_type": "code",
   "execution_count": null,
   "metadata": {
    "scrolled": false
   },
   "outputs": [],
   "source": [
    "print('2019 >',abs(result[3]['diff']).sum())\n",
    "result[3]"
   ]
  },
  {
   "cell_type": "code",
   "execution_count": null,
   "metadata": {},
   "outputs": [],
   "source": []
  },
  {
   "cell_type": "code",
   "execution_count": null,
   "metadata": {},
   "outputs": [],
   "source": []
  }
 ],
 "metadata": {
  "kernelspec": {
   "display_name": "Python [default]",
   "language": "python",
   "name": "python3"
  },
  "language_info": {
   "codemirror_mode": {
    "name": "ipython",
    "version": 3
   },
   "file_extension": ".py",
   "mimetype": "text/x-python",
   "name": "python",
   "nbconvert_exporter": "python",
   "pygments_lexer": "ipython3",
   "version": "3.6.5"
  }
 },
 "nbformat": 4,
 "nbformat_minor": 2
}
