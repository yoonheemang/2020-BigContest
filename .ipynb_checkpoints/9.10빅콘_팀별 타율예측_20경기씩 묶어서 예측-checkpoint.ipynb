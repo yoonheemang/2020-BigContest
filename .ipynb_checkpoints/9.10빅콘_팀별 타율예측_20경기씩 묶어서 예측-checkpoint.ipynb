{
 "cells": [
  {
   "cell_type": "markdown",
   "metadata": {},
   "source": [
    "1. 앞 120경기로 후 20경기 예측\n",
    "\n",
    "2. 앞 120경기를 20경기씩 6묶음으로 묶어서 후 20경기 예측"
   ]
  },
  {
   "cell_type": "code",
   "execution_count": 1,
   "metadata": {},
   "outputs": [],
   "source": [
    "import pandas as pd\n",
    "import numpy as np\n",
    "import matplotlib.pyplot as plt"
   ]
  },
  {
   "cell_type": "markdown",
   "metadata": {},
   "source": [
    "## 1. 데이터 가져오기"
   ]
  },
  {
   "cell_type": "code",
   "execution_count": 2,
   "metadata": {},
   "outputs": [],
   "source": [
    "t_bat16=pd.read_csv(\"C:/Users/a/Desktop/2020빅콘/제공데이터/제공데이터(.CSV)_시즌별, 시트별 구분/2020빅콘테스트_스포츠투아이_제공데이터_팀타자_2016.csv\",encoding='utf-8',engine='python')\n",
    "t_bat17=pd.read_csv(\"C:/Users/a/Desktop/2020빅콘/제공데이터/제공데이터(.CSV)_시즌별, 시트별 구분/2020빅콘테스트_스포츠투아이_제공데이터_팀타자_2017.csv\",encoding='utf-8',engine='python')\n",
    "t_bat18=pd.read_csv(\"C:/Users/a/Desktop/2020빅콘/제공데이터/제공데이터(.CSV)_시즌별, 시트별 구분/2020빅콘테스트_스포츠투아이_제공데이터_팀타자_2018.csv\",encoding='utf-8',engine='python')\n",
    "t_bat19=pd.read_csv(\"C:/Users/a/Desktop/2020빅콘/제공데이터/제공데이터(.CSV)_시즌별, 시트별 구분/2020빅콘테스트_스포츠투아이_제공데이터_팀타자_2019.csv\",encoding='utf-8',engine='python')"
   ]
  },
  {
   "cell_type": "code",
   "execution_count": 3,
   "metadata": {},
   "outputs": [],
   "source": [
    "#모든 열 다 출력하기\n",
    "pd.options.display.max_columns=None"
   ]
  },
  {
   "cell_type": "markdown",
   "metadata": {},
   "source": [
    "## 2. 앞4경기 버리고 20경기씩 묶기"
   ]
  },
  {
   "cell_type": "code",
   "execution_count": 4,
   "metadata": {},
   "outputs": [],
   "source": [
    "team=['HH', 'HT', 'KT', 'LG', 'LT', 'NC', 'OB', 'SK', 'SS', 'WO']"
   ]
  },
  {
   "cell_type": "code",
   "execution_count": 5,
   "metadata": {},
   "outputs": [],
   "source": [
    "#학습데이터 만드는 함수\n",
    "t_bat=[t_bat16,t_bat17,t_bat18,t_bat19]\n",
    "def make_data(year):\n",
    "    frame_name=['game' + str(i) for i in range(1,8)]\n",
    "    game=[pd.DataFrame() for var in frame_name] #20경기씩 묶일 데이터셋\n",
    "    a=t_bat[year-2016][['T_ID','AB','HIT']][40:] #각 팀당 앞 4경기 버리기\n",
    "    data=pd.DataFrame()  #빈 데이터프레임 만들기\n",
    "\n",
    "    for i in range(7):\n",
    "        g=game[i]         #game1,2,3...\n",
    "        g=pd.DataFrame()  #빈 데이터프레임 만들기\n",
    "        for t in team:\n",
    "            g=pd.concat([g,a[a['T_ID']==t][i*20:(i+1)*20]])\n",
    "\n",
    "        #팀별 AB,HIT합 구하기\n",
    "        g=g.groupby(['T_ID']).sum()\n",
    "        g[frame_name[i]]=g['HIT']/g['AB'] #타율 계산\n",
    "        g=g.drop(g.columns[[0,1]],axis='columns')\n",
    "\n",
    "        data=pd.concat([data,g],axis=1)   #팀별 앞124경기와 후20경기 결과 합치기\n",
    "    \n",
    "    return data"
   ]
  },
  {
   "cell_type": "code",
   "execution_count": 6,
   "metadata": {
    "scrolled": true
   },
   "outputs": [],
   "source": [
    "data16=make_data(2016)\n",
    "data17=make_data(2017)\n",
    "data18=make_data(2018)\n",
    "data19=make_data(2019)"
   ]
  },
  {
   "cell_type": "code",
   "execution_count": 23,
   "metadata": {},
   "outputs": [
    {
     "data": {
      "text/html": [
       "<div>\n",
       "<style scoped>\n",
       "    .dataframe tbody tr th:only-of-type {\n",
       "        vertical-align: middle;\n",
       "    }\n",
       "\n",
       "    .dataframe tbody tr th {\n",
       "        vertical-align: top;\n",
       "    }\n",
       "\n",
       "    .dataframe thead th {\n",
       "        text-align: right;\n",
       "    }\n",
       "</style>\n",
       "<table border=\"1\" class=\"dataframe\">\n",
       "  <thead>\n",
       "    <tr style=\"text-align: right;\">\n",
       "      <th></th>\n",
       "      <th>game1</th>\n",
       "      <th>game2</th>\n",
       "      <th>game3</th>\n",
       "      <th>game4</th>\n",
       "      <th>game5</th>\n",
       "      <th>game6</th>\n",
       "      <th>game7</th>\n",
       "    </tr>\n",
       "    <tr>\n",
       "      <th>T_ID</th>\n",
       "      <th></th>\n",
       "      <th></th>\n",
       "      <th></th>\n",
       "      <th></th>\n",
       "      <th></th>\n",
       "      <th></th>\n",
       "      <th></th>\n",
       "    </tr>\n",
       "  </thead>\n",
       "  <tbody>\n",
       "    <tr>\n",
       "      <th>HH</th>\n",
       "      <td>0.274074</td>\n",
       "      <td>0.229955</td>\n",
       "      <td>0.224551</td>\n",
       "      <td>0.249631</td>\n",
       "      <td>0.276204</td>\n",
       "      <td>0.255639</td>\n",
       "      <td>0.266764</td>\n",
       "    </tr>\n",
       "    <tr>\n",
       "      <th>HT</th>\n",
       "      <td>0.260372</td>\n",
       "      <td>0.239583</td>\n",
       "      <td>0.301013</td>\n",
       "      <td>0.265672</td>\n",
       "      <td>0.268817</td>\n",
       "      <td>0.262009</td>\n",
       "      <td>0.253373</td>\n",
       "    </tr>\n",
       "    <tr>\n",
       "      <th>KT</th>\n",
       "      <td>0.263704</td>\n",
       "      <td>0.274425</td>\n",
       "      <td>0.274453</td>\n",
       "      <td>0.289625</td>\n",
       "      <td>0.293777</td>\n",
       "      <td>0.275177</td>\n",
       "      <td>0.272321</td>\n",
       "    </tr>\n",
       "    <tr>\n",
       "      <th>LG</th>\n",
       "      <td>0.245588</td>\n",
       "      <td>0.282387</td>\n",
       "      <td>0.257687</td>\n",
       "      <td>0.269065</td>\n",
       "      <td>0.283824</td>\n",
       "      <td>0.278499</td>\n",
       "      <td>0.257485</td>\n",
       "    </tr>\n",
       "    <tr>\n",
       "      <th>LT</th>\n",
       "      <td>0.275613</td>\n",
       "      <td>0.267409</td>\n",
       "      <td>0.246313</td>\n",
       "      <td>0.256080</td>\n",
       "      <td>0.247006</td>\n",
       "      <td>0.236882</td>\n",
       "      <td>0.220877</td>\n",
       "    </tr>\n",
       "    <tr>\n",
       "      <th>NC</th>\n",
       "      <td>0.290550</td>\n",
       "      <td>0.298023</td>\n",
       "      <td>0.283212</td>\n",
       "      <td>0.261128</td>\n",
       "      <td>0.259684</td>\n",
       "      <td>0.286996</td>\n",
       "      <td>0.275109</td>\n",
       "    </tr>\n",
       "    <tr>\n",
       "      <th>OB</th>\n",
       "      <td>0.277361</td>\n",
       "      <td>0.291248</td>\n",
       "      <td>0.263704</td>\n",
       "      <td>0.265337</td>\n",
       "      <td>0.260745</td>\n",
       "      <td>0.309353</td>\n",
       "      <td>0.281690</td>\n",
       "    </tr>\n",
       "    <tr>\n",
       "      <th>SK</th>\n",
       "      <td>0.242690</td>\n",
       "      <td>0.275910</td>\n",
       "      <td>0.251089</td>\n",
       "      <td>0.307910</td>\n",
       "      <td>0.270588</td>\n",
       "      <td>0.251908</td>\n",
       "      <td>0.239695</td>\n",
       "    </tr>\n",
       "    <tr>\n",
       "      <th>SS</th>\n",
       "      <td>0.249267</td>\n",
       "      <td>0.258443</td>\n",
       "      <td>0.287554</td>\n",
       "      <td>0.280702</td>\n",
       "      <td>0.246677</td>\n",
       "      <td>0.231839</td>\n",
       "      <td>0.232061</td>\n",
       "    </tr>\n",
       "    <tr>\n",
       "      <th>WO</th>\n",
       "      <td>0.286325</td>\n",
       "      <td>0.306610</td>\n",
       "      <td>0.261584</td>\n",
       "      <td>0.280172</td>\n",
       "      <td>0.273273</td>\n",
       "      <td>0.317808</td>\n",
       "      <td>0.251479</td>\n",
       "    </tr>\n",
       "  </tbody>\n",
       "</table>\n",
       "</div>"
      ],
      "text/plain": [
       "         game1     game2     game3     game4     game5     game6     game7\n",
       "T_ID                                                                      \n",
       "HH    0.274074  0.229955  0.224551  0.249631  0.276204  0.255639  0.266764\n",
       "HT    0.260372  0.239583  0.301013  0.265672  0.268817  0.262009  0.253373\n",
       "KT    0.263704  0.274425  0.274453  0.289625  0.293777  0.275177  0.272321\n",
       "LG    0.245588  0.282387  0.257687  0.269065  0.283824  0.278499  0.257485\n",
       "LT    0.275613  0.267409  0.246313  0.256080  0.247006  0.236882  0.220877\n",
       "NC    0.290550  0.298023  0.283212  0.261128  0.259684  0.286996  0.275109\n",
       "OB    0.277361  0.291248  0.263704  0.265337  0.260745  0.309353  0.281690\n",
       "SK    0.242690  0.275910  0.251089  0.307910  0.270588  0.251908  0.239695\n",
       "SS    0.249267  0.258443  0.287554  0.280702  0.246677  0.231839  0.232061\n",
       "WO    0.286325  0.306610  0.261584  0.280172  0.273273  0.317808  0.251479"
      ]
     },
     "execution_count": 23,
     "metadata": {},
     "output_type": "execute_result"
    }
   ],
   "source": [
    "data19"
   ]
  },
  {
   "cell_type": "markdown",
   "metadata": {},
   "source": [
    "## 4. 모델학습"
   ]
  },
  {
   "cell_type": "code",
   "execution_count": 7,
   "metadata": {},
   "outputs": [],
   "source": [
    "# 출력 할 때 마다, 기존 출력물들은 제거해주는 모듈\n",
    "from IPython.display import clear_output"
   ]
  },
  {
   "cell_type": "code",
   "execution_count": 8,
   "metadata": {},
   "outputs": [],
   "source": [
    "# 모델 모듈\n",
    "import xgboost\n",
    "from xgboost import XGBRegressor, plot_importance\n",
    "from lightgbm import LGBMRegressor\n",
    "from sklearn.ensemble import RandomForestRegressor\n",
    "from sklearn.svm import SVR\n",
    "from sklearn.linear_model import Ridge, Lasso, LinearRegression, ElasticNet\n",
    "from sklearn.neighbors import KNeighborsRegressor\n",
    "\n",
    "from sklearn.metrics import mean_squared_error, r2_score\n",
    "from sklearn.preprocessing import StandardScaler, MinMaxScaler"
   ]
  },
  {
   "cell_type": "code",
   "execution_count": 9,
   "metadata": {
    "scrolled": true
   },
   "outputs": [],
   "source": [
    "X_cols=['game' + str(i) for i in range(1,7)]\n",
    "Y_col=['game7']"
   ]
  },
  {
   "cell_type": "code",
   "execution_count": 10,
   "metadata": {},
   "outputs": [],
   "source": [
    "#### 학습시킬 모델\n",
    "model_dict = {'xgb':XGBRegressor(n_estimators=100, learning_rate=0.05 ,max_depth=3, random_state=23),\n",
    "    'lgbm':LGBMRegressor(),\n",
    "    'rf':RandomForestRegressor(),\n",
    "    'svr':SVR(),\n",
    "    'reg':LinearRegression(),\n",
    "    'ridge':Ridge(),\n",
    "    'lasso':Lasso()}"
   ]
  },
  {
   "cell_type": "code",
   "execution_count": 18,
   "metadata": {},
   "outputs": [],
   "source": [
    "train=data18\n",
    "test=data19"
   ]
  },
  {
   "cell_type": "code",
   "execution_count": 19,
   "metadata": {
    "scrolled": true
   },
   "outputs": [
    {
     "name": "stdout",
     "output_type": "stream",
     "text": [
      "test error :  0.03357966306162172\n",
      "r2 :  -2.2206824061492343\n"
     ]
    }
   ],
   "source": [
    "X_train = train[X_cols]\n",
    "Y_train = train[Y_col]\n",
    "\n",
    "X_test = test[X_cols]\n",
    "Y_test = test[Y_col]\n",
    "\n",
    "model = model_dict['xgb']    #모델명 바꾸어 가면서 실험 가능\n",
    "weight = train['game6']\n",
    "#model.fit(X_train, Y_train, sample_weight=weight)\n",
    "model.fit(X_train, Y_train)  #가중치 제거\n",
    "Y_predict = model.predict(X_test)\n",
    "\n",
    "#test_error=mean_squared_error(Y_test, Y_predict, sample_weight=X_test['game6']) ** 0.5\n",
    "test_error=mean_squared_error(Y_test, Y_predict) ** 0.5  #가중치 제거\n",
    "r2=r2_score(Y_test, Y_predict)\n",
    "    \n",
    "print(\"test error : \", test_error)\n",
    "print(\"r2 : \", r2)"
   ]
  },
  {
   "cell_type": "markdown",
   "metadata": {},
   "source": [
    "1.xgb > \n",
    "test error :  0.03357966306162172\n",
    "r2 :  -2.2206824061492343\n",
    "\n",
    "2. lgbm > \n",
    "test error :  0.03546759569188655\n",
    "r2 :  -2.5930125230024297\n",
    "\n",
    "3. rf > \n",
    "test error :  0.031204348276698574\n",
    "r2 :  -1.781156740810844\n",
    "\n",
    "4. svr > \n",
    "test error :  0.039559294795570334\n",
    "r2 :  -3.4698434689246564\n",
    "\n",
    "5. reg > \n",
    "test error :  0.06198104603976226\n",
    "r2 :  -9.972688125585623\n",
    "\n",
    "6. ridge > \n",
    "test error :  0.03541833220192573\n",
    "r2 :  -2.5830382687069045\n",
    "\n",
    "7. lasso > \n",
    "test error :  0.035467597100803945\n",
    "r2 :  -2.593012808460625\n"
   ]
  },
  {
   "cell_type": "markdown",
   "metadata": {},
   "source": [
    "### 예측값과 실제값 차이"
   ]
  },
  {
   "cell_type": "code",
   "execution_count": 20,
   "metadata": {
    "scrolled": false
   },
   "outputs": [
    {
     "data": {
      "text/plain": [
       "Text(0,0.5,'예측 값')"
      ]
     },
     "execution_count": 20,
     "metadata": {},
     "output_type": "execute_result"
    },
    {
     "data": {
      "image/png": "[encoded data removed]",
      "text/plain": [
       "<Figure size 432x288 with 1 Axes>"
      ]
     },
     "metadata": {},
     "output_type": "display_data"
    }
   ],
   "source": [
    "# 예측값과 실제값의 시각화\n",
    "plt.scatter(Y_test, Y_predict)\n",
    "plt.xlabel(\"실제 값\")\n",
    "plt.ylabel(\"예측 값\")"
   ]
  },
  {
   "cell_type": "code",
   "execution_count": 21,
   "metadata": {
    "scrolled": false
   },
   "outputs": [
    {
     "data": {
      "text/html": [
       "<div>\n",
       "<style scoped>\n",
       "    .dataframe tbody tr th:only-of-type {\n",
       "        vertical-align: middle;\n",
       "    }\n",
       "\n",
       "    .dataframe tbody tr th {\n",
       "        vertical-align: top;\n",
       "    }\n",
       "\n",
       "    .dataframe thead th {\n",
       "        text-align: right;\n",
       "    }\n",
       "</style>\n",
       "<table border=\"1\" class=\"dataframe\">\n",
       "  <thead>\n",
       "    <tr style=\"text-align: right;\">\n",
       "      <th></th>\n",
       "      <th>game7</th>\n",
       "      <th>predict</th>\n",
       "      <th>diff</th>\n",
       "    </tr>\n",
       "    <tr>\n",
       "      <th>T_ID</th>\n",
       "      <th></th>\n",
       "      <th></th>\n",
       "      <th></th>\n",
       "    </tr>\n",
       "  </thead>\n",
       "  <tbody>\n",
       "    <tr>\n",
       "      <th>HH</th>\n",
       "      <td>0.266764</td>\n",
       "      <td>0.283538</td>\n",
       "      <td>0.016774</td>\n",
       "    </tr>\n",
       "    <tr>\n",
       "      <th>HT</th>\n",
       "      <td>0.253373</td>\n",
       "      <td>0.283538</td>\n",
       "      <td>0.030165</td>\n",
       "    </tr>\n",
       "    <tr>\n",
       "      <th>KT</th>\n",
       "      <td>0.272321</td>\n",
       "      <td>0.280565</td>\n",
       "      <td>0.008244</td>\n",
       "    </tr>\n",
       "    <tr>\n",
       "      <th>LG</th>\n",
       "      <td>0.257485</td>\n",
       "      <td>0.280565</td>\n",
       "      <td>0.023080</td>\n",
       "    </tr>\n",
       "    <tr>\n",
       "      <th>LT</th>\n",
       "      <td>0.220877</td>\n",
       "      <td>0.283538</td>\n",
       "      <td>0.062661</td>\n",
       "    </tr>\n",
       "    <tr>\n",
       "      <th>NC</th>\n",
       "      <td>0.275109</td>\n",
       "      <td>0.273167</td>\n",
       "      <td>0.001942</td>\n",
       "    </tr>\n",
       "    <tr>\n",
       "      <th>OB</th>\n",
       "      <td>0.281690</td>\n",
       "      <td>0.275188</td>\n",
       "      <td>0.006503</td>\n",
       "    </tr>\n",
       "    <tr>\n",
       "      <th>SK</th>\n",
       "      <td>0.239695</td>\n",
       "      <td>0.283538</td>\n",
       "      <td>0.043843</td>\n",
       "    </tr>\n",
       "    <tr>\n",
       "      <th>SS</th>\n",
       "      <td>0.232061</td>\n",
       "      <td>0.283538</td>\n",
       "      <td>0.051477</td>\n",
       "    </tr>\n",
       "    <tr>\n",
       "      <th>WO</th>\n",
       "      <td>0.251479</td>\n",
       "      <td>0.282130</td>\n",
       "      <td>0.030651</td>\n",
       "    </tr>\n",
       "  </tbody>\n",
       "</table>\n",
       "</div>"
      ],
      "text/plain": [
       "         game7   predict      diff\n",
       "T_ID                              \n",
       "HH    0.266764  0.283538  0.016774\n",
       "HT    0.253373  0.283538  0.030165\n",
       "KT    0.272321  0.280565  0.008244\n",
       "LG    0.257485  0.280565  0.023080\n",
       "LT    0.220877  0.283538  0.062661\n",
       "NC    0.275109  0.273167  0.001942\n",
       "OB    0.281690  0.275188  0.006503\n",
       "SK    0.239695  0.283538  0.043843\n",
       "SS    0.232061  0.283538  0.051477\n",
       "WO    0.251479  0.282130  0.030651"
      ]
     },
     "execution_count": 21,
     "metadata": {},
     "output_type": "execute_result"
    }
   ],
   "source": [
    "#예측값과 실제값 차이\n",
    "a=Y_test\n",
    "a=a.assign(predict=Y_predict)\n",
    "a['diff']=abs(a['game7']-a['predict'])\n",
    "a"
   ]
  },
  {
   "cell_type": "code",
   "execution_count": 22,
   "metadata": {},
   "outputs": [
    {
     "data": {
      "text/plain": [
       "0.2753393954261415"
      ]
     },
     "execution_count": 22,
     "metadata": {},
     "output_type": "execute_result"
    }
   ],
   "source": [
    "#차이 합\n",
    "a['diff'].sum()"
   ]
  },
  {
   "cell_type": "code",
   "execution_count": null,
   "metadata": {},
   "outputs": [],
   "source": []
  }
 ],
 "metadata": {
  "kernelspec": {
   "display_name": "Python [default]",
   "language": "python",
   "name": "python3"
  },
  "language_info": {
   "codemirror_mode": {
    "name": "ipython",
    "version": 3
   },
   "file_extension": ".py",
   "mimetype": "text/x-python",
   "name": "python",
   "nbconvert_exporter": "python",
   "pygments_lexer": "ipython3",
   "version": "3.6.5"
  }
 },
 "nbformat": 4,
 "nbformat_minor": 2
}
