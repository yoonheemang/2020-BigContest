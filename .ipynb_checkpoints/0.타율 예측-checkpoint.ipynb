{
 "cells": [
  {
   "cell_type": "markdown",
   "metadata": {},
   "source": [
    "# 타율 예측"
   ]
  },
  {
   "cell_type": "markdown",
   "metadata": {},
   "source": [
    "import pandas as pd"
   ]
  },
  {
   "cell_type": "markdown",
   "metadata": {},
   "source": [
    "## 1. 데이터 가져오기"
   ]
  },
  {
   "cell_type": "markdown",
   "metadata": {},
   "source": [
    "t_bat20=pd.read_csv(\"C:/Users/a/Desktop/2020빅콘/데이터/팀투수_2020.csv\",encoding='utf-8',engine='python')"
   ]
  },
  {
   "cell_type": "markdown",
   "metadata": {},
   "source": [
    "t_bat20=t_bat20[['ID','T_ID', 'VS_T_ID', 'WLS', 'INN2', 'ER', 'AB', 'HIT']]"
   ]
  },
  {
   "cell_type": "markdown",
   "metadata": {},
   "source": [
    "## 2. train test 셋 만들기"
   ]
  },
  {
   "cell_type": "markdown",
   "metadata": {},
   "source": [
    "team=['HH', 'HT', 'KT', 'LG', 'LT', 'NC', 'OB', 'SK', 'SS', 'WO']"
   ]
  },
  {
   "cell_type": "markdown",
   "metadata": {},
   "source": [
    "#### 승률 변수 만들기"
   ]
  },
  {
   "cell_type": "markdown",
   "metadata": {},
   "source": [
    "pd.set_option('mode.chained_assignment',None) #chain copy warning 제거하기\n",
    "\n",
    "def make_win_lose(data):\n",
    "    data['W']=0; data['L']=0\n",
    "    data['W'][data['WLS']=='W']=1\n",
    "    data['L'][data['WLS']=='L']=1\n",
    "    return data"
   ]
  },
  {
   "cell_type": "markdown",
   "metadata": {
    "scrolled": true
   },
   "source": [
    "#데이터에 승,패 여부 추가\n",
    "t_bat20=make_win_lose(t_bat20)"
   ]
  },
  {
   "cell_type": "markdown",
   "metadata": {},
   "source": [
    "#### 타율 변수 만들기"
   ]
  },
  {
   "cell_type": "markdown",
   "metadata": {},
   "source": [
    "def make_data(train_data,answer_data=pd.DataFrame()):\n",
    "    train_data['HIT_RATE']=train_data['HIT']/train_data['AB']\n",
    "    tr=train_data[['T_ID','HIT_RATE']]                          #경기당 팀과 타율만 남김\n",
    "    num=list(range(1,int((len(train_data)/10)+1)))*10           #팀별 경기순서 추가\n",
    "    tr=tr.assign(order=num)\n",
    "    tr=tr.pivot(index='T_ID',columns='order',values='HIT_RATE') #팀당 경기별 타율 데이터셋 만들기\n",
    "    \n",
    "    if len(answer_data)>0:\n",
    "        data=pd.merge(tr,answer_data,on='T_ID')                  #팀별 앞124경기와 후20경기 결과 합치기\n",
    "    else: data=tr\n",
    "        \n",
    "    return data"
   ]
  },
  {
   "cell_type": "markdown",
   "metadata": {
    "scrolled": true
   },
   "source": [
    "t_bat=t_bat20[['T_ID','HIT','AB','W','L','ER','INN2']]\n",
    "\n",
    "train=pd.DataFrame()  #빈 데이터프레임 만들기\n",
    "pa=pd.DataFrame()     #빈 데이터프레임 만들기\n",
    "\n",
    "train_data=[pd.DataFrame() for var in range(4)]      #50경기씩 묶일 데이터프레임\n",
    "answer=[pd.DataFrame() for var in range(4)]          #다음 20경기씩 묶일 데이터프레임\n",
    "\n",
    "for i in range(4):\n",
    "    tra=train_data[i]\n",
    "    ans=answer[i]\n",
    "    for t in team:\n",
    "        n=sum(t_bat['T_ID']==t)\n",
    "        tra=pd.concat([tra,t_bat[t_bat['T_ID']==t][(n-110)+i*20:(n-60)+i*20]])     #50경기씩 묶음(train set)\n",
    "        if i<3:\n",
    "            ans=pd.concat([ans,t_bat[t_bat['T_ID']==t][(n-60)+i*20:(n-40)+i*20]])  #train set의 경기의 다음 20경기 묶음(test set)\n",
    "\n",
    "    #팀별 AB,HIT합 구하기\n",
    "    if i<3:\n",
    "        ans=ans.groupby(['T_ID']).sum()\n",
    "        ans['HIT_RATE']=ans['HIT']/ans['AB']          #타율 계산\n",
    "        ans=ans.drop(ans.columns[list(range(6))],axis='columns')\n",
    "\n",
    "    #변수 생성\n",
    "    tr=tra.groupby(['T_ID']).sum() \n",
    "    tr['WINNING_RATE'] = tr['W']/(tr['W']+tr['L'])    #승률 변수생성\n",
    "    tr['ERA'] = tr['ER']*27/tr['INN2']                #방어율 변수생성\n",
    "\n",
    "    #변수 삭제\n",
    "    tr=tr.drop(['HIT','W','L','ER','INN2'],axis='columns')\n",
    "\n",
    "    if i <3:\n",
    "        train=pd.concat([train,make_data(tra,ans)])  \n",
    "        pa=pd.concat([pa,tr])\n",
    "    else:\n",
    "        test=make_data(tra)\n",
    "        test['WINNING_RATE']=tr['WINNING_RATE']       #test set에 승률 추가\n",
    "        test['ERA']=tr['ERA']                         #test set에 ERA 추가\n",
    "\n",
    "#변수 추가\n",
    "train['MEAN']=train.iloc[:,:50].mean(axis=1)          #train set에 평균 추가\n",
    "test['MEAN']=test.iloc[:,:50].mean(axis=1)            #test set 에 평균 추가\n",
    "train['WINNING_RATE']=pa['WINNING_RATE']              #train set에 승률 추가\n",
    "train['ERA']=pa['ERA']                                #train set에 ERA 추가"
   ]
  },
  {
   "cell_type": "markdown",
   "metadata": {},
   "source": [
    "## 3. 모델학습(Random Forest)"
   ]
  },
  {
   "cell_type": "markdown",
   "metadata": {},
   "source": [
    "from sklearn.ensemble import RandomForestRegressor"
   ]
  },
  {
   "cell_type": "markdown",
   "metadata": {
    "scrolled": true
   },
   "source": [
    "X_cols=list(range(1,51))+['MEAN','WINNING_RATE','ERA']\n",
    "Y_col=['HIT_RATE']"
   ]
  },
  {
   "cell_type": "markdown",
   "metadata": {
    "scrolled": false
   },
   "source": [
    "X_train = train[X_cols]; Y_train = train[Y_col]\n",
    "X_test = test[X_cols]\n",
    "\n",
    "model = RandomForestRegressor(random_state=1234)\n",
    "Y_train=Y_train.values.ravel()                       #rf에서의 오류 없애기 위함\n",
    "model.fit(X_train, Y_train) \n",
    "Y_predict = model.predict(X_test)\n",
    "\n",
    "pd.DataFrame(data={'predict':Y_predict},index=team)  #예측 결과 출력"
   ]
  },
  {
   "cell_type": "code",
   "execution_count": null,
   "metadata": {},
   "outputs": [],
   "source": []
  }
 ],
 "metadata": {
  "kernelspec": {
   "display_name": "Python [default]",
   "language": "python",
   "name": "python3"
  },
  "language_info": {
   "codemirror_mode": {
    "name": "ipython",
    "version": 3
   },
   "file_extension": ".py",
   "mimetype": "text/x-python",
   "name": "python",
   "nbconvert_exporter": "python",
   "pygments_lexer": "ipython3",
   "version": "3.6.5"
  }
 },
 "nbformat": 4,
 "nbformat_minor": 2
}
