{
 "cells": [
  {
   "cell_type": "markdown",
   "metadata": {},
   "source": [
    "# 타율 예측"
   ]
  },
  {
   "cell_type": "code",
   "execution_count": 1,
   "metadata": {},
   "outputs": [],
   "source": [
    "import pandas as pd"
   ]
  },
  {
   "cell_type": "markdown",
   "metadata": {},
   "source": [
    "## 1. 데이터 가져오기"
   ]
  },
  {
   "cell_type": "code",
   "execution_count": 2,
   "metadata": {},
   "outputs": [],
   "source": [
    "t_bat20=pd.read_csv(\"C:/Users/a/Desktop/2020빅콘/데이터/팀투수_2020.csv\",encoding='utf-8',engine='python')"
   ]
  },
  {
   "cell_type": "code",
   "execution_count": 3,
   "metadata": {},
   "outputs": [],
   "source": [
    "t_bat20=t_bat20[['ID','T_ID', 'INN2', 'ER', 'AB', 'HIT']]"
   ]
  },
  {
   "cell_type": "markdown",
   "metadata": {},
   "source": [
    "## 2. train test 셋 만들기"
   ]
  },
  {
   "cell_type": "code",
   "execution_count": 4,
   "metadata": {},
   "outputs": [],
   "source": [
    "team=['HH', 'HT', 'KT', 'LG', 'LT', 'NC', 'OB', 'SK', 'SS', 'WO']"
   ]
  },
  {
   "cell_type": "markdown",
   "metadata": {},
   "source": [
    "#### 타율 변수 만들기"
   ]
  },
  {
   "cell_type": "code",
   "execution_count": 5,
   "metadata": {},
   "outputs": [],
   "source": [
    "def make_data(train_data,answer_data=pd.DataFrame()):\n",
    "    train_data['HIT_RATE']=train_data['HIT']/train_data['AB']\n",
    "    tr=train_data[['T_ID','HIT_RATE']]                          #경기당 팀과 타율만 남김\n",
    "    num=list(range(1,int((len(train_data)/10)+1)))*10           #팀별 경기순서 추가\n",
    "    tr=tr.assign(order=num)\n",
    "    tr=tr.pivot(index='T_ID',columns='order',values='HIT_RATE') #팀당 경기별 타율 데이터셋 만들기\n",
    "    \n",
    "    if len(answer_data)>0:\n",
    "        data=pd.merge(tr,answer_data,on='T_ID')                  #팀별 앞124경기와 후20경기 결과 합치기\n",
    "    else: data=tr\n",
    "        \n",
    "    return data"
   ]
  },
  {
   "cell_type": "code",
   "execution_count": 7,
   "metadata": {},
   "outputs": [],
   "source": [
    "t_bat=t_bat20[['T_ID','HIT','AB','ER','INN2']]\n",
    "\n",
    "train=pd.DataFrame()  #빈 데이터프레임 만들기\n",
    "pa=pd.DataFrame()     #빈 데이터프레임 만들기\n",
    "\n",
    "train_data=[pd.DataFrame() for var in range(4)]      #50경기씩 묶일 데이터프레임\n",
    "answer=[pd.DataFrame() for var in range(4)]          #다음 20경기씩 묶일 데이터프레임\n",
    "\n",
    "for i in range(4):\n",
    "    tra=train_data[i]\n",
    "    ans=answer[i]\n",
    "    for t in team:\n",
    "        n=sum(t_bat['T_ID']==t)\n",
    "        tra=pd.concat([tra,t_bat[t_bat['T_ID']==t][(n-110)+i*20:(n-60)+i*20]])     #50경기씩 묶음(train set)\n",
    "        if i<3:\n",
    "            ans=pd.concat([ans,t_bat[t_bat['T_ID']==t][(n-60)+i*20:(n-40)+i*20]])  #train set의 경기의 다음 20경기 묶음(test set)\n",
    "\n",
    "    #팀별 AB,HIT합 구하기\n",
    "    if i<3:\n",
    "        ans=ans.groupby(['T_ID']).sum()\n",
    "        ans['HIT_RATE']=ans['HIT']/ans['AB']          #타율 계산\n",
    "        ans=ans.drop(ans.columns[list(range(4))],axis='columns')\n",
    "\n",
    "    #변수 생성\n",
    "    tr=tra.groupby(['T_ID']).sum() \n",
    "    tr['ERA'] = tr['ER']*27/tr['INN2']                #방어율 변수생성\n",
    "\n",
    "    #변수 삭제\n",
    "    tr=tr.drop(['HIT','ER','INN2'],axis='columns')\n",
    "\n",
    "    if i <3:\n",
    "        train=pd.concat([train,make_data(tra,ans)])  \n",
    "        pa=pd.concat([pa,tr])\n",
    "    else:\n",
    "        test=make_data(tra)\n",
    "        test['ERA']=tr['ERA']                         #test set에 ERA 추가\n",
    "\n",
    "#변수 추가\n",
    "train['MEAN']=train.iloc[:,:50].mean(axis=1)          #train set에 평균 추가\n",
    "test['MEAN']=test.iloc[:,:50].mean(axis=1)            #test set 에 평균 추가\n",
    "train['ERA']=pa['ERA']                                #train set에 ERA 추가"
   ]
  },
  {
   "cell_type": "markdown",
   "metadata": {},
   "source": [
    "## 3. 모델학습(Random Forest)"
   ]
  },
  {
   "cell_type": "code",
   "execution_count": 8,
   "metadata": {},
   "outputs": [],
   "source": [
    "from sklearn.ensemble import RandomForestRegressor"
   ]
  },
  {
   "cell_type": "code",
   "execution_count": 9,
   "metadata": {},
   "outputs": [],
   "source": [
    "X_cols=list(range(1,51))+['MEAN','ERA']\n",
    "Y_col=['HIT_RATE']"
   ]
  },
  {
   "cell_type": "code",
   "execution_count": 18,
   "metadata": {},
   "outputs": [],
   "source": [
    "X_train = train[X_cols]; Y_train = train[Y_col]\n",
    "X_test = test[X_cols]\n",
    "\n",
    "model = RandomForestRegressor(random_state=1234)\n",
    "Y_train=Y_train.values.ravel()                       #rf에서의 오류 없애기 위함\n",
    "model.fit(X_train, Y_train) \n",
    "Y_predict = model.predict(X_test)\n",
    "\n",
    "predict=pd.DataFrame(data={'predict':Y_predict},index=team)  #예측 결과 출력"
   ]
  },
  {
   "cell_type": "code",
   "execution_count": 22,
   "metadata": {},
   "outputs": [
    {
     "data": {
      "text/html": [
       "<div>\n",
       "<style scoped>\n",
       "    .dataframe tbody tr th:only-of-type {\n",
       "        vertical-align: middle;\n",
       "    }\n",
       "\n",
       "    .dataframe tbody tr th {\n",
       "        vertical-align: top;\n",
       "    }\n",
       "\n",
       "    .dataframe thead th {\n",
       "        text-align: right;\n",
       "    }\n",
       "</style>\n",
       "<table border=\"1\" class=\"dataframe\">\n",
       "  <thead>\n",
       "    <tr style=\"text-align: right;\">\n",
       "      <th></th>\n",
       "      <th>predict</th>\n",
       "    </tr>\n",
       "  </thead>\n",
       "  <tbody>\n",
       "    <tr>\n",
       "      <th>HH</th>\n",
       "      <td>0.269716</td>\n",
       "    </tr>\n",
       "    <tr>\n",
       "      <th>HT</th>\n",
       "      <td>0.273103</td>\n",
       "    </tr>\n",
       "    <tr>\n",
       "      <th>KT</th>\n",
       "      <td>0.279766</td>\n",
       "    </tr>\n",
       "    <tr>\n",
       "      <th>LG</th>\n",
       "      <td>0.269461</td>\n",
       "    </tr>\n",
       "    <tr>\n",
       "      <th>LT</th>\n",
       "      <td>0.271378</td>\n",
       "    </tr>\n",
       "    <tr>\n",
       "      <th>NC</th>\n",
       "      <td>0.274942</td>\n",
       "    </tr>\n",
       "    <tr>\n",
       "      <th>OB</th>\n",
       "      <td>0.275478</td>\n",
       "    </tr>\n",
       "    <tr>\n",
       "      <th>SK</th>\n",
       "      <td>0.258436</td>\n",
       "    </tr>\n",
       "    <tr>\n",
       "      <th>SS</th>\n",
       "      <td>0.267052</td>\n",
       "    </tr>\n",
       "    <tr>\n",
       "      <th>WO</th>\n",
       "      <td>0.281110</td>\n",
       "    </tr>\n",
       "  </tbody>\n",
       "</table>\n",
       "</div>"
      ],
      "text/plain": [
       "     predict\n",
       "HH  0.269716\n",
       "HT  0.273103\n",
       "KT  0.279766\n",
       "LG  0.269461\n",
       "LT  0.271378\n",
       "NC  0.274942\n",
       "OB  0.275478\n",
       "SK  0.258436\n",
       "SS  0.267052\n",
       "WO  0.281110"
      ]
     },
     "execution_count": 22,
     "metadata": {},
     "output_type": "execute_result"
    }
   ],
   "source": [
    "predict"
   ]
  }
 ],
 "metadata": {
  "kernelspec": {
   "display_name": "Python [default]",
   "language": "python",
   "name": "python3"
  },
  "language_info": {
   "codemirror_mode": {
    "name": "ipython",
    "version": 3
   },
   "file_extension": ".py",
   "mimetype": "text/x-python",
   "name": "python",
   "nbconvert_exporter": "python",
   "pygments_lexer": "ipython3",
   "version": "3.6.5"
  }
 },
 "nbformat": 4,
 "nbformat_minor": 2
}
