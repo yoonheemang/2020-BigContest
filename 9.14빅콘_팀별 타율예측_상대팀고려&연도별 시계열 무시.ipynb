{
 "cells": [
  {
   "cell_type": "code",
   "execution_count": 32,
   "metadata": {},
   "outputs": [],
   "source": [
    "import pandas as pd\n",
    "import numpy as np\n",
    "import matplotlib.pyplot as plt"
   ]
  },
  {
   "cell_type": "markdown",
   "metadata": {},
   "source": [
    "## 1. 데이터 가져오기"
   ]
  },
  {
   "cell_type": "code",
   "execution_count": 33,
   "metadata": {},
   "outputs": [],
   "source": [
    "t_bat16=pd.read_csv(\"C:/Users/a/Desktop/2020빅콘/제공데이터/제공데이터(.CSV)_시즌별, 시트별 구분/2020빅콘테스트_스포츠투아이_제공데이터_팀타자_2016.csv\",encoding='utf-8',engine='python')\n",
    "t_bat17=pd.read_csv(\"C:/Users/a/Desktop/2020빅콘/제공데이터/제공데이터(.CSV)_시즌별, 시트별 구분/2020빅콘테스트_스포츠투아이_제공데이터_팀타자_2017.csv\",encoding='utf-8',engine='python')\n",
    "t_bat18=pd.read_csv(\"C:/Users/a/Desktop/2020빅콘/제공데이터/제공데이터(.CSV)_시즌별, 시트별 구분/2020빅콘테스트_스포츠투아이_제공데이터_팀타자_2018.csv\",encoding='utf-8',engine='python')\n",
    "t_bat19=pd.read_csv(\"C:/Users/a/Desktop/2020빅콘/제공데이터/제공데이터(.CSV)_시즌별, 시트별 구분/2020빅콘테스트_스포츠투아이_제공데이터_팀타자_2019.csv\",encoding='utf-8',engine='python')"
   ]
  },
  {
   "cell_type": "code",
   "execution_count": 34,
   "metadata": {},
   "outputs": [],
   "source": [
    "#모든 열 다 출력하기\n",
    "pd.options.display.max_columns=None"
   ]
  },
  {
   "cell_type": "markdown",
   "metadata": {},
   "source": [
    "## 2. 16,17,18,19년도 팀,상대팀 별 타율 만들기"
   ]
  },
  {
   "cell_type": "code",
   "execution_count": 35,
   "metadata": {},
   "outputs": [],
   "source": [
    "team=['LG', 'HH', 'NC', 'HT', 'SK', 'KT', 'WO', 'LT', 'SS', 'OB']\n",
    "team_vs=[t + vs for t in team for vs in team if t!=vs]"
   ]
  },
  {
   "cell_type": "code",
   "execution_count": 82,
   "metadata": {},
   "outputs": [],
   "source": [
    "t_vs16=t_bat16.groupby(['T_ID','VS_T_ID'])\n",
    "t_vs17=t_bat17.groupby(['T_ID','VS_T_ID'])\n",
    "t_vs18=t_bat18.groupby(['T_ID','VS_T_ID'])\n",
    "t_vs19=t_bat19.groupby(['T_ID','VS_T_ID'])"
   ]
  },
  {
   "cell_type": "code",
   "execution_count": 83,
   "metadata": {},
   "outputs": [],
   "source": [
    "#data 분할 (하나의 리스트에 넣기)\n",
    "def divi(t_vs):\n",
    "    a=[]\n",
    "    for i in range(len(team_vs)):\n",
    "        a.append(list(t_vs)[i][1])   \n",
    "    return a"
   ]
  },
  {
   "cell_type": "code",
   "execution_count": 84,
   "metadata": {},
   "outputs": [],
   "source": [
    "data16=divi(t_vs16)\n",
    "data17=divi(t_vs17)\n",
    "data18=divi(t_vs18)\n",
    "data19=divi(t_vs19)"
   ]
  },
  {
   "cell_type": "code",
   "execution_count": 93,
   "metadata": {},
   "outputs": [],
   "source": [
    "data_list=[data16,data17,data18,data19]\n",
    "train=[]  #9개별로 팀,상대팀이 다름\n",
    "train_ans=[]\n",
    "\n",
    "for k in range(90):\n",
    "    for i in range(len(data_list)):\n",
    "        for j in range(len(data_list)-1):\n",
    "            if i!=j:\n",
    "                train.append(pd.concat([data_list[i][k],data_list[j][k][:-3]])) #뒤에 3개 뺌\n",
    "                train_ans.append(data_list[j][k][-3:])"
   ]
  },
  {
   "cell_type": "code",
   "execution_count": 96,
   "metadata": {
    "scrolled": true
   },
   "outputs": [],
   "source": [
    "test=[]\n",
    "test_ans=[]\n",
    "for k in range(90):\n",
    "    for i in range(len(data_list)-1):\n",
    "        test.append(pd.concat([data_list[i][k],data_list[3][k][:-3]])) #뒤에 3개 뺌\n",
    "        test_ans.append(data_list[3][k][-3:])"
   ]
  },
  {
   "cell_type": "code",
   "execution_count": null,
   "metadata": {},
   "outputs": [],
   "source": [
    "tr=[]\n",
    "for i in range(90):\n",
    "    j=0\n",
    "    while j<9:\n",
    "        j+=1\n",
    "        train[i]['HIT_RATE']=train[i]['HIT']/train[i]['AB']  #타율 변수 생성\n",
    "        tr.append(train[i][['T_ID','VS_T_ID','HIT_RATE']])   #팀,상대팀 별 타율만 남김\n",
    "        num=list(range(1,int((len(train[i])/10)+1)))*10     #팀별 경기순서 추가\n",
    "        tr=tr.assign(order=num)\n",
    "        tr=tr.pivot(index='T_ID',columns='order',values='HIT_RATE') #팀당 경기별 타율 데이터셋 만들기\n",
    "    \n",
    "##############################################################################\n",
    "##포기###########\n",
    "##############################################################################"
   ]
  },
  {
   "cell_type": "code",
   "execution_count": null,
   "metadata": {},
   "outputs": [],
   "source": [
    "#정답 셋과 train 셋 만드는 함수\n",
    "t_bat=[t_bat16,t_bat17,t_bat18,t_bat19]\n",
    "def make_answer_train(year):\n",
    "    a=t_bat[year-2016][['G_ID','T_ID','AB','HIT']]\n",
    "    \n",
    "    #각 팀별로 마지막 20경기씩 뽑아서 밑으로 이어붙이기\n",
    "    ans=pd.DataFrame()\n",
    "    train=pd.DataFrame()\n",
    "    \n",
    "    for t in team:\n",
    "        ans=pd.concat([ans,a[a['T_ID']==t][-20:]])\n",
    "        train=pd.concat([train,a[a['T_ID']==t][:-20]])\n",
    "        \n",
    "    #팀별 AB,HIT합 구하기\n",
    "    ans=ans.groupby(['T_ID']).sum()\n",
    "    ans['HIT_RATE']=ans['HIT']/ans['AB'] #타율 계산\n",
    "    ans=ans.drop(ans.columns[[0,1]],axis='columns')\n",
    "    \n",
    "    return ans,train"
   ]
  },
  {
   "cell_type": "code",
   "execution_count": null,
   "metadata": {},
   "outputs": [],
   "source": [
    "def make_data(train,answer):\n",
    "    train['HIT_RATE']=train['HIT']/train['AB']\n",
    "    tr=train[['T_ID','HIT_RATE']]  #경기당 팀과 타율만 남김\n",
    "    num=list(range(1,int((len(train)/10)+1)))*10  #팀별 경기순서 추가\n",
    "    tr=tr.assign(order=num)\n",
    "    tr=tr.pivot(index='T_ID',columns='order',values='HIT_RATE') #팀당 경기별 타율 데이터셋 만들기\n",
    "    \n",
    "    data=pd.merge(tr,answer,on='T_ID') #팀별 앞124경기와 후20경기 결과 합치기\n",
    "    return data"
   ]
  },
  {
   "cell_type": "code",
   "execution_count": null,
   "metadata": {},
   "outputs": [],
   "source": []
  },
  {
   "cell_type": "markdown",
   "metadata": {},
   "source": [
    "## 3. 두개년도 합치고, 뒤 3경기 총타율 붙이기"
   ]
  },
  {
   "cell_type": "code",
   "execution_count": null,
   "metadata": {
    "scrolled": true
   },
   "outputs": [],
   "source": []
  },
  {
   "cell_type": "markdown",
   "metadata": {},
   "source": [
    "## 6. 학습시킬 데이터 셋 만들기"
   ]
  },
  {
   "cell_type": "code",
   "execution_count": null,
   "metadata": {},
   "outputs": [],
   "source": [
    "#팀, 상대팀, 월 을 기분으로 데이터 합치기\n",
    "a=pd.merge(t16,t17,on=['T_ID','VS_T_ID','MONTH'])\n",
    "b=pd.merge(a,t18,on=['T_ID','VS_T_ID','MONTH'])\n",
    "data=pd.merge(b,t19,on=['T_ID','VS_T_ID','MONTH'])"
   ]
  },
  {
   "cell_type": "markdown",
   "metadata": {
    "scrolled": true
   },
   "source": [
    "a=pd.merge(data_cum,t16,on=['T_ID','VS_T_ID','MONTH'])\n",
    "b=pd.merge(a,t17,on=['T_ID','VS_T_ID','MONTH'])\n",
    "c=pd.merge(b,t18,on=['T_ID','VS_T_ID','MONTH'])\n",
    "data=pd.merge(c,t19,on=['T_ID','VS_T_ID','MONTH'])"
   ]
  },
  {
   "cell_type": "code",
   "execution_count": null,
   "metadata": {},
   "outputs": [],
   "source": [
    "data=data.reset_index(level=['MONTH']) #MONTH열을 index에서 값으로 변환\n",
    "data=data.astype({'MONTH':'int'}) #MONTH 값 형식을 숫자로 변환"
   ]
  },
  {
   "cell_type": "code",
   "execution_count": null,
   "metadata": {
    "scrolled": true
   },
   "outputs": [],
   "source": [
    "data"
   ]
  },
  {
   "cell_type": "markdown",
   "metadata": {},
   "source": [
    "16년, 17년, 18년 팀별 성적 데이터셋 이용"
   ]
  },
  {
   "cell_type": "markdown",
   "metadata": {},
   "source": [
    "## 7. 모델학습"
   ]
  },
  {
   "cell_type": "code",
   "execution_count": null,
   "metadata": {},
   "outputs": [],
   "source": [
    "# 출력 할 때 마다, 기존 출력물들은 제거해주는 모듈\n",
    "from IPython.display import clear_output"
   ]
  },
  {
   "cell_type": "code",
   "execution_count": null,
   "metadata": {},
   "outputs": [],
   "source": [
    "# 모델 모듈\n",
    "import xgboost\n",
    "from xgboost import XGBRegressor, plot_importance\n",
    "from lightgbm import LGBMRegressor\n",
    "from sklearn.ensemble import RandomForestRegressor\n",
    "from sklearn.svm import SVR\n",
    "from sklearn.linear_model import Ridge, Lasso, LinearRegression, ElasticNet\n",
    "from sklearn.neighbors import KNeighborsRegressor\n",
    "\n",
    "from sklearn.metrics import mean_squared_error, r2_score\n",
    "from sklearn.preprocessing import StandardScaler, MinMaxScaler"
   ]
  },
  {
   "cell_type": "code",
   "execution_count": null,
   "metadata": {},
   "outputs": [],
   "source": [
    "stats+=['HIT_RATE']"
   ]
  },
  {
   "cell_type": "code",
   "execution_count": null,
   "metadata": {},
   "outputs": [],
   "source": [
    "# 누적 및 lag stat features 이름\n",
    "stats_cum = ['cum_' + i for i in stats]\n",
    "stats_16 = ['16_' + i for i in stats]\n",
    "stats_17 = ['17_' +i for i in stats]\n",
    "stats_18 = ['18_' +i for i in stats]"
   ]
  },
  {
   "cell_type": "code",
   "execution_count": null,
   "metadata": {
    "scrolled": true
   },
   "outputs": [],
   "source": [
    "X_cols=stats_cum+stats_16+stats_17+stats_18\n",
    "#X_cols=stats_16+stats_17+stats_18\n",
    "Y_col=['19_HIT_RATE'] #19_AB, 19_HIT"
   ]
  },
  {
   "cell_type": "code",
   "execution_count": null,
   "metadata": {},
   "outputs": [],
   "source": [
    "#### 학습시킬 모델\n",
    "model_dict = {'xgb':XGBRegressor(n_estimators=110, learning_rate=0.05 ,max_depth=3, min_samples_split=400, random_state=23),\n",
    "    'lgbm':LGBMRegressor(),\n",
    "    'rf':RandomForestRegressor(),\n",
    "    'svr':SVR(),\n",
    "    'knn':KNeighborsRegressor(),\n",
    "    'reg':LinearRegression(),\n",
    "    'ridge':Ridge(),\n",
    "    'lasso':Lasso()}"
   ]
  },
  {
   "cell_type": "code",
   "execution_count": null,
   "metadata": {},
   "outputs": [],
   "source": [
    "train=train18\n",
    "test=test18"
   ]
  },
  {
   "cell_type": "code",
   "execution_count": null,
   "metadata": {},
   "outputs": [],
   "source": [
    "X_train = train[X_cols]; Y_train = train[Y_col]\n",
    "X_test = test[X_cols]; Y_test = test[Y_col]\n",
    "diff=[]\n",
    "\n",
    "#모델 여러개 돌려보기\n",
    "model_list=['xgb','lgbm','rf','svr','reg','ridge','lasso']\n",
    "for m in model_list:\n",
    "    model = model_dict[m]\n",
    "    if m=='rf': Y_train=Y_train.values.ravel()  #rf에서의 오류 없애기 위함\n",
    "    weight = train['mean']\n",
    "    model.fit(X_train, Y_train, sample_weight=weight)\n",
    "    Y_predict = model.predict(X_test)\n",
    "\n",
    "    r2=r2_score(Y_test, Y_predict)\n",
    "\n",
    "    a=Y_test.assign(predict=Y_predict)\n",
    "    a['diff']=a['HIT_RATE']-a['predict']\n",
    "    print(m,\"\\t>r2 :\", r2,'\\ttrain점수 :{:.3f}'.format(model.score(X_train,Y_train)),\"\\t차이합 :\",abs(a['diff']).sum())\n",
    "    diff.append(r2)"
   ]
  },
  {
   "cell_type": "code",
   "execution_count": null,
   "metadata": {},
   "outputs": [],
   "source": [
    "#r2가 가장 큰 모델 돌리기\n",
    "model = model_dict[model_list[diff.index(max(diff))]]\n",
    "if m=='rf': Y_train=Y_train.values.ravel()  #rf에서의 오류 없애기 위함\n",
    "weight = train['mean']\n",
    "model.fit(X_train, Y_train, sample_weight=weight)\n",
    "Y_predict = model.predict(X_test)\n",
    "print(model_list[diff.index(min(diff))])"
   ]
  },
  {
   "cell_type": "markdown",
   "metadata": {},
   "source": [
    "### 예측값과 실제값 차이"
   ]
  },
  {
   "cell_type": "code",
   "execution_count": null,
   "metadata": {
    "scrolled": false
   },
   "outputs": [],
   "source": [
    "# 예측값과 실제값의 시각화\n",
    "plt.scatter(Y_test, Y_predict)\n",
    "plt.xlabel(\"실제 값\")\n",
    "plt.ylabel(\"예측 값\")"
   ]
  },
  {
   "cell_type": "code",
   "execution_count": null,
   "metadata": {
    "scrolled": true
   },
   "outputs": [],
   "source": [
    "#예측값과 실제값 차이\n",
    "a=Y_test\n",
    "a=a.assign(predict=Y_predict)\n",
    "a['diff']=a['HIT_RATE']-a['predict']\n",
    "a"
   ]
  },
  {
   "cell_type": "code",
   "execution_count": null,
   "metadata": {},
   "outputs": [],
   "source": [
    "#차이 합\n",
    "abs(a['diff']).sum()"
   ]
  },
  {
   "cell_type": "code",
   "execution_count": null,
   "metadata": {},
   "outputs": [],
   "source": []
  },
  {
   "cell_type": "code",
   "execution_count": null,
   "metadata": {},
   "outputs": [],
   "source": []
  }
 ],
 "metadata": {
  "kernelspec": {
   "display_name": "Python [default]",
   "language": "python",
   "name": "python3"
  },
  "language_info": {
   "codemirror_mode": {
    "name": "ipython",
    "version": 3
   },
   "file_extension": ".py",
   "mimetype": "text/x-python",
   "name": "python",
   "nbconvert_exporter": "python",
   "pygments_lexer": "ipython3",
   "version": "3.6.5"
  }
 },
 "nbformat": 4,
 "nbformat_minor": 2
}
