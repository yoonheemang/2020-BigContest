{
 "cells": [
  {
   "cell_type": "markdown",
   "metadata": {},
   "source": [
    "1. 앞 120경기로 후 20경기 예측\n",
    "\n",
    "2. 앞 120경기를 20경기씩 6묶음으로 묶어서 후 20경기 예측"
   ]
  },
  {
   "cell_type": "code",
   "execution_count": 3,
   "metadata": {},
   "outputs": [],
   "source": [
    "import pandas as pd\n",
    "import numpy as np\n",
    "import matplotlib.pyplot as plt"
   ]
  },
  {
   "cell_type": "markdown",
   "metadata": {},
   "source": [
    "## 1. 데이터 가져오기"
   ]
  },
  {
   "cell_type": "code",
   "execution_count": 4,
   "metadata": {},
   "outputs": [],
   "source": [
    "t_bat16=pd.read_csv(\"C:/Users/a/Desktop/2020빅콘/제공데이터/제공데이터(.CSV)_시즌별, 시트별 구분/2020빅콘테스트_스포츠투아이_제공데이터_팀타자_2016.csv\",encoding='utf-8',engine='python')\n",
    "t_bat17=pd.read_csv(\"C:/Users/a/Desktop/2020빅콘/제공데이터/제공데이터(.CSV)_시즌별, 시트별 구분/2020빅콘테스트_스포츠투아이_제공데이터_팀타자_2017.csv\",encoding='utf-8',engine='python')\n",
    "t_bat18=pd.read_csv(\"C:/Users/a/Desktop/2020빅콘/제공데이터/제공데이터(.CSV)_시즌별, 시트별 구분/2020빅콘테스트_스포츠투아이_제공데이터_팀타자_2018.csv\",encoding='utf-8',engine='python')\n",
    "t_bat19=pd.read_csv(\"C:/Users/a/Desktop/2020빅콘/제공데이터/제공데이터(.CSV)_시즌별, 시트별 구분/2020빅콘테스트_스포츠투아이_제공데이터_팀타자_2019.csv\",encoding='utf-8',engine='python')"
   ]
  },
  {
   "cell_type": "code",
   "execution_count": 5,
   "metadata": {},
   "outputs": [],
   "source": [
    "#모든 열 다 출력하기\n",
    "pd.options.display.max_columns=None"
   ]
  },
  {
   "cell_type": "markdown",
   "metadata": {},
   "source": [
    "## 2. train test 셋 만들기"
   ]
  },
  {
   "cell_type": "code",
   "execution_count": 6,
   "metadata": {},
   "outputs": [],
   "source": [
    "team=['HH', 'HT', 'KT', 'LG', 'LT', 'NC', 'OB', 'SK', 'SS', 'WO']"
   ]
  },
  {
   "cell_type": "code",
   "execution_count": 7,
   "metadata": {},
   "outputs": [],
   "source": [
    "def make_data(train,answer):\n",
    "    train['HIT_RATE']=train['HIT']/train['AB']\n",
    "    tr=train[['T_ID','HIT_RATE']]  #경기당 팀과 타율만 남김\n",
    "    num=list(range(1,int((len(train)/10)+1)))*10  #팀별 경기순서 추가\n",
    "    tr=tr.assign(order=num)\n",
    "    tr=tr.pivot(index='T_ID',columns='order',values='HIT_RATE') #팀당 경기별 타율 데이터셋 만들기\n",
    "    \n",
    "    data=pd.merge(tr,answer,on='T_ID') #팀별 앞124경기와 후20경기 결과 합치기\n",
    "    return data"
   ]
  },
  {
   "cell_type": "code",
   "execution_count": 66,
   "metadata": {},
   "outputs": [],
   "source": [
    "#정답 셋과 train 셋 만드는 함수\n",
    "t_bat=[t_bat16,t_bat17,t_bat18,t_bat19]\n",
    "def make_answer_train(year):\n",
    "    a=t_bat[year-2016][['T_ID','AB','HIT']][140:]  #각 팀당 앞 14경기 버리기\n",
    "    data=pd.DataFrame()  #빈 데이터프레임 만들기\n",
    "\n",
    "    train_name=['train' + str(i) for i in range(1,5)]\n",
    "    train=[pd.DataFrame() for var in train_name] #50경기씩 묶일 데이터셋\n",
    "    \n",
    "    ans_name=['ans' + str(i) for i in range(1,5)]\n",
    "    answer=[pd.DataFrame() for var in ans_name]  #20경기씩 묶일 데이터셋\n",
    "    \n",
    "    data_name=['data' + str(i) for i in range(1,5)]\n",
    "    \n",
    "    for i in range(4):\n",
    "        tra=train[i]\n",
    "        ans=answer[i]\n",
    "        for t in team:\n",
    "            tra=pd.concat([tra,a[a['T_ID']==t][i*20:50+i*20]])\n",
    "            ans=pd.concat([ans,a[a['T_ID']==t][50+i*20:70+i*20]])\n",
    "\n",
    "        #팀별 AB,HIT합 구하기\n",
    "        ans=ans.groupby(['T_ID']).sum()\n",
    "        ans['HIT_RATE']=ans['HIT']/ans['AB'] #타율 계산\n",
    "        ans=ans.drop(ans.columns[[0,1]],axis='columns')\n",
    "\n",
    "        if i <3:\n",
    "            d=make_data(tra,ans)\n",
    "            data=pd.concat([data,d])\n",
    "        else:\n",
    "            test=make_data(tra,ans)\n",
    "        \n",
    "    return data,test"
   ]
  },
  {
   "cell_type": "code",
   "execution_count": 68,
   "metadata": {
    "scrolled": true
   },
   "outputs": [],
   "source": [
    "train16,test16=make_answer_train(2016)\n",
    "train17,test17=make_answer_train(2017)\n",
    "train18,test18=make_answer_train(2018)\n",
    "train19,test19=make_answer_train(2019)"
   ]
  },
  {
   "cell_type": "markdown",
   "metadata": {},
   "source": [
    "## 3. 모델학습"
   ]
  },
  {
   "cell_type": "code",
   "execution_count": 69,
   "metadata": {},
   "outputs": [],
   "source": [
    "# 출력 할 때 마다, 기존 출력물들은 제거해주는 모듈\n",
    "from IPython.display import clear_output"
   ]
  },
  {
   "cell_type": "code",
   "execution_count": 70,
   "metadata": {},
   "outputs": [],
   "source": [
    "# 모델 모듈\n",
    "import xgboost\n",
    "from xgboost import XGBRegressor, plot_importance\n",
    "from lightgbm import LGBMRegressor\n",
    "from sklearn.ensemble import RandomForestRegressor\n",
    "from sklearn.svm import SVR\n",
    "from sklearn.linear_model import Ridge, Lasso, LinearRegression, ElasticNet\n",
    "from sklearn.neighbors import KNeighborsRegressor\n",
    "\n",
    "from sklearn.metrics import mean_squared_error, r2_score\n",
    "from sklearn.preprocessing import StandardScaler, MinMaxScaler"
   ]
  },
  {
   "cell_type": "code",
   "execution_count": 72,
   "metadata": {
    "scrolled": true
   },
   "outputs": [],
   "source": [
    "X_cols=list(range(1,51))\n",
    "Y_col=['HIT_RATE']"
   ]
  },
  {
   "cell_type": "code",
   "execution_count": 74,
   "metadata": {},
   "outputs": [],
   "source": [
    "#### 학습시킬 모델\n",
    "model_dict = {'xgb':XGBRegressor(n_estimators=100, learning_rate=0.05 ,max_depth=3, random_state=23),\n",
    "    'lgbm':LGBMRegressor(),\n",
    "    'rf':RandomForestRegressor(),\n",
    "    'svr':SVR(),\n",
    "    'reg':LinearRegression(),\n",
    "    'ridge':Ridge(),\n",
    "    'lasso':Lasso()}"
   ]
  },
  {
   "cell_type": "code",
   "execution_count": 110,
   "metadata": {},
   "outputs": [],
   "source": [
    "train=train16\n",
    "test=test16"
   ]
  },
  {
   "cell_type": "code",
   "execution_count": 127,
   "metadata": {
    "scrolled": true
   },
   "outputs": [
    {
     "name": "stdout",
     "output_type": "stream",
     "text": [
      "test error :  0.013317199121878565\n",
      "r2 :  0.30393488887027387\n"
     ]
    }
   ],
   "source": [
    "X_train = train[X_cols]\n",
    "Y_train = train[Y_col]\n",
    "\n",
    "X_test = test[X_cols]\n",
    "Y_test = test[Y_col]\n",
    "\n",
    "model = model_dict['xgb']    #모델명 바꾸어 가면서 실험 가능\n",
    "#weight = train['17_HIT_RATE']\n",
    "#model.fit(X_train, Y_train, sample_weight=weight)\n",
    "model.fit(X_train, Y_train)  #가중치 제거\n",
    "Y_predict = model.predict(X_test)\n",
    "\n",
    "#test_error=mean_squared_error(Y_test, Y_predict, sample_weight=X_test['17_HIT_RATE']) ** 0.5\n",
    "test_error=mean_squared_error(Y_test, Y_predict) ** 0.5  #가중치 제거\n",
    "r2=r2_score(Y_test, Y_predict)\n",
    "    \n",
    "print(\"test error : \", test_error)\n",
    "print(\"r2 : \", r2)"
   ]
  },
  {
   "cell_type": "markdown",
   "metadata": {},
   "source": [
    "1.xgb > \n",
    "test error :  0.034645487302268914\n",
    "r2 :  -2.2041863372750212\n",
    "\n",
    "2. lgbm > \n",
    "test error :  0.024255481057295004\n",
    "r2 :  -0.5705226369343803\n",
    "\n",
    "3. rf > \n",
    "test error :  0.027348058385408155\n",
    "r2 :  -0.9965372280251992\n",
    "\n",
    "4. svr > \n",
    "test error :  0.02755574849536312\n",
    "r2 :  -1.0269770908040021\n",
    "\n",
    "5. reg > \n",
    "test error :  0.034186874825641325\n",
    "r2 :  -2.1199182852069756\n",
    "\n",
    "6. ridge > \n",
    "test error :  0.025524426712018357\n",
    "r2 :  -0.7391474675076914\n",
    "\n",
    "7. lasso > \n",
    "test error :  0.024255481966177092\n",
    "r2 :  -0.5705227546331315\n"
   ]
  },
  {
   "cell_type": "markdown",
   "metadata": {},
   "source": [
    "### 예측값과 실제값 차이"
   ]
  },
  {
   "cell_type": "code",
   "execution_count": 128,
   "metadata": {
    "scrolled": false
   },
   "outputs": [
    {
     "data": {
      "text/plain": [
       "Text(0,0.5,'예측 값')"
      ]
     },
     "execution_count": 128,
     "metadata": {},
     "output_type": "execute_result"
    },
    {
     "data": {
      "image/png": "[encoded data removed]",
      "text/plain": [
       "<Figure size 432x288 with 1 Axes>"
      ]
     },
     "metadata": {},
     "output_type": "display_data"
    }
   ],
   "source": [
    "# 예측값과 실제값의 시각화\n",
    "plt.scatter(Y_test, Y_predict)\n",
    "plt.xlabel(\"실제 값\")\n",
    "plt.ylabel(\"예측 값\")"
   ]
  },
  {
   "cell_type": "code",
   "execution_count": 129,
   "metadata": {
    "scrolled": false
   },
   "outputs": [
    {
     "data": {
      "text/html": [
       "<div>\n",
       "<style scoped>\n",
       "    .dataframe tbody tr th:only-of-type {\n",
       "        vertical-align: middle;\n",
       "    }\n",
       "\n",
       "    .dataframe tbody tr th {\n",
       "        vertical-align: top;\n",
       "    }\n",
       "\n",
       "    .dataframe thead th {\n",
       "        text-align: right;\n",
       "    }\n",
       "</style>\n",
       "<table border=\"1\" class=\"dataframe\">\n",
       "  <thead>\n",
       "    <tr style=\"text-align: right;\">\n",
       "      <th></th>\n",
       "      <th>HIT_RATE</th>\n",
       "      <th>predict</th>\n",
       "      <th>diff</th>\n",
       "    </tr>\n",
       "    <tr>\n",
       "      <th>T_ID</th>\n",
       "      <th></th>\n",
       "      <th></th>\n",
       "      <th></th>\n",
       "    </tr>\n",
       "  </thead>\n",
       "  <tbody>\n",
       "    <tr>\n",
       "      <th>HH</th>\n",
       "      <td>0.276878</td>\n",
       "      <td>0.284849</td>\n",
       "      <td>0.007971</td>\n",
       "    </tr>\n",
       "    <tr>\n",
       "      <th>HT</th>\n",
       "      <td>0.279522</td>\n",
       "      <td>0.282377</td>\n",
       "      <td>0.002856</td>\n",
       "    </tr>\n",
       "    <tr>\n",
       "      <th>KT</th>\n",
       "      <td>0.287879</td>\n",
       "      <td>0.280325</td>\n",
       "      <td>0.007554</td>\n",
       "    </tr>\n",
       "    <tr>\n",
       "      <th>LG</th>\n",
       "      <td>0.267908</td>\n",
       "      <td>0.283095</td>\n",
       "      <td>0.015187</td>\n",
       "    </tr>\n",
       "    <tr>\n",
       "      <th>LT</th>\n",
       "      <td>0.300699</td>\n",
       "      <td>0.296181</td>\n",
       "      <td>0.004519</td>\n",
       "    </tr>\n",
       "    <tr>\n",
       "      <th>NC</th>\n",
       "      <td>0.271408</td>\n",
       "      <td>0.283025</td>\n",
       "      <td>0.011617</td>\n",
       "    </tr>\n",
       "    <tr>\n",
       "      <th>OB</th>\n",
       "      <td>0.316216</td>\n",
       "      <td>0.308033</td>\n",
       "      <td>0.008183</td>\n",
       "    </tr>\n",
       "    <tr>\n",
       "      <th>SK</th>\n",
       "      <td>0.281690</td>\n",
       "      <td>0.293888</td>\n",
       "      <td>0.012198</td>\n",
       "    </tr>\n",
       "    <tr>\n",
       "      <th>SS</th>\n",
       "      <td>0.306207</td>\n",
       "      <td>0.291685</td>\n",
       "      <td>0.014522</td>\n",
       "    </tr>\n",
       "    <tr>\n",
       "      <th>WO</th>\n",
       "      <td>0.267994</td>\n",
       "      <td>0.296840</td>\n",
       "      <td>0.028846</td>\n",
       "    </tr>\n",
       "  </tbody>\n",
       "</table>\n",
       "</div>"
      ],
      "text/plain": [
       "      HIT_RATE   predict      diff\n",
       "T_ID                              \n",
       "HH    0.276878  0.284849  0.007971\n",
       "HT    0.279522  0.282377  0.002856\n",
       "KT    0.287879  0.280325  0.007554\n",
       "LG    0.267908  0.283095  0.015187\n",
       "LT    0.300699  0.296181  0.004519\n",
       "NC    0.271408  0.283025  0.011617\n",
       "OB    0.316216  0.308033  0.008183\n",
       "SK    0.281690  0.293888  0.012198\n",
       "SS    0.306207  0.291685  0.014522\n",
       "WO    0.267994  0.296840  0.028846"
      ]
     },
     "execution_count": 129,
     "metadata": {},
     "output_type": "execute_result"
    }
   ],
   "source": [
    "#예측값과 실제값 차이\n",
    "a=Y_test\n",
    "a=a.assign(predict=Y_predict)\n",
    "a['diff']=abs(a['HIT_RATE']-a['predict'])\n",
    "a"
   ]
  },
  {
   "cell_type": "code",
   "execution_count": 130,
   "metadata": {},
   "outputs": [
    {
     "data": {
      "text/plain": [
       "0.1134515269919869"
      ]
     },
     "execution_count": 130,
     "metadata": {},
     "output_type": "execute_result"
    }
   ],
   "source": [
    "#차이 합\n",
    "a['diff'].sum()"
   ]
  },
  {
   "cell_type": "code",
   "execution_count": null,
   "metadata": {},
   "outputs": [],
   "source": []
  }
 ],
 "metadata": {
  "kernelspec": {
   "display_name": "Python [default]",
   "language": "python",
   "name": "python3"
  },
  "language_info": {
   "codemirror_mode": {
    "name": "ipython",
    "version": 3
   },
   "file_extension": ".py",
   "mimetype": "text/x-python",
   "name": "python",
   "nbconvert_exporter": "python",
   "pygments_lexer": "ipython3",
   "version": "3.6.5"
  }
 },
 "nbformat": 4,
 "nbformat_minor": 2
}
