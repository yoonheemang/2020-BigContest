{
 "cells": [
  {
   "cell_type": "markdown",
   "metadata": {},
   "source": [
    "1. 열에 전체 평균 추가\n",
    "\n",
    "2. 열에 중앙값 추가"
   ]
  },
  {
   "cell_type": "code",
   "execution_count": 1,
   "metadata": {},
   "outputs": [],
   "source": [
    "import pandas as pd\n",
    "import numpy as np\n",
    "import matplotlib.pyplot as plt"
   ]
  },
  {
   "cell_type": "markdown",
   "metadata": {},
   "source": [
    "## 1. 데이터 가져오기"
   ]
  },
  {
   "cell_type": "code",
   "execution_count": 2,
   "metadata": {},
   "outputs": [],
   "source": [
    "t_bat16=pd.read_csv(\"C:/Users/a/Desktop/2020빅콘/제공데이터/제공데이터(.CSV)_시즌별, 시트별 구분/2020빅콘테스트_스포츠투아이_제공데이터_팀타자_2016.csv\",encoding='utf-8',engine='python')\n",
    "t_bat17=pd.read_csv(\"C:/Users/a/Desktop/2020빅콘/제공데이터/제공데이터(.CSV)_시즌별, 시트별 구분/2020빅콘테스트_스포츠투아이_제공데이터_팀타자_2017.csv\",encoding='utf-8',engine='python')\n",
    "t_bat18=pd.read_csv(\"C:/Users/a/Desktop/2020빅콘/제공데이터/제공데이터(.CSV)_시즌별, 시트별 구분/2020빅콘테스트_스포츠투아이_제공데이터_팀타자_2018.csv\",encoding='utf-8',engine='python')\n",
    "t_bat19=pd.read_csv(\"C:/Users/a/Desktop/2020빅콘/제공데이터/제공데이터(.CSV)_시즌별, 시트별 구분/2020빅콘테스트_스포츠투아이_제공데이터_팀타자_2019.csv\",encoding='utf-8',engine='python')"
   ]
  },
  {
   "cell_type": "code",
   "execution_count": 3,
   "metadata": {},
   "outputs": [],
   "source": [
    "#모든 열 다 출력하기\n",
    "pd.options.display.max_columns=None"
   ]
  },
  {
   "cell_type": "markdown",
   "metadata": {},
   "source": [
    "## 2. train test 셋 만들기"
   ]
  },
  {
   "cell_type": "code",
   "execution_count": 4,
   "metadata": {},
   "outputs": [],
   "source": [
    "team=['HH', 'HT', 'KT', 'LG', 'LT', 'NC', 'OB', 'SK', 'SS', 'WO']"
   ]
  },
  {
   "cell_type": "code",
   "execution_count": 5,
   "metadata": {},
   "outputs": [],
   "source": [
    "def make_data(train,answer):\n",
    "    train['HIT_RATE']=train['HIT']/train['AB']\n",
    "    tr=train[['T_ID','HIT_RATE']]  #경기당 팀과 타율만 남김\n",
    "    num=list(range(1,int((len(train)/10)+1)))*10  #팀별 경기순서 추가\n",
    "    tr=tr.assign(order=num)\n",
    "    tr=tr.pivot(index='T_ID',columns='order',values='HIT_RATE') #팀당 경기별 타율 데이터셋 만들기\n",
    "    \n",
    "    data=pd.merge(tr,answer,on='T_ID') #팀별 앞124경기와 후20경기 결과 합치기\n",
    "    return data"
   ]
  },
  {
   "cell_type": "code",
   "execution_count": 6,
   "metadata": {},
   "outputs": [],
   "source": [
    "#정답 셋과 train 셋 만드는 함수\n",
    "t_bat=[t_bat16,t_bat17,t_bat18,t_bat19]\n",
    "def make_answer_train(year):\n",
    "    a=t_bat[year-2016][['T_ID','AB','HIT']][140:]  #각 팀당 앞 14경기 버리기\n",
    "    data=pd.DataFrame()  #빈 데이터프레임 만들기\n",
    "\n",
    "    train_name=['train' + str(i) for i in range(1,5)]\n",
    "    train=[pd.DataFrame() for var in train_name] #50경기씩 묶일 데이터셋\n",
    "    \n",
    "    ans_name=['ans' + str(i) for i in range(1,5)]\n",
    "    answer=[pd.DataFrame() for var in ans_name]  #20경기씩 묶일 데이터셋\n",
    "        \n",
    "    for i in range(4):\n",
    "        tra=train[i]\n",
    "        ans=answer[i]\n",
    "        for t in team:\n",
    "            tra=pd.concat([tra,a[a['T_ID']==t][i*20:50+i*20]])\n",
    "            ans=pd.concat([ans,a[a['T_ID']==t][50+i*20:70+i*20]])\n",
    "\n",
    "        #팀별 AB,HIT합 구하기\n",
    "        ans=ans.groupby(['T_ID']).sum()\n",
    "        ans['HIT_RATE']=ans['HIT']/ans['AB'] #타율 계산\n",
    "        ans=ans.drop(ans.columns[[0,1]],axis='columns')\n",
    "\n",
    "        if i <3:\n",
    "            d=make_data(tra,ans)\n",
    "            data=pd.concat([data,d])\n",
    "        else:\n",
    "            test=make_data(tra,ans)\n",
    "            \n",
    "    data['mean']=data.mean(axis=1)\n",
    "    test['mean']=test.mean(axis=1)\n",
    "        \n",
    "    return data,test"
   ]
  },
  {
   "cell_type": "code",
   "execution_count": 7,
   "metadata": {
    "scrolled": true
   },
   "outputs": [],
   "source": [
    "train16,test16=make_answer_train(2016)\n",
    "train17,test17=make_answer_train(2017)\n",
    "train18,test18=make_answer_train(2018)\n",
    "train19,test19=make_answer_train(2019)"
   ]
  },
  {
   "cell_type": "markdown",
   "metadata": {},
   "source": [
    "## 3. 모델학습"
   ]
  },
  {
   "cell_type": "code",
   "execution_count": 8,
   "metadata": {},
   "outputs": [],
   "source": [
    "# 출력 할 때 마다, 기존 출력물들은 제거해주는 모듈\n",
    "from IPython.display import clear_output"
   ]
  },
  {
   "cell_type": "code",
   "execution_count": 9,
   "metadata": {},
   "outputs": [],
   "source": [
    "# 모델 모듈\n",
    "import xgboost\n",
    "from xgboost import XGBRegressor, plot_importance\n",
    "from lightgbm import LGBMRegressor\n",
    "from sklearn.ensemble import RandomForestRegressor\n",
    "from sklearn.svm import SVR\n",
    "from sklearn.linear_model import Ridge, Lasso, LinearRegression, ElasticNet\n",
    "from sklearn.neighbors import KNeighborsRegressor\n",
    "\n",
    "from sklearn.metrics import mean_squared_error, r2_score\n",
    "from sklearn.preprocessing import StandardScaler, MinMaxScaler"
   ]
  },
  {
   "cell_type": "code",
   "execution_count": 10,
   "metadata": {
    "scrolled": true
   },
   "outputs": [],
   "source": [
    "X_cols=list(range(1,51))+['mean']\n",
    "Y_col=['HIT_RATE']"
   ]
  },
  {
   "cell_type": "code",
   "execution_count": 11,
   "metadata": {},
   "outputs": [],
   "source": [
    "#### 학습시킬 모델\n",
    "model_dict = {'xgb':XGBRegressor(n_estimators=100, learning_rate=0.05 ,max_depth=3, random_state=23),\n",
    "    'lgbm':LGBMRegressor(),\n",
    "    'rf':RandomForestRegressor(),\n",
    "    'svr':SVR(),\n",
    "    'reg':LinearRegression(),\n",
    "    'ridge':Ridge(alpha=100,normalize=True),\n",
    "    'lasso':Lasso(alpha=0.05,normalize=True)}  #변수 자동 채택 / 많은 변수를 다룰때 활용"
   ]
  },
  {
   "cell_type": "markdown",
   "metadata": {},
   "source": [
    "*ridge : 모든 변수를 가지고 계수값을 줄임(모델 복잡/성능저하)\n",
    "\n",
    "*lasso : 변수들끼리 correlate하면 한개의 변수만 채택(정보손실 / 정확성 떨어질수있음)"
   ]
  },
  {
   "cell_type": "code",
   "execution_count": 63,
   "metadata": {},
   "outputs": [],
   "source": [
    "train=train19\n",
    "test=test18"
   ]
  },
  {
   "cell_type": "code",
   "execution_count": 64,
   "metadata": {
    "scrolled": false
   },
   "outputs": [
    {
     "name": "stdout",
     "output_type": "stream",
     "text": [
      "xgb \t>r2 : -0.7008983397792139 \ttrain점수 :0.963 \t차이합 : 0.14035300153065922\n",
      "lgbm \t>r2 : -0.9560449993851592 \ttrain점수 :-0.000 \t차이합 : 0.1643996115266706\n",
      "rf \t>r2 : -0.6228506451571265 \ttrain점수 :0.838 \t차이합 : 0.1515087488937799\n",
      "svr \t>r2 : -0.45918198515576103 \ttrain점수 :-0.063 \t차이합 : 0.1424858018336509\n",
      "reg \t>r2 : -17.440660401898974 \ttrain점수 :1.000 \t차이합 : 0.6043257667675115\n",
      "ridge \t>r2 : -1.01337037431807 \ttrain점수 :0.035 \t차이합 : 0.1678739638551876\n",
      "lasso \t>r2 : -0.9560451115449791 \ttrain점수 :-0.000 \t차이합 : 0.164399617019642\n"
     ]
    }
   ],
   "source": [
    "X_train = train[X_cols]; Y_train = train[Y_col]\n",
    "X_test = test[X_cols]; Y_test = test[Y_col]\n",
    "diff=[]\n",
    "\n",
    "#모델 여러개 돌려보기\n",
    "model_list=['xgb','lgbm','rf','svr','reg','ridge','lasso']\n",
    "for m in model_list:\n",
    "    model = model_dict[m]\n",
    "    if m=='rf': Y_train=Y_train.values.ravel()  #rf에서의 오류 없애기 위함\n",
    "    weight = train['mean']\n",
    "    model.fit(X_train, Y_train, sample_weight=weight)\n",
    "    Y_predict = model.predict(X_test)\n",
    "\n",
    "    r2=r2_score(Y_test, Y_predict)\n",
    "\n",
    "    a=Y_test.assign(predict=Y_predict)\n",
    "    a['diff']=a['HIT_RATE']-a['predict']\n",
    "    print(m,\"\\t>r2 :\", r2,'\\ttrain점수 :{:.3f}'.format(model.score(X_train,Y_train)),\"\\t차이합 :\",abs(a['diff']).sum())\n",
    "    diff.append(r2)"
   ]
  },
  {
   "cell_type": "code",
   "execution_count": 20,
   "metadata": {},
   "outputs": [
    {
     "name": "stdout",
     "output_type": "stream",
     "text": [
      "rf\n"
     ]
    }
   ],
   "source": [
    "#r2가 가장 큰 모델 돌리기\n",
    "model = model_dict[model_list[diff.index(max(diff))]]\n",
    "if m=='rf': Y_train=Y_train.values.ravel()  #rf에서의 오류 없애기 위함\n",
    "weight = train['mean']\n",
    "model.fit(X_train, Y_train, sample_weight=weight)\n",
    "Y_predict = model.predict(X_test)\n",
    "print(model_list[diff.index(max(diff))])"
   ]
  },
  {
   "cell_type": "markdown",
   "metadata": {},
   "source": [
    "### 예측값과 실제값 차이"
   ]
  },
  {
   "cell_type": "code",
   "execution_count": 14,
   "metadata": {
    "scrolled": false
   },
   "outputs": [
    {
     "data": {
      "text/plain": [
       "Text(0,0.5,'예측 값')"
      ]
     },
     "execution_count": 14,
     "metadata": {},
     "output_type": "execute_result"
    },
    {
     "data": {
      "image/png": "[encoded data removed]",
      "text/plain": [
       "<Figure size 432x288 with 1 Axes>"
      ]
     },
     "metadata": {},
     "output_type": "display_data"
    }
   ],
   "source": [
    "# 예측값과 실제값의 시각화\n",
    "plt.scatter(Y_test, Y_predict)\n",
    "plt.xlabel(\"실제 값\")\n",
    "plt.ylabel(\"예측 값\")"
   ]
  },
  {
   "cell_type": "code",
   "execution_count": 15,
   "metadata": {
    "scrolled": false
   },
   "outputs": [
    {
     "data": {
      "text/html": [
       "<div>\n",
       "<style scoped>\n",
       "    .dataframe tbody tr th:only-of-type {\n",
       "        vertical-align: middle;\n",
       "    }\n",
       "\n",
       "    .dataframe tbody tr th {\n",
       "        vertical-align: top;\n",
       "    }\n",
       "\n",
       "    .dataframe thead th {\n",
       "        text-align: right;\n",
       "    }\n",
       "</style>\n",
       "<table border=\"1\" class=\"dataframe\">\n",
       "  <thead>\n",
       "    <tr style=\"text-align: right;\">\n",
       "      <th></th>\n",
       "      <th>HIT_RATE</th>\n",
       "      <th>predict</th>\n",
       "      <th>diff</th>\n",
       "    </tr>\n",
       "    <tr>\n",
       "      <th>T_ID</th>\n",
       "      <th></th>\n",
       "      <th></th>\n",
       "      <th></th>\n",
       "    </tr>\n",
       "  </thead>\n",
       "  <tbody>\n",
       "    <tr>\n",
       "      <th>HH</th>\n",
       "      <td>0.266764</td>\n",
       "      <td>0.270033</td>\n",
       "      <td>-0.003269</td>\n",
       "    </tr>\n",
       "    <tr>\n",
       "      <th>HT</th>\n",
       "      <td>0.249245</td>\n",
       "      <td>0.270033</td>\n",
       "      <td>-0.020788</td>\n",
       "    </tr>\n",
       "    <tr>\n",
       "      <th>KT</th>\n",
       "      <td>0.277691</td>\n",
       "      <td>0.270033</td>\n",
       "      <td>0.007658</td>\n",
       "    </tr>\n",
       "    <tr>\n",
       "      <th>LG</th>\n",
       "      <td>0.257485</td>\n",
       "      <td>0.270033</td>\n",
       "      <td>-0.012548</td>\n",
       "    </tr>\n",
       "    <tr>\n",
       "      <th>LT</th>\n",
       "      <td>0.220877</td>\n",
       "      <td>0.270033</td>\n",
       "      <td>-0.049155</td>\n",
       "    </tr>\n",
       "    <tr>\n",
       "      <th>NC</th>\n",
       "      <td>0.275109</td>\n",
       "      <td>0.270033</td>\n",
       "      <td>0.005076</td>\n",
       "    </tr>\n",
       "    <tr>\n",
       "      <th>OB</th>\n",
       "      <td>0.281690</td>\n",
       "      <td>0.270033</td>\n",
       "      <td>0.011657</td>\n",
       "    </tr>\n",
       "    <tr>\n",
       "      <th>SK</th>\n",
       "      <td>0.239695</td>\n",
       "      <td>0.270033</td>\n",
       "      <td>-0.030338</td>\n",
       "    </tr>\n",
       "    <tr>\n",
       "      <th>SS</th>\n",
       "      <td>0.232061</td>\n",
       "      <td>0.270033</td>\n",
       "      <td>-0.037972</td>\n",
       "    </tr>\n",
       "    <tr>\n",
       "      <th>WO</th>\n",
       "      <td>0.251479</td>\n",
       "      <td>0.270033</td>\n",
       "      <td>-0.018554</td>\n",
       "    </tr>\n",
       "  </tbody>\n",
       "</table>\n",
       "</div>"
      ],
      "text/plain": [
       "      HIT_RATE   predict      diff\n",
       "T_ID                              \n",
       "HH    0.266764  0.270033 -0.003269\n",
       "HT    0.249245  0.270033 -0.020788\n",
       "KT    0.277691  0.270033  0.007658\n",
       "LG    0.257485  0.270033 -0.012548\n",
       "LT    0.220877  0.270033 -0.049155\n",
       "NC    0.275109  0.270033  0.005076\n",
       "OB    0.281690  0.270033  0.011657\n",
       "SK    0.239695  0.270033 -0.030338\n",
       "SS    0.232061  0.270033 -0.037972\n",
       "WO    0.251479  0.270033 -0.018554"
      ]
     },
     "execution_count": 15,
     "metadata": {},
     "output_type": "execute_result"
    }
   ],
   "source": [
    "#예측값과 실제값 차이\n",
    "a=Y_test\n",
    "a=a.assign(predict=Y_predict)\n",
    "a['diff']=a['HIT_RATE']-a['predict']\n",
    "a"
   ]
  },
  {
   "cell_type": "code",
   "execution_count": 16,
   "metadata": {},
   "outputs": [
    {
     "data": {
      "text/plain": [
       "0.19701556346616975"
      ]
     },
     "execution_count": 16,
     "metadata": {},
     "output_type": "execute_result"
    }
   ],
   "source": [
    "#차이 합\n",
    "abs(a['diff']).sum()"
   ]
  },
  {
   "cell_type": "markdown",
   "metadata": {},
   "source": [
    "### 엑셀파일로 만들기"
   ]
  },
  {
   "cell_type": "code",
   "execution_count": 65,
   "metadata": {},
   "outputs": [],
   "source": [
    "train16.to_csv(\"C:/Users/a/Desktop/train16.csv\")\n",
    "test16.to_csv(\"C:/Users/a/Desktop/test16.csv\")\n",
    "train17.to_csv(\"C:/Users/a/Desktop/train17.csv\")\n",
    "test17.to_csv(\"C:/Users/a/Desktop/test17.csv\")\n",
    "train18.to_csv(\"C:/Users/a/Desktop/train18.csv\")\n",
    "test18.to_csv(\"C:/Users/a/Desktop/test18.csv\")\n",
    "train19.to_csv(\"C:/Users/a/Desktop/train19.csv\")\n",
    "test19.to_csv(\"C:/Users/a/Desktop/test19.csv\")"
   ]
  }
 ],
 "metadata": {
  "kernelspec": {
   "display_name": "Python [default]",
   "language": "python",
   "name": "python3"
  },
  "language_info": {
   "codemirror_mode": {
    "name": "ipython",
    "version": 3
   },
   "file_extension": ".py",
   "mimetype": "text/x-python",
   "name": "python",
   "nbconvert_exporter": "python",
   "pygments_lexer": "ipython3",
   "version": "3.6.5"
  }
 },
 "nbformat": 4,
 "nbformat_minor": 2
}
