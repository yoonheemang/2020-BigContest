{
 "cells": [
  {
   "cell_type": "code",
   "execution_count": 2,
   "metadata": {},
   "outputs": [],
   "source": [
    "import pandas as pd\n",
    "import numpy as np\n",
    "import matplotlib.pyplot as plt"
   ]
  },
  {
   "cell_type": "markdown",
   "metadata": {},
   "source": [
    "## 1. 데이터 가져오기"
   ]
  },
  {
   "cell_type": "code",
   "execution_count": 3,
   "metadata": {},
   "outputs": [],
   "source": [
    "t_pit16=pd.read_csv(\"C:/Users/a/Desktop/2020빅콘/제공데이터/제공데이터(.CSV)_시즌별, 시트별 구분/2020빅콘테스트_스포츠투아이_제공데이터_팀투수_2016.csv\",encoding='utf-8',engine='python')\n",
    "t_pit17=pd.read_csv(\"C:/Users/a/Desktop/2020빅콘/제공데이터/제공데이터(.CSV)_시즌별, 시트별 구분/2020빅콘테스트_스포츠투아이_제공데이터_팀투수_2017.csv\",encoding='utf-8',engine='python')\n",
    "t_pit18=pd.read_csv(\"C:/Users/a/Desktop/2020빅콘/제공데이터/제공데이터(.CSV)_시즌별, 시트별 구분/2020빅콘테스트_스포츠투아이_제공데이터_팀투수_2018.csv\",encoding='utf-8',engine='python')\n",
    "t_pit19=pd.read_csv(\"C:/Users/a/Desktop/2020빅콘/제공데이터/제공데이터(.CSV)_시즌별, 시트별 구분/2020빅콘테스트_스포츠투아이_제공데이터_팀투수_2019.csv\",encoding='utf-8',engine='python')"
   ]
  },
  {
   "cell_type": "code",
   "execution_count": 4,
   "metadata": {},
   "outputs": [],
   "source": [
    "#모든 열 다 출력하기\n",
    "pd.options.display.max_columns=None"
   ]
  },
  {
   "cell_type": "code",
   "execution_count": 6,
   "metadata": {},
   "outputs": [],
   "source": [
    "data16=t_pit16.filter(['T_ID','ER','INN2'])\n",
    "t16=data16.groupby(['T_ID']).sum()\n",
    "t16['ERA']=t16['ER']*27/t16['INN2'] #방어율 계산\n",
    "\n",
    "data17=t_pit17.filter(['T_ID','ER','INN2'])\n",
    "t17=data17.groupby(['T_ID']).sum()\n",
    "t17['ERA']=t17['ER']*27/t17['INN2'] #방어율 계산\n",
    "\n",
    "data18=t_pit18.filter(['T_ID','ER','INN2'])\n",
    "t18=data18.groupby(['T_ID']).sum()\n",
    "t18['ERA']=t18['ER']*27/t18['INN2'] #방어율 계산\n",
    "\n",
    "data19=t_pit19.filter(['T_ID','ER','INN2'])\n",
    "t19=data16.groupby(['T_ID']).sum()\n",
    "t19['ERA']=t19['ER']*27/t19['INN2'] #방어율 계산"
   ]
  },
  {
   "cell_type": "code",
   "execution_count": null,
   "metadata": {},
   "outputs": [],
   "source": []
  },
  {
   "cell_type": "code",
   "execution_count": 34,
   "metadata": {},
   "outputs": [],
   "source": [
    "a=t_pit19[['T_ID','ER','INN2']]\n",
    "team=['HH', 'HT', 'KT', 'LG', 'LT', 'NC', 'OB', 'SK', 'SS', 'WO']\n",
    "\n",
    "after=pd.DataFrame()\n",
    "before=pd.DataFrame()\n",
    "\n",
    "for t in team:\n",
    "    after=pd.concat([after,a[a['T_ID']==t][-20:]])\n",
    "    before=pd.concat([before,a[a['T_ID']==t][:-20]])"
   ]
  },
  {
   "cell_type": "code",
   "execution_count": 35,
   "metadata": {},
   "outputs": [],
   "source": [
    "#팀별 AB,HIT합 구하기\n",
    "after=after.groupby(['T_ID']).sum()\n",
    "after['ERA']=after['ER']*27/after['INN2'] #방어율 계산\n",
    "\n",
    "before=before.groupby(['T_ID']).sum()\n",
    "before['ERA']=before['ER']*27/before['INN2'] #방어율 계산"
   ]
  },
  {
   "cell_type": "code",
   "execution_count": null,
   "metadata": {},
   "outputs": [],
   "source": []
  },
  {
   "cell_type": "code",
   "execution_count": 24,
   "metadata": {},
   "outputs": [],
   "source": [
    "data16=pd.merge(before,after,on='T_ID')\n",
    "data16['diff']=data16.iloc[:,2]-data16.iloc[:,5]"
   ]
  },
  {
   "cell_type": "code",
   "execution_count": 25,
   "metadata": {
    "scrolled": true
   },
   "outputs": [
    {
     "data": {
      "text/plain": [
       "5.512185616345276"
      ]
     },
     "execution_count": 25,
     "metadata": {},
     "output_type": "execute_result"
    }
   ],
   "source": [
    "abs(data16['diff']).sum()"
   ]
  },
  {
   "cell_type": "code",
   "execution_count": 28,
   "metadata": {},
   "outputs": [],
   "source": [
    "data17=pd.merge(before,after,on='T_ID')\n",
    "data17['diff']=data17.iloc[:,2]-data17.iloc[:,5]"
   ]
  },
  {
   "cell_type": "code",
   "execution_count": 29,
   "metadata": {},
   "outputs": [
    {
     "data": {
      "text/plain": [
       "6.593950111590789"
      ]
     },
     "execution_count": 29,
     "metadata": {},
     "output_type": "execute_result"
    }
   ],
   "source": [
    "abs(data17['diff']).sum()"
   ]
  },
  {
   "cell_type": "code",
   "execution_count": 32,
   "metadata": {},
   "outputs": [],
   "source": [
    "data18=pd.merge(before,after,on='T_ID')\n",
    "data18['diff']=data18.iloc[:,2]-data18.iloc[:,5]"
   ]
  },
  {
   "cell_type": "code",
   "execution_count": 33,
   "metadata": {},
   "outputs": [
    {
     "data": {
      "text/plain": [
       "6.111935607407789"
      ]
     },
     "execution_count": 33,
     "metadata": {},
     "output_type": "execute_result"
    }
   ],
   "source": [
    "abs(data18['diff']).sum()"
   ]
  },
  {
   "cell_type": "code",
   "execution_count": 36,
   "metadata": {},
   "outputs": [],
   "source": [
    "data19=pd.merge(before,after,on='T_ID')\n",
    "data19['diff']=data19.iloc[:,2]-data19.iloc[:,5]"
   ]
  },
  {
   "cell_type": "code",
   "execution_count": 37,
   "metadata": {},
   "outputs": [
    {
     "data": {
      "text/plain": [
       "10.037958677466541"
      ]
     },
     "execution_count": 37,
     "metadata": {},
     "output_type": "execute_result"
    }
   ],
   "source": [
    "abs(data19['diff']).sum()"
   ]
  },
  {
   "cell_type": "code",
   "execution_count": null,
   "metadata": {},
   "outputs": [],
   "source": []
  }
 ],
 "metadata": {
  "kernelspec": {
   "display_name": "Python [default]",
   "language": "python",
   "name": "python3"
  },
  "language_info": {
   "codemirror_mode": {
    "name": "ipython",
    "version": 3
   },
   "file_extension": ".py",
   "mimetype": "text/x-python",
   "name": "python",
   "nbconvert_exporter": "python",
   "pygments_lexer": "ipython3",
   "version": "3.6.5"
  }
 },
 "nbformat": 4,
 "nbformat_minor": 2
}
