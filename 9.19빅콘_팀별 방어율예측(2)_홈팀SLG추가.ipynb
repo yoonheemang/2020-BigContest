{
 "cells": [
  {
   "cell_type": "code",
   "execution_count": 1,
   "metadata": {},
   "outputs": [],
   "source": [
    "import pandas as pd\n",
    "import numpy as np\n",
    "import matplotlib.pyplot as plt"
   ]
  },
  {
   "cell_type": "markdown",
   "metadata": {},
   "source": [
    "## 1. 데이터 가져오기"
   ]
  },
  {
   "cell_type": "code",
   "execution_count": 26,
   "metadata": {},
   "outputs": [],
   "source": [
    "t_pit16=pd.read_csv(\"C:/Users/a/Desktop/2020빅콘/제공데이터/제공데이터(.CSV)_시즌별, 시트별 구분/2020빅콘테스트_스포츠투아이_제공데이터_팀투수_2016.csv\",encoding='utf-8',engine='python')\n",
    "t_pit17=pd.read_csv(\"C:/Users/a/Desktop/2020빅콘/제공데이터/제공데이터(.CSV)_시즌별, 시트별 구분/2020빅콘테스트_스포츠투아이_제공데이터_팀투수_2017.csv\",encoding='utf-8',engine='python')\n",
    "t_pit18=pd.read_csv(\"C:/Users/a/Desktop/2020빅콘/제공데이터/제공데이터(.CSV)_시즌별, 시트별 구분/2020빅콘테스트_스포츠투아이_제공데이터_팀투수_2018.csv\",encoding='utf-8',engine='python')\n",
    "t_pit19=pd.read_csv(\"C:/Users/a/Desktop/2020빅콘/제공데이터/제공데이터(.CSV)_시즌별, 시트별 구분/2020빅콘테스트_스포츠투아이_제공데이터_팀투수_2019.csv\",encoding='utf-8',engine='python')"
   ]
  },
  {
   "cell_type": "code",
   "execution_count": 20,
   "metadata": {},
   "outputs": [],
   "source": [
    "t_bat16=pd.read_csv(\"C:/Users/a/Desktop/2020빅콘/제공데이터/제공데이터(.CSV)_시즌별, 시트별 구분/2020빅콘테스트_스포츠투아이_제공데이터_팀타자_2016.csv\",encoding='utf-8',engine='python')\n",
    "t_bat17=pd.read_csv(\"C:/Users/a/Desktop/2020빅콘/제공데이터/제공데이터(.CSV)_시즌별, 시트별 구분/2020빅콘테스트_스포츠투아이_제공데이터_팀타자_2017.csv\",encoding='utf-8',engine='python')\n",
    "t_bat18=pd.read_csv(\"C:/Users/a/Desktop/2020빅콘/제공데이터/제공데이터(.CSV)_시즌별, 시트별 구분/2020빅콘테스트_스포츠투아이_제공데이터_팀타자_2018.csv\",encoding='utf-8',engine='python')\n",
    "t_bat19=pd.read_csv(\"C:/Users/a/Desktop/2020빅콘/제공데이터/제공데이터(.CSV)_시즌별, 시트별 구분/2020빅콘테스트_스포츠투아이_제공데이터_팀타자_2019.csv\",encoding='utf-8',engine='python')"
   ]
  },
  {
   "cell_type": "code",
   "execution_count": 21,
   "metadata": {},
   "outputs": [],
   "source": [
    "#모든 열 다 출력하기\n",
    "pd.options.display.max_columns=None"
   ]
  },
  {
   "cell_type": "code",
   "execution_count": 27,
   "metadata": {},
   "outputs": [],
   "source": [
    "#이닝수 변수 만들기\n",
    "t_pit16['INN']=t_pit16['INN2']/3\n",
    "t_pit17['INN']=t_pit17['INN2']/3\n",
    "t_pit18['INN']=t_pit18['INN2']/3\n",
    "t_pit19['INN']=t_pit19['INN2']/3"
   ]
  },
  {
   "cell_type": "code",
   "execution_count": 28,
   "metadata": {},
   "outputs": [],
   "source": [
    "#1루타 변수 만들기\n",
    "t_pit16['H1']=t_pit16['HIT']-t_pit16['H2']-t_pit16['H3']-t_pit16['HR']\n",
    "t_pit17['H1']=t_pit17['HIT']-t_pit17['H2']-t_pit17['H3']-t_pit17['HR']\n",
    "t_pit18['H1']=t_pit18['HIT']-t_pit18['H2']-t_pit18['H3']-t_pit18['HR']\n",
    "t_pit19['H1']=t_pit19['HIT']-t_pit19['H2']-t_pit19['H3']-t_pit19['HR']"
   ]
  },
  {
   "cell_type": "code",
   "execution_count": null,
   "metadata": {},
   "outputs": [],
   "source": [
    "#1루타 변수 만들기\n",
    "t_bat16['H1']=t_bat16['HIT']-t_bat16['H2']-t_bat16['H3']-t_bat16['HR']\n",
    "t_bat17['H1']=t_bat17['HIT']-t_bat17['H2']-t_bat17['H3']-t_bat17['HR']\n",
    "t_bat18['H1']=t_bat18['HIT']-t_bat18['H2']-t_bat18['H3']-t_bat18['HR']\n",
    "t_bat19['H1']=t_bat19['HIT']-t_bat19['H2']-t_bat19['H3']-t_bat19['HR']"
   ]
  },
  {
   "cell_type": "code",
   "execution_count": null,
   "metadata": {},
   "outputs": [],
   "source": [
    "stats=['G_ID','T_ID', 'AB', 'H2', 'H3', 'HR', 'H1']\n",
    "t_bat16=t_bat16.filter(stats)\n",
    "t_bat17=t_bat17.filter(stats)\n",
    "t_bat18=t_bat18.filter(stats)\n",
    "t_bat19=t_bat19.filter(stats)"
   ]
  },
  {
   "cell_type": "code",
   "execution_count": null,
   "metadata": {},
   "outputs": [],
   "source": [
    "t_pit16=pd.merge(t_pit16, t_bat16, on=['G_ID', 'T_ID'], suffixes=('','_my'))\n",
    "t_pit17=pd.merge(t_pit17, t_bat17, on=['G_ID', 'T_ID'], suffixes=('','_my'))\n",
    "t_pit18=pd.merge(t_pit18, t_bat18, on=['G_ID', 'T_ID'], suffixes=('','_my'))\n",
    "t_pit19=pd.merge(t_pit19, t_bat19, on=['G_ID', 'T_ID'], suffixes=('','_my'))"
   ]
  },
  {
   "cell_type": "code",
   "execution_count": 29,
   "metadata": {},
   "outputs": [
    {
     "data": {
      "text/plain": [
       "Index(['G_ID', 'GDAY_DS', 'T_ID', 'VS_T_ID', 'HEADER_NO', 'TB_SC', 'CG_CK',\n",
       "       'WLS', 'HOLD', 'INN2', 'BF', 'PA', 'AB', 'HIT', 'H2', 'H3', 'HR', 'SB',\n",
       "       'CS', 'SH', 'SF', 'BB', 'IB', 'HP', 'KK', 'GD', 'WP', 'BK', 'ERR', 'R',\n",
       "       'ER', 'P_WHIP_RT', 'P2_WHIP_RT', 'CB_WHIP_RT', 'INN', 'H1'],\n",
       "      dtype='object')"
      ]
     },
     "execution_count": 29,
     "metadata": {},
     "output_type": "execute_result"
    }
   ],
   "source": [
    "t_pit19.columns"
   ]
  },
  {
   "cell_type": "code",
   "execution_count": null,
   "metadata": {},
   "outputs": [],
   "source": []
  },
  {
   "cell_type": "code",
   "execution_count": null,
   "metadata": {},
   "outputs": [],
   "source": []
  },
  {
   "cell_type": "code",
   "execution_count": null,
   "metadata": {},
   "outputs": [],
   "source": []
  },
  {
   "cell_type": "markdown",
   "metadata": {},
   "source": [
    "## 2. train test 셋 만들기"
   ]
  },
  {
   "cell_type": "code",
   "execution_count": 11,
   "metadata": {},
   "outputs": [],
   "source": [
    "team=['HH', 'HT', 'KT', 'LG', 'LT', 'NC', 'OB', 'SK', 'SS', 'WO']"
   ]
  },
  {
   "cell_type": "code",
   "execution_count": 12,
   "metadata": {
    "scrolled": true
   },
   "outputs": [],
   "source": [
    "pd.set_option('mode.chained_assignment',None) #chain copy warning 제거하기\n",
    "\n",
    "#승률 변수만들기(이긴 경기, 진 경기 합치기)\n",
    "def make_win_lose(data):\n",
    "    data['W']=0; data['L']=0\n",
    "    data['W'][data['WLS']=='W']=1\n",
    "    data['L'][data['WLS']=='L']=1\n",
    "    return data"
   ]
  },
  {
   "cell_type": "code",
   "execution_count": 13,
   "metadata": {},
   "outputs": [],
   "source": [
    "data_list=[t_pit16,t_pit17,t_pit18,t_pit19]\n",
    "for data in data_list:\n",
    "    data=make_win_lose(data)"
   ]
  },
  {
   "cell_type": "code",
   "execution_count": 14,
   "metadata": {},
   "outputs": [],
   "source": [
    "stats=['T_ID', 'HOLD', 'BF', 'PA', 'AB', 'HIT', 'H2', 'H3', 'HR', 'R','ER', 'P_WHIP_RT', 'CB_WHIP_RT', 'INN', 'H1','W','L','AB_my', 'H2_my', 'H3_my', 'HR_my', 'H1_my']\n",
    "t16=t_pit16.filter(stats)\n",
    "t17=t_pit17.filter(stats)\n",
    "t18=t_pit18.filter(stats)\n",
    "t19=t_pit19.filter(stats)"
   ]
  },
  {
   "cell_type": "code",
   "execution_count": 15,
   "metadata": {},
   "outputs": [],
   "source": [
    "#정답 셋과 train 셋 만드는 함수\n",
    "t_bat=[t16,t17,t18,t19]\n",
    "def make_answer_train(year):\n",
    "    a=t_bat[year-2016]  \n",
    "    data=pd.DataFrame()  #빈 데이터프레임 만들기\n",
    "    pa=pd.DataFrame()\n",
    "\n",
    "    train_name=['train' + str(i) for i in range(1,6)]\n",
    "    train_data=[pd.DataFrame() for var in train_name] #50경기씩 묶일 데이터셋\n",
    "    \n",
    "    ans_name=['ans' + str(i) for i in range(1,6)]\n",
    "    answer=[pd.DataFrame() for var in ans_name]  #20경기씩 묶일 데이터셋\n",
    "        \n",
    "    for i in range(5):\n",
    "        tra=train_data[i]\n",
    "        ans=answer[i]\n",
    "        for t in team:\n",
    "            tra=pd.concat([tra,a[a['T_ID']==t][4+i*20:4+40+i*20]])      #팀별로 앞 4경기 제외\n",
    "            ans=pd.concat([ans,a[a['T_ID']==t][4+40+i*20:4+60+i*20]])\n",
    "        \n",
    "        tra=tra.groupby(['T_ID']).sum()\n",
    "        #SLG변수 만들기\n",
    "        tra['SLG']=(tra['H1']+tra['H2']*2+tra['H3']*3+tra['HR']*4)/tra['AB']\n",
    "        tra=tra.drop(['H1','H2','H3','HR'],axis='columns')\n",
    "        \n",
    "        #우리팀 SLG만들기\n",
    "        tra['SLG_my']=(tra['H1_my']+tra['H2_my']*2+tra['H3_my']*3+tra['HR_my']*4)/tra['AB_my']\n",
    "        tra=tra.drop(['H1_my','H2_my','H3_my','HR_my','AB_my'],axis='columns')\n",
    "        \n",
    "        #승률 변수 만들기\n",
    "        tra['WINNING_RATE']=tra['W']/(tra['W']+tra['L'])\n",
    "        tra=tra.drop(['W','L'],axis='columns')\n",
    "\n",
    "        #팀별 AB,HIT합 구하기\n",
    "        ans=ans.groupby(['T_ID']).sum()\n",
    "        ans['ERA']=ans['ER']*9/ans['INN']     #방어율 계산\n",
    "        ans=ans.drop(ans.columns[list(range(21))],axis='columns')\n",
    "                \n",
    "        if i <4:\n",
    "            data=pd.concat([data,pd.merge(tra,ans,on='T_ID')])\n",
    "        else:\n",
    "            test_data=pd.merge(tra,ans,on='T_ID')\n",
    "            \n",
    "    return data,test_data"
   ]
  },
  {
   "cell_type": "code",
   "execution_count": 16,
   "metadata": {
    "scrolled": false
   },
   "outputs": [],
   "source": [
    "train16,test16=make_answer_train(2016)\n",
    "train17,test17=make_answer_train(2017)\n",
    "train18,test18=make_answer_train(2018)\n",
    "train19,test19=make_answer_train(2019)"
   ]
  },
  {
   "cell_type": "code",
   "execution_count": 17,
   "metadata": {
    "scrolled": false
   },
   "outputs": [
    {
     "data": {
      "text/html": [
       "<div>\n",
       "<style scoped>\n",
       "    .dataframe tbody tr th:only-of-type {\n",
       "        vertical-align: middle;\n",
       "    }\n",
       "\n",
       "    .dataframe tbody tr th {\n",
       "        vertical-align: top;\n",
       "    }\n",
       "\n",
       "    .dataframe thead th {\n",
       "        text-align: right;\n",
       "    }\n",
       "</style>\n",
       "<table border=\"1\" class=\"dataframe\">\n",
       "  <thead>\n",
       "    <tr style=\"text-align: right;\">\n",
       "      <th></th>\n",
       "      <th>HOLD</th>\n",
       "      <th>BF</th>\n",
       "      <th>PA</th>\n",
       "      <th>AB</th>\n",
       "      <th>HIT</th>\n",
       "      <th>R</th>\n",
       "      <th>ER</th>\n",
       "      <th>P_WHIP_RT</th>\n",
       "      <th>CB_WHIP_RT</th>\n",
       "      <th>INN</th>\n",
       "      <th>SLG</th>\n",
       "      <th>SLG_my</th>\n",
       "      <th>WINNING_RATE</th>\n",
       "      <th>ERA</th>\n",
       "    </tr>\n",
       "    <tr>\n",
       "      <th>T_ID</th>\n",
       "      <th></th>\n",
       "      <th></th>\n",
       "      <th></th>\n",
       "      <th></th>\n",
       "      <th></th>\n",
       "      <th></th>\n",
       "      <th></th>\n",
       "      <th></th>\n",
       "      <th></th>\n",
       "      <th></th>\n",
       "      <th></th>\n",
       "      <th></th>\n",
       "      <th></th>\n",
       "      <th></th>\n",
       "    </tr>\n",
       "  </thead>\n",
       "  <tbody>\n",
       "    <tr>\n",
       "      <th>HH</th>\n",
       "      <td>11</td>\n",
       "      <td>6178</td>\n",
       "      <td>1594</td>\n",
       "      <td>1400</td>\n",
       "      <td>418</td>\n",
       "      <td>229</td>\n",
       "      <td>213</td>\n",
       "      <td>68.646691</td>\n",
       "      <td>89.108442</td>\n",
       "      <td>350.000000</td>\n",
       "      <td>0.438571</td>\n",
       "      <td>0.367615</td>\n",
       "      <td>0.375000</td>\n",
       "      <td>3.262082</td>\n",
       "    </tr>\n",
       "    <tr>\n",
       "      <th>HT</th>\n",
       "      <td>21</td>\n",
       "      <td>5952</td>\n",
       "      <td>1536</td>\n",
       "      <td>1357</td>\n",
       "      <td>354</td>\n",
       "      <td>187</td>\n",
       "      <td>168</td>\n",
       "      <td>56.100703</td>\n",
       "      <td>64.287446</td>\n",
       "      <td>354.666667</td>\n",
       "      <td>0.372881</td>\n",
       "      <td>0.374439</td>\n",
       "      <td>0.487179</td>\n",
       "      <td>4.000000</td>\n",
       "    </tr>\n",
       "    <tr>\n",
       "      <th>KT</th>\n",
       "      <td>24</td>\n",
       "      <td>5697</td>\n",
       "      <td>1534</td>\n",
       "      <td>1381</td>\n",
       "      <td>363</td>\n",
       "      <td>164</td>\n",
       "      <td>156</td>\n",
       "      <td>51.916575</td>\n",
       "      <td>64.135606</td>\n",
       "      <td>357.333333</td>\n",
       "      <td>0.393193</td>\n",
       "      <td>0.396848</td>\n",
       "      <td>0.589744</td>\n",
       "      <td>3.254237</td>\n",
       "    </tr>\n",
       "    <tr>\n",
       "      <th>LG</th>\n",
       "      <td>17</td>\n",
       "      <td>6012</td>\n",
       "      <td>1575</td>\n",
       "      <td>1374</td>\n",
       "      <td>394</td>\n",
       "      <td>223</td>\n",
       "      <td>206</td>\n",
       "      <td>70.540360</td>\n",
       "      <td>77.255195</td>\n",
       "      <td>351.333333</td>\n",
       "      <td>0.420670</td>\n",
       "      <td>0.400583</td>\n",
       "      <td>0.475000</td>\n",
       "      <td>2.943609</td>\n",
       "    </tr>\n",
       "    <tr>\n",
       "      <th>LT</th>\n",
       "      <td>8</td>\n",
       "      <td>5767</td>\n",
       "      <td>1534</td>\n",
       "      <td>1353</td>\n",
       "      <td>386</td>\n",
       "      <td>202</td>\n",
       "      <td>179</td>\n",
       "      <td>54.240818</td>\n",
       "      <td>68.620779</td>\n",
       "      <td>348.000000</td>\n",
       "      <td>0.413895</td>\n",
       "      <td>0.362547</td>\n",
       "      <td>0.333333</td>\n",
       "      <td>3.568966</td>\n",
       "    </tr>\n",
       "    <tr>\n",
       "      <th>NC</th>\n",
       "      <td>18</td>\n",
       "      <td>5797</td>\n",
       "      <td>1527</td>\n",
       "      <td>1348</td>\n",
       "      <td>341</td>\n",
       "      <td>164</td>\n",
       "      <td>148</td>\n",
       "      <td>64.677689</td>\n",
       "      <td>60.314719</td>\n",
       "      <td>359.333333</td>\n",
       "      <td>0.359050</td>\n",
       "      <td>0.401171</td>\n",
       "      <td>0.512821</td>\n",
       "      <td>2.927103</td>\n",
       "    </tr>\n",
       "    <tr>\n",
       "      <th>OB</th>\n",
       "      <td>19</td>\n",
       "      <td>5704</td>\n",
       "      <td>1491</td>\n",
       "      <td>1344</td>\n",
       "      <td>343</td>\n",
       "      <td>153</td>\n",
       "      <td>143</td>\n",
       "      <td>61.734532</td>\n",
       "      <td>58.810048</td>\n",
       "      <td>357.000000</td>\n",
       "      <td>0.357887</td>\n",
       "      <td>0.416368</td>\n",
       "      <td>0.650000</td>\n",
       "      <td>3.405850</td>\n",
       "    </tr>\n",
       "    <tr>\n",
       "      <th>SK</th>\n",
       "      <td>28</td>\n",
       "      <td>5789</td>\n",
       "      <td>1504</td>\n",
       "      <td>1334</td>\n",
       "      <td>329</td>\n",
       "      <td>145</td>\n",
       "      <td>129</td>\n",
       "      <td>56.820238</td>\n",
       "      <td>78.019106</td>\n",
       "      <td>355.333333</td>\n",
       "      <td>0.342579</td>\n",
       "      <td>0.361798</td>\n",
       "      <td>0.575000</td>\n",
       "      <td>3.806391</td>\n",
       "    </tr>\n",
       "    <tr>\n",
       "      <th>SS</th>\n",
       "      <td>15</td>\n",
       "      <td>6018</td>\n",
       "      <td>1589</td>\n",
       "      <td>1384</td>\n",
       "      <td>383</td>\n",
       "      <td>210</td>\n",
       "      <td>190</td>\n",
       "      <td>60.547086</td>\n",
       "      <td>71.726798</td>\n",
       "      <td>354.333333</td>\n",
       "      <td>0.425578</td>\n",
       "      <td>0.355740</td>\n",
       "      <td>0.435897</td>\n",
       "      <td>4.680000</td>\n",
       "    </tr>\n",
       "    <tr>\n",
       "      <th>WO</th>\n",
       "      <td>24</td>\n",
       "      <td>5362</td>\n",
       "      <td>1503</td>\n",
       "      <td>1371</td>\n",
       "      <td>368</td>\n",
       "      <td>158</td>\n",
       "      <td>140</td>\n",
       "      <td>52.411805</td>\n",
       "      <td>59.373810</td>\n",
       "      <td>357.333333</td>\n",
       "      <td>0.364697</td>\n",
       "      <td>0.454155</td>\n",
       "      <td>0.615385</td>\n",
       "      <td>1.902857</td>\n",
       "    </tr>\n",
       "  </tbody>\n",
       "</table>\n",
       "</div>"
      ],
      "text/plain": [
       "      HOLD    BF    PA    AB  HIT    R   ER  P_WHIP_RT  CB_WHIP_RT  \\\n",
       "T_ID                                                                 \n",
       "HH      11  6178  1594  1400  418  229  213  68.646691   89.108442   \n",
       "HT      21  5952  1536  1357  354  187  168  56.100703   64.287446   \n",
       "KT      24  5697  1534  1381  363  164  156  51.916575   64.135606   \n",
       "LG      17  6012  1575  1374  394  223  206  70.540360   77.255195   \n",
       "LT       8  5767  1534  1353  386  202  179  54.240818   68.620779   \n",
       "NC      18  5797  1527  1348  341  164  148  64.677689   60.314719   \n",
       "OB      19  5704  1491  1344  343  153  143  61.734532   58.810048   \n",
       "SK      28  5789  1504  1334  329  145  129  56.820238   78.019106   \n",
       "SS      15  6018  1589  1384  383  210  190  60.547086   71.726798   \n",
       "WO      24  5362  1503  1371  368  158  140  52.411805   59.373810   \n",
       "\n",
       "             INN       SLG    SLG_my  WINNING_RATE       ERA  \n",
       "T_ID                                                          \n",
       "HH    350.000000  0.438571  0.367615      0.375000  3.262082  \n",
       "HT    354.666667  0.372881  0.374439      0.487179  4.000000  \n",
       "KT    357.333333  0.393193  0.396848      0.589744  3.254237  \n",
       "LG    351.333333  0.420670  0.400583      0.475000  2.943609  \n",
       "LT    348.000000  0.413895  0.362547      0.333333  3.568966  \n",
       "NC    359.333333  0.359050  0.401171      0.512821  2.927103  \n",
       "OB    357.000000  0.357887  0.416368      0.650000  3.405850  \n",
       "SK    355.333333  0.342579  0.361798      0.575000  3.806391  \n",
       "SS    354.333333  0.425578  0.355740      0.435897  4.680000  \n",
       "WO    357.333333  0.364697  0.454155      0.615385  1.902857  "
      ]
     },
     "execution_count": 17,
     "metadata": {},
     "output_type": "execute_result"
    }
   ],
   "source": [
    "test19"
   ]
  },
  {
   "cell_type": "code",
   "execution_count": 222,
   "metadata": {},
   "outputs": [],
   "source": [
    "train678_9=pd.concat([train16,test16,train17,test17,train18,test18,train19])\n",
    "train679_8=pd.concat([train16,test16,train17,test17,train19,test19,train18])\n",
    "train689_7=pd.concat([train16,test16,train18,test18,train19,test19,train17])\n",
    "train789_6=pd.concat([train17,test17,train18,test18,train19,test19,train16])"
   ]
  },
  {
   "cell_type": "markdown",
   "metadata": {},
   "source": [
    "## 3. 모델학습"
   ]
  },
  {
   "cell_type": "code",
   "execution_count": 146,
   "metadata": {},
   "outputs": [],
   "source": [
    "# 출력 할 때 마다, 기존 출력물들은 제거해주는 모듈\n",
    "from IPython.display import clear_output"
   ]
  },
  {
   "cell_type": "code",
   "execution_count": 147,
   "metadata": {},
   "outputs": [],
   "source": [
    "# 모델 모듈\n",
    "import xgboost\n",
    "from xgboost import XGBRegressor, plot_importance\n",
    "from lightgbm import LGBMRegressor\n",
    "from sklearn.ensemble import RandomForestRegressor\n",
    "from sklearn.svm import SVR\n",
    "from sklearn.linear_model import Ridge, Lasso, LinearRegression, ElasticNet\n",
    "from sklearn.neighbors import KNeighborsRegressor\n",
    "\n",
    "from sklearn.metrics import mean_squared_error, r2_score\n",
    "from sklearn.preprocessing import StandardScaler, MinMaxScaler"
   ]
  },
  {
   "cell_type": "code",
   "execution_count": 205,
   "metadata": {},
   "outputs": [],
   "source": [
    "var=['HOLD','BF','PA','AB','HIT','R','ER','P_WHIP_RT','CB_WHIP_RT','INN', 'SLG','SLG_my','WINNING_RATE']"
   ]
  },
  {
   "cell_type": "code",
   "execution_count": 206,
   "metadata": {
    "scrolled": true
   },
   "outputs": [],
   "source": [
    "X_cols=var\n",
    "Y_col=['ERA']"
   ]
  },
  {
   "cell_type": "code",
   "execution_count": 207,
   "metadata": {},
   "outputs": [],
   "source": [
    "#### 학습시킬 모델\n",
    "model_dict = {'xgb':XGBRegressor(n_estimators=100, learning_rate=0.05 ,max_depth=3, random_state=23),\n",
    "    'lgbm':LGBMRegressor(),\n",
    "    'rf':RandomForestRegressor(),\n",
    "    'svr':SVR(),\n",
    "    'reg':LinearRegression(),\n",
    "    'ridge':Ridge(alpha=100,normalize=True),\n",
    "    'lasso':Lasso(alpha=0.05,normalize=True)}  #변수 자동 채택 / 많은 변수를 다룰때 활용"
   ]
  },
  {
   "cell_type": "markdown",
   "metadata": {},
   "source": [
    "train678_9\n",
    "train679_8\n",
    "train689_7\n",
    "train789_6"
   ]
  },
  {
   "cell_type": "code",
   "execution_count": 231,
   "metadata": {},
   "outputs": [],
   "source": [
    "train=train789_6\n",
    "test=test16"
   ]
  },
  {
   "cell_type": "code",
   "execution_count": 233,
   "metadata": {
    "scrolled": true
   },
   "outputs": [
    {
     "name": "stdout",
     "output_type": "stream",
     "text": [
      "xgb \t>r2 : 0.17661273477145611 \ttrain점수 :0.723 \t차이합 : 6.522837454481699\n",
      "lgbm \t>r2 : -0.07850017155462319 \ttrain점수 :0.857 \t차이합 : 7.091680928317832\n",
      "rf \t>r2 : -0.021457349971537365 \ttrain점수 :0.884 \t차이합 : 6.703060186008262\n",
      "svr \t>r2 : -0.015731240584375694 \ttrain점수 :0.066 \t차이합 : 6.969422257473664\n",
      "reg \t>r2 : 0.3012012432190464 \ttrain점수 :0.252 \t차이합 : 6.1472413999064734\n",
      "ridge \t>r2 : 0.009827225283054242 \ttrain점수 :0.018 \t차이합 : 7.031149305127389\n",
      "lasso \t>r2 : -0.011687621363460243 \ttrain점수 :0.000 \t차이합 : 7.121443776557756\n"
     ]
    }
   ],
   "source": [
    "X_train = train[X_cols]; Y_train = train[Y_col]\n",
    "X_test = test[X_cols]; Y_test = test[Y_col]\n",
    "diff=[]\n",
    "\n",
    "#모델 여러개 돌려보기\n",
    "model_list=['xgb','lgbm','rf','svr','reg','ridge','lasso']\n",
    "\n",
    "for m in model_list:\n",
    "    model = model_dict[m]\n",
    "    if m=='rf': Y_train=Y_train.values.ravel()  #rf에서의 오류 없애기 위함\n",
    "    model.fit(X_train, Y_train)                  #, sample_weight=weight\n",
    "    Y_predict = model.predict(X_test)\n",
    "\n",
    "    r2=r2_score(Y_test, Y_predict)\n",
    "\n",
    "    a=Y_test.assign(predict=Y_predict)\n",
    "    a['diff']=a['ERA']-a['predict']\n",
    "    print(m,\"\\t>r2 :\", r2,'\\ttrain점수 :{:.3f}'.format(model.score(X_train,Y_train)),\"\\t차이합 :\",abs(a['diff']).sum())\n",
    "    diff.append(r2)"
   ]
  },
  {
   "cell_type": "code",
   "execution_count": 128,
   "metadata": {},
   "outputs": [
    {
     "name": "stdout",
     "output_type": "stream",
     "text": [
      "reg\n"
     ]
    }
   ],
   "source": [
    "#model = model_dict[model_list[diff.index(max(diff))]]  #r2가 가장 큰 모델 돌리기\n",
    "model=model_dict['rf']                                  #rf 돌리기\n",
    "if m=='rf': Y_train=Y_train.values.ravel()  #rf에서의 오류 없애기 위함\n",
    "model.fit(X_train, Y_train)\n",
    "Y_predict = model.predict(X_test)\n",
    "print(model_list[diff.index(max(diff))])"
   ]
  },
  {
   "cell_type": "markdown",
   "metadata": {},
   "source": [
    "### 예측값과 실제값 차이"
   ]
  },
  {
   "cell_type": "code",
   "execution_count": 129,
   "metadata": {
    "scrolled": false
   },
   "outputs": [
    {
     "data": {
      "text/plain": [
       "Text(0,0.5,'예측 값')"
      ]
     },
     "execution_count": 129,
     "metadata": {},
     "output_type": "execute_result"
    },
    {
     "data": {
      "image/png": "[encoded data removed]",
      "text/plain": [
       "<Figure size 432x288 with 1 Axes>"
      ]
     },
     "metadata": {},
     "output_type": "display_data"
    }
   ],
   "source": [
    "# 예측값과 실제값의 시각화\n",
    "plt.scatter(Y_test, Y_predict)\n",
    "plt.xlabel(\"실제 값\")\n",
    "plt.ylabel(\"예측 값\")"
   ]
  },
  {
   "cell_type": "code",
   "execution_count": 130,
   "metadata": {
    "scrolled": false
   },
   "outputs": [
    {
     "data": {
      "text/html": [
       "<div>\n",
       "<style scoped>\n",
       "    .dataframe tbody tr th:only-of-type {\n",
       "        vertical-align: middle;\n",
       "    }\n",
       "\n",
       "    .dataframe tbody tr th {\n",
       "        vertical-align: top;\n",
       "    }\n",
       "\n",
       "    .dataframe thead th {\n",
       "        text-align: right;\n",
       "    }\n",
       "</style>\n",
       "<table border=\"1\" class=\"dataframe\">\n",
       "  <thead>\n",
       "    <tr style=\"text-align: right;\">\n",
       "      <th></th>\n",
       "      <th>ERA</th>\n",
       "      <th>predict</th>\n",
       "      <th>diff</th>\n",
       "    </tr>\n",
       "    <tr>\n",
       "      <th>T_ID</th>\n",
       "      <th></th>\n",
       "      <th></th>\n",
       "      <th></th>\n",
       "    </tr>\n",
       "  </thead>\n",
       "  <tbody>\n",
       "    <tr>\n",
       "      <th>HH</th>\n",
       "      <td>5.340659</td>\n",
       "      <td>5.707890</td>\n",
       "      <td>-0.367231</td>\n",
       "    </tr>\n",
       "    <tr>\n",
       "      <th>HT</th>\n",
       "      <td>3.996205</td>\n",
       "      <td>5.227905</td>\n",
       "      <td>-1.231700</td>\n",
       "    </tr>\n",
       "    <tr>\n",
       "      <th>KT</th>\n",
       "      <td>6.398844</td>\n",
       "      <td>5.346791</td>\n",
       "      <td>1.052052</td>\n",
       "    </tr>\n",
       "    <tr>\n",
       "      <th>LG</th>\n",
       "      <td>3.786885</td>\n",
       "      <td>5.373565</td>\n",
       "      <td>-1.586680</td>\n",
       "    </tr>\n",
       "    <tr>\n",
       "      <th>LT</th>\n",
       "      <td>5.851711</td>\n",
       "      <td>5.441737</td>\n",
       "      <td>0.409974</td>\n",
       "    </tr>\n",
       "    <tr>\n",
       "      <th>NC</th>\n",
       "      <td>3.717391</td>\n",
       "      <td>5.228463</td>\n",
       "      <td>-1.511072</td>\n",
       "    </tr>\n",
       "    <tr>\n",
       "      <th>OB</th>\n",
       "      <td>4.508443</td>\n",
       "      <td>5.176472</td>\n",
       "      <td>-0.668029</td>\n",
       "    </tr>\n",
       "    <tr>\n",
       "      <th>SK</th>\n",
       "      <td>4.835821</td>\n",
       "      <td>5.057361</td>\n",
       "      <td>-0.221540</td>\n",
       "    </tr>\n",
       "    <tr>\n",
       "      <th>SS</th>\n",
       "      <td>5.259740</td>\n",
       "      <td>5.467627</td>\n",
       "      <td>-0.207887</td>\n",
       "    </tr>\n",
       "    <tr>\n",
       "      <th>WO</th>\n",
       "      <td>5.115234</td>\n",
       "      <td>5.535384</td>\n",
       "      <td>-0.420150</td>\n",
       "    </tr>\n",
       "  </tbody>\n",
       "</table>\n",
       "</div>"
      ],
      "text/plain": [
       "           ERA   predict      diff\n",
       "T_ID                              \n",
       "HH    5.340659  5.707890 -0.367231\n",
       "HT    3.996205  5.227905 -1.231700\n",
       "KT    6.398844  5.346791  1.052052\n",
       "LG    3.786885  5.373565 -1.586680\n",
       "LT    5.851711  5.441737  0.409974\n",
       "NC    3.717391  5.228463 -1.511072\n",
       "OB    4.508443  5.176472 -0.668029\n",
       "SK    4.835821  5.057361 -0.221540\n",
       "SS    5.259740  5.467627 -0.207887\n",
       "WO    5.115234  5.535384 -0.420150"
      ]
     },
     "execution_count": 130,
     "metadata": {},
     "output_type": "execute_result"
    }
   ],
   "source": [
    "#예측값과 실제값 차이\n",
    "a=Y_test\n",
    "a=a.assign(predict=Y_predict)\n",
    "a['diff']=a['ERA']-a['predict']\n",
    "a"
   ]
  },
  {
   "cell_type": "code",
   "execution_count": 131,
   "metadata": {},
   "outputs": [
    {
     "data": {
      "text/plain": [
       "7.676315984077488"
      ]
     },
     "execution_count": 131,
     "metadata": {},
     "output_type": "execute_result"
    }
   ],
   "source": [
    "#차이 합\n",
    "abs(a['diff']).sum()"
   ]
  },
  {
   "cell_type": "code",
   "execution_count": null,
   "metadata": {},
   "outputs": [],
   "source": []
  },
  {
   "cell_type": "code",
   "execution_count": null,
   "metadata": {},
   "outputs": [],
   "source": []
  }
 ],
 "metadata": {
  "kernelspec": {
   "display_name": "Python [default]",
   "language": "python",
   "name": "python3"
  },
  "language_info": {
   "codemirror_mode": {
    "name": "ipython",
    "version": 3
   },
   "file_extension": ".py",
   "mimetype": "text/x-python",
   "name": "python",
   "nbconvert_exporter": "python",
   "pygments_lexer": "ipython3",
   "version": "3.6.5"
  }
 },
 "nbformat": 4,
 "nbformat_minor": 2
}
