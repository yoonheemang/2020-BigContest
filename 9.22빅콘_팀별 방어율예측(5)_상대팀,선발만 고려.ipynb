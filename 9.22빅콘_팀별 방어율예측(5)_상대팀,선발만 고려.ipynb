{
 "cells": [
  {
   "cell_type": "code",
   "execution_count": 1,
   "metadata": {},
   "outputs": [],
   "source": [
    "import pandas as pd\n",
    "import numpy as np\n",
    "import matplotlib.pyplot as plt"
   ]
  },
  {
   "cell_type": "markdown",
   "metadata": {},
   "source": [
    "## 1. 데이터 가져오기"
   ]
  },
  {
   "cell_type": "code",
   "execution_count": 2,
   "metadata": {},
   "outputs": [],
   "source": [
    "t_pit16=pd.read_csv(\"C:/Users/a/Desktop/2020빅콘/제공데이터/제공데이터(.CSV)_시즌별, 시트별 구분/2020빅콘테스트_스포츠투아이_제공데이터_팀투수_2016.csv\",encoding='utf-8',engine='python')\n",
    "t_pit17=pd.read_csv(\"C:/Users/a/Desktop/2020빅콘/제공데이터/제공데이터(.CSV)_시즌별, 시트별 구분/2020빅콘테스트_스포츠투아이_제공데이터_팀투수_2017.csv\",encoding='utf-8',engine='python')\n",
    "t_pit18=pd.read_csv(\"C:/Users/a/Desktop/2020빅콘/제공데이터/제공데이터(.CSV)_시즌별, 시트별 구분/2020빅콘테스트_스포츠투아이_제공데이터_팀투수_2018.csv\",encoding='utf-8',engine='python')\n",
    "t_pit19=pd.read_csv(\"C:/Users/a/Desktop/2020빅콘/제공데이터/제공데이터(.CSV)_시즌별, 시트별 구분/2020빅콘테스트_스포츠투아이_제공데이터_팀투수_2019.csv\",encoding='utf-8',engine='python')"
   ]
  },
  {
   "cell_type": "code",
   "execution_count": 3,
   "metadata": {},
   "outputs": [],
   "source": [
    "t_bat16=pd.read_csv(\"C:/Users/a/Desktop/2020빅콘/제공데이터/제공데이터(.CSV)_시즌별, 시트별 구분/2020빅콘테스트_스포츠투아이_제공데이터_팀타자_2016.csv\",encoding='utf-8',engine='python')\n",
    "t_bat17=pd.read_csv(\"C:/Users/a/Desktop/2020빅콘/제공데이터/제공데이터(.CSV)_시즌별, 시트별 구분/2020빅콘테스트_스포츠투아이_제공데이터_팀타자_2017.csv\",encoding='utf-8',engine='python')\n",
    "t_bat18=pd.read_csv(\"C:/Users/a/Desktop/2020빅콘/제공데이터/제공데이터(.CSV)_시즌별, 시트별 구분/2020빅콘테스트_스포츠투아이_제공데이터_팀타자_2018.csv\",encoding='utf-8',engine='python')\n",
    "t_bat19=pd.read_csv(\"C:/Users/a/Desktop/2020빅콘/제공데이터/제공데이터(.CSV)_시즌별, 시트별 구분/2020빅콘테스트_스포츠투아이_제공데이터_팀타자_2019.csv\",encoding='utf-8',engine='python')"
   ]
  },
  {
   "cell_type": "code",
   "execution_count": 4,
   "metadata": {},
   "outputs": [],
   "source": [
    "p_pit16=pd.read_csv(\"C:/Users/a/Desktop/2020빅콘/제공데이터/제공데이터(.CSV)_시즌별, 시트별 구분/2020빅콘테스트_스포츠투아이_제공데이터_개인투수_2016.csv\",encoding='utf-8',engine='python')\n",
    "p_pit17=pd.read_csv(\"C:/Users/a/Desktop/2020빅콘/제공데이터/제공데이터(.CSV)_시즌별, 시트별 구분/2020빅콘테스트_스포츠투아이_제공데이터_개인투수_2017.csv\",encoding='utf-8',engine='python')\n",
    "p_pit18=pd.read_csv(\"C:/Users/a/Desktop/2020빅콘/제공데이터/제공데이터(.CSV)_시즌별, 시트별 구분/2020빅콘테스트_스포츠투아이_제공데이터_개인투수_2018.csv\",encoding='utf-8',engine='python')\n",
    "p_pit19=pd.read_csv(\"C:/Users/a/Desktop/2020빅콘/제공데이터/제공데이터(.CSV)_시즌별, 시트별 구분/2020빅콘테스트_스포츠투아이_제공데이터_개인투수_2019.csv\",encoding='utf-8',engine='python')"
   ]
  },
  {
   "cell_type": "code",
   "execution_count": 5,
   "metadata": {},
   "outputs": [],
   "source": [
    "#모든 열 다 출력하기\n",
    "pd.options.display.max_columns=None"
   ]
  },
  {
   "cell_type": "markdown",
   "metadata": {},
   "source": [
    "## 2. 변수 생성"
   ]
  },
  {
   "cell_type": "code",
   "execution_count": 6,
   "metadata": {},
   "outputs": [],
   "source": [
    "team=['HH', 'HT', 'KT', 'LG', 'LT', 'NC', 'OB', 'SK', 'SS', 'WO']"
   ]
  },
  {
   "cell_type": "code",
   "execution_count": 21,
   "metadata": {},
   "outputs": [],
   "source": [
    "#1루타 변수 만들기\n",
    "t_pit16['H1']=t_pit16['HIT']-t_pit16['H2']-t_pit16['H3']-t_pit16['HR']\n",
    "t_pit17['H1']=t_pit17['HIT']-t_pit17['H2']-t_pit17['H3']-t_pit17['HR']\n",
    "t_pit18['H1']=t_pit18['HIT']-t_pit18['H2']-t_pit18['H3']-t_pit18['HR']\n",
    "t_pit19['H1']=t_pit19['HIT']-t_pit19['H2']-t_pit19['H3']-t_pit19['HR']"
   ]
  },
  {
   "cell_type": "code",
   "execution_count": 27,
   "metadata": {},
   "outputs": [],
   "source": [
    "pd.set_option('mode.chained_assignment',None) #chain copy warning 제거하기\n",
    "\n",
    "#승률 변수만들기(이긴 경기, 진 경기 합치기)\n",
    "def make_win_lose(data):\n",
    "    data['W']=0; data['L']=0\n",
    "    data['W'][data['WLS']=='W']=1\n",
    "    data['L'][data['WLS']=='L']=1\n",
    "    return data"
   ]
  },
  {
   "cell_type": "code",
   "execution_count": 28,
   "metadata": {},
   "outputs": [],
   "source": [
    "data_list=[t_pit16,t_pit17,t_pit18,t_pit19]\n",
    "for data in data_list:\n",
    "    data=make_win_lose(data)"
   ]
  },
  {
   "cell_type": "markdown",
   "metadata": {},
   "source": [
    "### 선발기록 만들기"
   ]
  },
  {
   "cell_type": "code",
   "execution_count": 12,
   "metadata": {},
   "outputs": [],
   "source": [
    "t_pit_list=[t_pit16,t_pit17,t_pit18,t_pit19] #팀투수 데이터 리스트\n",
    "p_pit_list=[p_pit16,p_pit17,p_pit18,p_pit19] #개인투수 데이터 리스트\n",
    "var=['T_ID','P_ID','ER','INN2','AB','HIT','HR']  #필요한 개인투수 변수리스트\n",
    "\n",
    "def game40(year):\n",
    "    t_pit=t_pit_list[year-2016][['G_ID','T_ID']]  #팀별 경기를 뽑아내기 위함\n",
    "    p_pit=p_pit_list[year-2016]       #필요한 개인투수 데이터셋\n",
    "\n",
    "    game_list=[pd.DataFrame() for var in range(1,6)] #40경기씩 묶일 데이터셋\n",
    "    data_list=[pd.DataFrame() for var in range(1,6)] #40경기씩 묶일 데이터셋\n",
    "        \n",
    "    data=pd.DataFrame()  #빈 데이터프레임 만들기\n",
    "\n",
    "    for i in range(5):\n",
    "        game40=game_list[i] #팀별 40경기 G_ID가 들어있는 데이터셋\n",
    "        data40=data_list[i] #팀별 40경기씩 넣을 개인투수 데이터셋\n",
    "        \n",
    "        for t in team:\n",
    "            game40=t_pit[t_pit['T_ID']==t][4+i*20:44+i*20]\n",
    "            data40=pd.concat([data40,p_pit[p_pit['G_ID'].isin(game40['G_ID'])][p_pit['T_ID']==t]])\n",
    "        data40=data40[data40['START_CK']==1].filter(var)                                #선발 뽑기\n",
    "        data40=data40.groupby(['T_ID','P_ID']).sum()                                    #선수별로 묶기\n",
    "        data40=data40.sort_values(by='INN2', ascending=False).groupby('T_ID').head(5)  #이닝수가 많은 5명 뽑기\n",
    "        data40=data40.groupby(['T_ID']).sum()                                           #팀별로 묶기\n",
    "        \n",
    "        #변수 만들기\n",
    "        data40['ERA']=data40['ER']*27/data40['INN2']        #선발ERA 변수 만들기\n",
    "        data40['HIT_RATE']=data40['HIT']/data40['AB']       #피안타율 변수 만들기\n",
    "        data40['HR_RATE']=data40['HR']/data40['AB']         #피홈런율 변수 만들기\n",
    "        \n",
    "        data40=data40.drop(['INN2','HIT','AB','HR','ER'],axis='columns')  #변수 삭제\n",
    "        data40=data40.add_prefix('START_')                                #변수명 앞에 START 붙이기\n",
    "\n",
    "        #데이터 합치기\n",
    "        if i <4:\n",
    "            data=pd.concat([data,data40])  #40경기의 데이터 이어붙이기\n",
    "        else:\n",
    "            test_data=data40\n",
    "            \n",
    "    return data, test_data"
   ]
  },
  {
   "cell_type": "code",
   "execution_count": 13,
   "metadata": {
    "scrolled": true
   },
   "outputs": [
    {
     "name": "stderr",
     "output_type": "stream",
     "text": [
      "C:\\Users\\a\\Anaconda3\\lib\\site-packages\\ipykernel\\__main__.py:20: UserWarning: Boolean Series key will be reindexed to match DataFrame index.\n"
     ]
    }
   ],
   "source": [
    "st_train16,st_test16=game40(2016)\n",
    "st_train17,st_test17=game40(2017)\n",
    "st_train18,st_test18=game40(2018)\n",
    "st_train19,st_test19=game40(2019)"
   ]
  },
  {
   "cell_type": "markdown",
   "metadata": {},
   "source": [
    "### 상대팀 변수 만들기"
   ]
  },
  {
   "cell_type": "code",
   "execution_count": 9,
   "metadata": {},
   "outputs": [],
   "source": [
    "var_b=['VS_T_ID','HIT','H2','H3','HR','BB','HP','AB','SF']"
   ]
  },
  {
   "cell_type": "code",
   "execution_count": 10,
   "metadata": {},
   "outputs": [],
   "source": [
    "#상대팀 변수 만드는 함수\n",
    "t_bat=[t_bat16,t_bat17,t_bat18,t_bat19]\n",
    "def vs_data(year):\n",
    "    a=t_bat[year-2016].filter(var_b)\n",
    "    data=pd.DataFrame()  #빈 데이터프레임 만들기\n",
    "\n",
    "    data_list=[pd.DataFrame() for var in range(1,6)]    #40경기씩 묶일 데이터셋\n",
    "    \n",
    "    for i in range(5):\n",
    "        vs_data=data_list[i]\n",
    "        for t in team:\n",
    "            vs_data=pd.concat([vs_data,a[a['VS_T_ID']==t][4+i*20:44+i*20]])      #팀별로 앞 4경기 제외\n",
    "        vs_data=vs_data.groupby(['VS_T_ID']).sum()\n",
    "        \n",
    "        vs_data['H1']=vs_data['HIT']-vs_data['H2']-vs_data['H3']-vs_data['HR']  #H1변수 만들기\n",
    "        vs_data['SLG']=(vs_data['H1']+vs_data['H2']*2+vs_data['H3']*3+vs_data['HR']*4)/vs_data['AB']  #SLG변수 만들기\n",
    "        vs_data['real_SLG']=vs_data['SLG']-(vs_data['HIT']/vs_data['AB'])       #real_SLG변수 만들기\n",
    "        vs_data['OBP']=(vs_data['HIT']+vs_data['BB']+vs_data['HP'])/(vs_data['AB']+vs_data['BB']+vs_data['HP']+vs_data['SF']) #OBP변수 만들기\n",
    "        \n",
    "        #변수 지우기\n",
    "        vs_data=vs_data.drop(['HIT','H1','H2','H3','HR','SLG','BB','HP','AB','SF'],axis='columns')\n",
    "        vs_data=vs_data.add_prefix('VS_')                                #변수명 앞에 START 붙이기\n",
    "\n",
    "        if i <4:\n",
    "            data=pd.concat([data,vs_data])\n",
    "        else:\n",
    "            test_data=vs_data\n",
    "            \n",
    "    return data,test_data"
   ]
  },
  {
   "cell_type": "code",
   "execution_count": 11,
   "metadata": {},
   "outputs": [],
   "source": [
    "vs_train16,vs_test16=vs_data(2016)\n",
    "vs_train17,vs_test17=vs_data(2017)\n",
    "vs_train18,vs_test18=vs_data(2018)\n",
    "vs_train19,vs_test19=vs_data(2019)"
   ]
  },
  {
   "cell_type": "markdown",
   "metadata": {},
   "source": [
    "## 3. train test 셋 만들기"
   ]
  },
  {
   "cell_type": "code",
   "execution_count": 36,
   "metadata": {},
   "outputs": [],
   "source": [
    "var_t=['T_ID','HOLD','BF','PA','AB','HIT','H2','H3','HR','R','ER','P_WHIP_RT','CB_WHIP_RT','INN2','H1','W','L']\n",
    "t16=t_pit16.filter(var_t)\n",
    "t17=t_pit17.filter(var_t)\n",
    "t18=t_pit18.filter(var_t)\n",
    "t19=t_pit19.filter(var_t)"
   ]
  },
  {
   "cell_type": "code",
   "execution_count": 39,
   "metadata": {},
   "outputs": [],
   "source": [
    "#정답 셋과 train 셋 만드는 함수\n",
    "t_pit=[t16,t17,t18,t19]\n",
    "def make_answer_train(year):\n",
    "    a=t_pit[year-2016]  \n",
    "    data=pd.DataFrame()  #빈 데이터프레임 만들기\n",
    "\n",
    "    answer=[pd.DataFrame() for var in range(1,6)]     #20경기씩 묶일 데이터셋\n",
    "        \n",
    "    for i in range(5):\n",
    "        ans=answer[i]\n",
    "        for t in team:\n",
    "            ans=pd.concat([ans,a[a['T_ID']==t][4+40+i*20:4+60+i*20]])\n",
    "\n",
    "        #팀별 AB,HIT합 구하기\n",
    "        ans=ans.groupby(['T_ID']).sum()\n",
    "        ans['ERA']=ans['ER']*27/ans['INN2']     #방어율 계산\n",
    "        ans=ans.drop(ans.columns[list(range(16))],axis='columns')\n",
    "                \n",
    "        if i <4:\n",
    "            data=pd.concat([data,ans])\n",
    "        else:\n",
    "            test_data=ans\n",
    "            \n",
    "    return data,test_data"
   ]
  },
  {
   "cell_type": "code",
   "execution_count": 40,
   "metadata": {
    "scrolled": false
   },
   "outputs": [],
   "source": [
    "train16,test16=make_answer_train(2016)\n",
    "train17,test17=make_answer_train(2017)\n",
    "train18,test18=make_answer_train(2018)\n",
    "train19,test19=make_answer_train(2019)"
   ]
  },
  {
   "cell_type": "code",
   "execution_count": 42,
   "metadata": {
    "scrolled": true
   },
   "outputs": [],
   "source": [
    "#선발 데이터와 합치기\n",
    "train16=pd.concat([st_train16,train16],axis=1)\n",
    "train17=pd.concat([st_train17,train17],axis=1)\n",
    "train18=pd.concat([st_train18,train18],axis=1)\n",
    "train19=pd.concat([st_train19,train19],axis=1)\n",
    "\n",
    "test16=pd.concat([st_test16,test16],axis=1)\n",
    "test17=pd.concat([st_test17,test17],axis=1)\n",
    "test18=pd.concat([st_test18,test18],axis=1)\n",
    "test19=pd.concat([st_test19,test19],axis=1)"
   ]
  },
  {
   "cell_type": "code",
   "execution_count": 43,
   "metadata": {},
   "outputs": [],
   "source": [
    "#상대팀 데이터와 합치기\n",
    "train16=pd.concat([vs_train16,train16],axis=1)\n",
    "train17=pd.concat([vs_train17,train17],axis=1)\n",
    "train18=pd.concat([vs_train18,train18],axis=1)\n",
    "train19=pd.concat([vs_train19,train19],axis=1)\n",
    "\n",
    "test16=pd.concat([vs_test16,test16],axis=1)\n",
    "test17=pd.concat([vs_test17,test17],axis=1)\n",
    "test18=pd.concat([vs_test18,test18],axis=1)\n",
    "test19=pd.concat([vs_test19,test19],axis=1)"
   ]
  },
  {
   "cell_type": "code",
   "execution_count": 44,
   "metadata": {},
   "outputs": [],
   "source": [
    "#4개년 합친 데이터\n",
    "train678_9=pd.concat([train16,test16,train17,test17,train18,test18,train19])\n",
    "train679_8=pd.concat([train16,test16,train17,test17,train19,test19,train18])\n",
    "train689_7=pd.concat([train16,test16,train18,test18,train19,test19,train17])\n",
    "train789_6=pd.concat([train17,test17,train18,test18,train19,test19,train16])"
   ]
  },
  {
   "cell_type": "code",
   "execution_count": 63,
   "metadata": {},
   "outputs": [
    {
     "data": {
      "text/html": [
       "<div>\n",
       "<style scoped>\n",
       "    .dataframe tbody tr th:only-of-type {\n",
       "        vertical-align: middle;\n",
       "    }\n",
       "\n",
       "    .dataframe tbody tr th {\n",
       "        vertical-align: top;\n",
       "    }\n",
       "\n",
       "    .dataframe thead th {\n",
       "        text-align: right;\n",
       "    }\n",
       "</style>\n",
       "<table border=\"1\" class=\"dataframe\">\n",
       "  <thead>\n",
       "    <tr style=\"text-align: right;\">\n",
       "      <th></th>\n",
       "      <th>VS_real_SLG</th>\n",
       "      <th>VS_OBP</th>\n",
       "      <th>START_ERA</th>\n",
       "      <th>START_HIT_RATE</th>\n",
       "      <th>START_HR_RATE</th>\n",
       "      <th>ERA</th>\n",
       "    </tr>\n",
       "  </thead>\n",
       "  <tbody>\n",
       "    <tr>\n",
       "      <th>HH</th>\n",
       "      <td>0.166424</td>\n",
       "      <td>0.345981</td>\n",
       "      <td>5.769710</td>\n",
       "      <td>0.284579</td>\n",
       "      <td>0.041335</td>\n",
       "      <td>5.811429</td>\n",
       "    </tr>\n",
       "    <tr>\n",
       "      <th>HT</th>\n",
       "      <td>0.189776</td>\n",
       "      <td>0.372020</td>\n",
       "      <td>6.314917</td>\n",
       "      <td>0.318302</td>\n",
       "      <td>0.050398</td>\n",
       "      <td>5.591418</td>\n",
       "    </tr>\n",
       "    <tr>\n",
       "      <th>KT</th>\n",
       "      <td>0.174451</td>\n",
       "      <td>0.372829</td>\n",
       "      <td>4.861736</td>\n",
       "      <td>0.307329</td>\n",
       "      <td>0.036643</td>\n",
       "      <td>5.548624</td>\n",
       "    </tr>\n",
       "    <tr>\n",
       "      <th>LG</th>\n",
       "      <td>0.162693</td>\n",
       "      <td>0.370093</td>\n",
       "      <td>6.643979</td>\n",
       "      <td>0.314176</td>\n",
       "      <td>0.034483</td>\n",
       "      <td>5.778409</td>\n",
       "    </tr>\n",
       "    <tr>\n",
       "      <th>LT</th>\n",
       "      <td>0.187807</td>\n",
       "      <td>0.360451</td>\n",
       "      <td>6.147110</td>\n",
       "      <td>0.304627</td>\n",
       "      <td>0.042416</td>\n",
       "      <td>4.776536</td>\n",
       "    </tr>\n",
       "    <tr>\n",
       "      <th>NC</th>\n",
       "      <td>0.182151</td>\n",
       "      <td>0.358001</td>\n",
       "      <td>4.627119</td>\n",
       "      <td>0.278020</td>\n",
       "      <td>0.040757</td>\n",
       "      <td>6.593023</td>\n",
       "    </tr>\n",
       "    <tr>\n",
       "      <th>OB</th>\n",
       "      <td>0.168914</td>\n",
       "      <td>0.365130</td>\n",
       "      <td>5.390543</td>\n",
       "      <td>0.298153</td>\n",
       "      <td>0.031662</td>\n",
       "      <td>4.458256</td>\n",
       "    </tr>\n",
       "    <tr>\n",
       "      <th>SK</th>\n",
       "      <td>0.174161</td>\n",
       "      <td>0.350955</td>\n",
       "      <td>4.153846</td>\n",
       "      <td>0.271482</td>\n",
       "      <td>0.038605</td>\n",
       "      <td>5.471591</td>\n",
       "    </tr>\n",
       "    <tr>\n",
       "      <th>SS</th>\n",
       "      <td>0.148620</td>\n",
       "      <td>0.348955</td>\n",
       "      <td>5.417062</td>\n",
       "      <td>0.296163</td>\n",
       "      <td>0.039568</td>\n",
       "      <td>4.927374</td>\n",
       "    </tr>\n",
       "    <tr>\n",
       "      <th>WO</th>\n",
       "      <td>0.158374</td>\n",
       "      <td>0.356467</td>\n",
       "      <td>4.407353</td>\n",
       "      <td>0.283499</td>\n",
       "      <td>0.035437</td>\n",
       "      <td>5.288136</td>\n",
       "    </tr>\n",
       "  </tbody>\n",
       "</table>\n",
       "</div>"
      ],
      "text/plain": [
       "    VS_real_SLG    VS_OBP  START_ERA  START_HIT_RATE  START_HR_RATE       ERA\n",
       "HH     0.166424  0.345981   5.769710        0.284579       0.041335  5.811429\n",
       "HT     0.189776  0.372020   6.314917        0.318302       0.050398  5.591418\n",
       "KT     0.174451  0.372829   4.861736        0.307329       0.036643  5.548624\n",
       "LG     0.162693  0.370093   6.643979        0.314176       0.034483  5.778409\n",
       "LT     0.187807  0.360451   6.147110        0.304627       0.042416  4.776536\n",
       "NC     0.182151  0.358001   4.627119        0.278020       0.040757  6.593023\n",
       "OB     0.168914  0.365130   5.390543        0.298153       0.031662  4.458256\n",
       "SK     0.174161  0.350955   4.153846        0.271482       0.038605  5.471591\n",
       "SS     0.148620  0.348955   5.417062        0.296163       0.039568  4.927374\n",
       "WO     0.158374  0.356467   4.407353        0.283499       0.035437  5.288136"
      ]
     },
     "execution_count": 63,
     "metadata": {},
     "output_type": "execute_result"
    }
   ],
   "source": [
    "test18"
   ]
  },
  {
   "cell_type": "markdown",
   "metadata": {},
   "source": [
    "## 3. 모델학습"
   ]
  },
  {
   "cell_type": "code",
   "execution_count": 50,
   "metadata": {},
   "outputs": [],
   "source": [
    "# 모델 모듈\n",
    "from sklearn.ensemble import RandomForestRegressor\n",
    "\n",
    "from sklearn.metrics import mean_squared_error, r2_score\n",
    "from sklearn.preprocessing import StandardScaler, MinMaxScaler"
   ]
  },
  {
   "cell_type": "markdown",
   "metadata": {},
   "source": [
    "stats=['START_SB', 'START_SF', 'START_ERR', 'START_R', 'START_ERA',\n",
    "       'START_HIT_RATE', 'START_HR_RATE', 'HOLD', 'BF', 'PA', 'R',\n",
    "       'ER', 'P_WHIP_RT', 'CB_WHIP_RT', 'INN', 'SLG','HIT_RATE' 'WINNING_RATE']"
   ]
  },
  {
   "cell_type": "code",
   "execution_count": 46,
   "metadata": {},
   "outputs": [],
   "source": [
    "stats=['VS_real_SLG','VS_OBP','START_ERA','START_HIT_RATE', 'START_HR_RATE']"
   ]
  },
  {
   "cell_type": "code",
   "execution_count": 47,
   "metadata": {
    "scrolled": true
   },
   "outputs": [],
   "source": [
    "X_cols=stats\n",
    "Y_col=['ERA']"
   ]
  },
  {
   "cell_type": "markdown",
   "metadata": {},
   "source": [
    "### 랜덤포레스트 돌려보기"
   ]
  },
  {
   "cell_type": "code",
   "execution_count": 48,
   "metadata": {},
   "outputs": [],
   "source": [
    "train_list=[train16,train17,train18,train19]\n",
    "train4_list=[train789_6,train689_7,train679_8,train678_9]\n",
    "test_list=[test16,test17,test18,test19]"
   ]
  },
  {
   "cell_type": "code",
   "execution_count": 62,
   "metadata": {
    "scrolled": true
   },
   "outputs": [
    {
     "name": "stdout",
     "output_type": "stream",
     "text": [
      "2016 >\tr2 : -0.004005780811206172 \ttrain점수 :0.877 \t차이합 : 6.891070330555326\n",
      "2017 >\tr2 : 0.15066547001933916 \ttrain점수 :0.881 \t차이합 : 6.196663377030461\n",
      "2018 >\tr2 : -0.4883697700089924 \ttrain점수 :0.879 \t차이합 : 6.043767358874854\n",
      "2019 >\tr2 : -2.5470125961151675 \ttrain점수 :0.879 \t차이합 : 10.943147985781822\n"
     ]
    }
   ],
   "source": [
    "#4개년 랜포 돌려보기\n",
    "result=[]\n",
    "for i in range(4):\n",
    "    train=train4_list[i];  test=test_list[i]\n",
    "    X_train = train[X_cols]; Y_train = train[Y_col]\n",
    "    X_test = test[X_cols]; Y_test = test[Y_col]\n",
    "\n",
    "    model = RandomForestRegressor() \n",
    "    Y_train=Y_train.values.ravel()  #rf에서의 오류 없애기 위함\n",
    "    model.fit(X_train, Y_train) \n",
    "    Y_predict = model.predict(X_test)\n",
    "\n",
    "    r2=r2_score(Y_test, Y_predict)\n",
    "\n",
    "    result.append(Y_test.assign(predict=Y_predict))\n",
    "    result[i]['diff']=result[i]['ERA']-result[i]['predict']\n",
    "    print(i+2016,\">\\tr2 :\", r2,'\\ttrain점수 :{:.3f}'.format(model.score(X_train,Y_train)),\"\\t차이합 :\",abs(result[i]['diff']).sum())"
   ]
  },
  {
   "cell_type": "code",
   "execution_count": null,
   "metadata": {},
   "outputs": [],
   "source": [
    "train19.corr()['ERA']"
   ]
  },
  {
   "cell_type": "markdown",
   "metadata": {},
   "source": [
    "### 예측값과 실제값 차이"
   ]
  },
  {
   "cell_type": "code",
   "execution_count": null,
   "metadata": {
    "scrolled": false
   },
   "outputs": [],
   "source": [
    "# 예측값과 실제값의 시각화\n",
    "plt.scatter(Y_test, Y_predict)\n",
    "plt.xlabel(\"실제 값\")\n",
    "plt.ylabel(\"예측 값\")"
   ]
  },
  {
   "cell_type": "code",
   "execution_count": 64,
   "metadata": {
    "scrolled": false
   },
   "outputs": [
    {
     "name": "stdout",
     "output_type": "stream",
     "text": [
      "2016 > 6.891070330555326\n"
     ]
    },
    {
     "data": {
      "text/html": [
       "<div>\n",
       "<style scoped>\n",
       "    .dataframe tbody tr th:only-of-type {\n",
       "        vertical-align: middle;\n",
       "    }\n",
       "\n",
       "    .dataframe tbody tr th {\n",
       "        vertical-align: top;\n",
       "    }\n",
       "\n",
       "    .dataframe thead th {\n",
       "        text-align: right;\n",
       "    }\n",
       "</style>\n",
       "<table border=\"1\" class=\"dataframe\">\n",
       "  <thead>\n",
       "    <tr style=\"text-align: right;\">\n",
       "      <th></th>\n",
       "      <th>ERA</th>\n",
       "      <th>predict</th>\n",
       "      <th>diff</th>\n",
       "    </tr>\n",
       "  </thead>\n",
       "  <tbody>\n",
       "    <tr>\n",
       "      <th>HH</th>\n",
       "      <td>5.340659</td>\n",
       "      <td>4.387841</td>\n",
       "      <td>0.952818</td>\n",
       "    </tr>\n",
       "    <tr>\n",
       "      <th>HT</th>\n",
       "      <td>3.996205</td>\n",
       "      <td>4.848063</td>\n",
       "      <td>-0.851858</td>\n",
       "    </tr>\n",
       "    <tr>\n",
       "      <th>KT</th>\n",
       "      <td>6.398844</td>\n",
       "      <td>4.715709</td>\n",
       "      <td>1.683135</td>\n",
       "    </tr>\n",
       "    <tr>\n",
       "      <th>LG</th>\n",
       "      <td>3.786885</td>\n",
       "      <td>4.162519</td>\n",
       "      <td>-0.375634</td>\n",
       "    </tr>\n",
       "    <tr>\n",
       "      <th>LT</th>\n",
       "      <td>5.851711</td>\n",
       "      <td>5.409228</td>\n",
       "      <td>0.442483</td>\n",
       "    </tr>\n",
       "    <tr>\n",
       "      <th>NC</th>\n",
       "      <td>3.717391</td>\n",
       "      <td>5.033142</td>\n",
       "      <td>-1.315751</td>\n",
       "    </tr>\n",
       "    <tr>\n",
       "      <th>OB</th>\n",
       "      <td>4.508443</td>\n",
       "      <td>4.556445</td>\n",
       "      <td>-0.048002</td>\n",
       "    </tr>\n",
       "    <tr>\n",
       "      <th>SK</th>\n",
       "      <td>4.835821</td>\n",
       "      <td>5.453430</td>\n",
       "      <td>-0.617609</td>\n",
       "    </tr>\n",
       "    <tr>\n",
       "      <th>SS</th>\n",
       "      <td>5.259740</td>\n",
       "      <td>5.390629</td>\n",
       "      <td>-0.130889</td>\n",
       "    </tr>\n",
       "    <tr>\n",
       "      <th>WO</th>\n",
       "      <td>5.115234</td>\n",
       "      <td>5.588125</td>\n",
       "      <td>-0.472891</td>\n",
       "    </tr>\n",
       "  </tbody>\n",
       "</table>\n",
       "</div>"
      ],
      "text/plain": [
       "         ERA   predict      diff\n",
       "HH  5.340659  4.387841  0.952818\n",
       "HT  3.996205  4.848063 -0.851858\n",
       "KT  6.398844  4.715709  1.683135\n",
       "LG  3.786885  4.162519 -0.375634\n",
       "LT  5.851711  5.409228  0.442483\n",
       "NC  3.717391  5.033142 -1.315751\n",
       "OB  4.508443  4.556445 -0.048002\n",
       "SK  4.835821  5.453430 -0.617609\n",
       "SS  5.259740  5.390629 -0.130889\n",
       "WO  5.115234  5.588125 -0.472891"
      ]
     },
     "execution_count": 64,
     "metadata": {},
     "output_type": "execute_result"
    }
   ],
   "source": [
    "print('2016 >',abs(result[0]['diff']).sum())\n",
    "result[0]"
   ]
  },
  {
   "cell_type": "code",
   "execution_count": 65,
   "metadata": {
    "scrolled": false
   },
   "outputs": [
    {
     "name": "stdout",
     "output_type": "stream",
     "text": [
      "2017 > 6.196663377030461\n"
     ]
    },
    {
     "data": {
      "text/html": [
       "<div>\n",
       "<style scoped>\n",
       "    .dataframe tbody tr th:only-of-type {\n",
       "        vertical-align: middle;\n",
       "    }\n",
       "\n",
       "    .dataframe tbody tr th {\n",
       "        vertical-align: top;\n",
       "    }\n",
       "\n",
       "    .dataframe thead th {\n",
       "        text-align: right;\n",
       "    }\n",
       "</style>\n",
       "<table border=\"1\" class=\"dataframe\">\n",
       "  <thead>\n",
       "    <tr style=\"text-align: right;\">\n",
       "      <th></th>\n",
       "      <th>ERA</th>\n",
       "      <th>predict</th>\n",
       "      <th>diff</th>\n",
       "    </tr>\n",
       "  </thead>\n",
       "  <tbody>\n",
       "    <tr>\n",
       "      <th>HH</th>\n",
       "      <td>4.950000</td>\n",
       "      <td>4.788148</td>\n",
       "      <td>0.161852</td>\n",
       "    </tr>\n",
       "    <tr>\n",
       "      <th>HT</th>\n",
       "      <td>4.608534</td>\n",
       "      <td>4.764451</td>\n",
       "      <td>-0.155916</td>\n",
       "    </tr>\n",
       "    <tr>\n",
       "      <th>KT</th>\n",
       "      <td>5.612360</td>\n",
       "      <td>5.300910</td>\n",
       "      <td>0.311449</td>\n",
       "    </tr>\n",
       "    <tr>\n",
       "      <th>LG</th>\n",
       "      <td>5.094340</td>\n",
       "      <td>4.856718</td>\n",
       "      <td>0.237622</td>\n",
       "    </tr>\n",
       "    <tr>\n",
       "      <th>LT</th>\n",
       "      <td>3.762712</td>\n",
       "      <td>5.040069</td>\n",
       "      <td>-1.277357</td>\n",
       "    </tr>\n",
       "    <tr>\n",
       "      <th>NC</th>\n",
       "      <td>6.178378</td>\n",
       "      <td>5.521230</td>\n",
       "      <td>0.657148</td>\n",
       "    </tr>\n",
       "    <tr>\n",
       "      <th>OB</th>\n",
       "      <td>4.297753</td>\n",
       "      <td>4.025201</td>\n",
       "      <td>0.272552</td>\n",
       "    </tr>\n",
       "    <tr>\n",
       "      <th>SK</th>\n",
       "      <td>4.834286</td>\n",
       "      <td>5.487345</td>\n",
       "      <td>-0.653059</td>\n",
       "    </tr>\n",
       "    <tr>\n",
       "      <th>SS</th>\n",
       "      <td>6.257299</td>\n",
       "      <td>5.254071</td>\n",
       "      <td>1.003228</td>\n",
       "    </tr>\n",
       "    <tr>\n",
       "      <th>WO</th>\n",
       "      <td>6.337786</td>\n",
       "      <td>4.871306</td>\n",
       "      <td>1.466480</td>\n",
       "    </tr>\n",
       "  </tbody>\n",
       "</table>\n",
       "</div>"
      ],
      "text/plain": [
       "         ERA   predict      diff\n",
       "HH  4.950000  4.788148  0.161852\n",
       "HT  4.608534  4.764451 -0.155916\n",
       "KT  5.612360  5.300910  0.311449\n",
       "LG  5.094340  4.856718  0.237622\n",
       "LT  3.762712  5.040069 -1.277357\n",
       "NC  6.178378  5.521230  0.657148\n",
       "OB  4.297753  4.025201  0.272552\n",
       "SK  4.834286  5.487345 -0.653059\n",
       "SS  6.257299  5.254071  1.003228\n",
       "WO  6.337786  4.871306  1.466480"
      ]
     },
     "execution_count": 65,
     "metadata": {},
     "output_type": "execute_result"
    }
   ],
   "source": [
    "print('2017 >',abs(result[1]['diff']).sum())\n",
    "result[1]"
   ]
  },
  {
   "cell_type": "code",
   "execution_count": 66,
   "metadata": {
    "scrolled": false
   },
   "outputs": [
    {
     "name": "stdout",
     "output_type": "stream",
     "text": [
      "2018 > 6.043767358874854\n"
     ]
    },
    {
     "data": {
      "text/html": [
       "<div>\n",
       "<style scoped>\n",
       "    .dataframe tbody tr th:only-of-type {\n",
       "        vertical-align: middle;\n",
       "    }\n",
       "\n",
       "    .dataframe tbody tr th {\n",
       "        vertical-align: top;\n",
       "    }\n",
       "\n",
       "    .dataframe thead th {\n",
       "        text-align: right;\n",
       "    }\n",
       "</style>\n",
       "<table border=\"1\" class=\"dataframe\">\n",
       "  <thead>\n",
       "    <tr style=\"text-align: right;\">\n",
       "      <th></th>\n",
       "      <th>ERA</th>\n",
       "      <th>predict</th>\n",
       "      <th>diff</th>\n",
       "    </tr>\n",
       "  </thead>\n",
       "  <tbody>\n",
       "    <tr>\n",
       "      <th>HH</th>\n",
       "      <td>5.811429</td>\n",
       "      <td>5.163619</td>\n",
       "      <td>0.647810</td>\n",
       "    </tr>\n",
       "    <tr>\n",
       "      <th>HT</th>\n",
       "      <td>5.591418</td>\n",
       "      <td>5.944472</td>\n",
       "      <td>-0.353054</td>\n",
       "    </tr>\n",
       "    <tr>\n",
       "      <th>KT</th>\n",
       "      <td>5.548624</td>\n",
       "      <td>5.674203</td>\n",
       "      <td>-0.125580</td>\n",
       "    </tr>\n",
       "    <tr>\n",
       "      <th>LG</th>\n",
       "      <td>5.778409</td>\n",
       "      <td>4.747435</td>\n",
       "      <td>1.030974</td>\n",
       "    </tr>\n",
       "    <tr>\n",
       "      <th>LT</th>\n",
       "      <td>4.776536</td>\n",
       "      <td>5.557233</td>\n",
       "      <td>-0.780697</td>\n",
       "    </tr>\n",
       "    <tr>\n",
       "      <th>NC</th>\n",
       "      <td>6.593023</td>\n",
       "      <td>5.477387</td>\n",
       "      <td>1.115636</td>\n",
       "    </tr>\n",
       "    <tr>\n",
       "      <th>OB</th>\n",
       "      <td>4.458256</td>\n",
       "      <td>5.336658</td>\n",
       "      <td>-0.878402</td>\n",
       "    </tr>\n",
       "    <tr>\n",
       "      <th>SK</th>\n",
       "      <td>5.471591</td>\n",
       "      <td>4.688478</td>\n",
       "      <td>0.783113</td>\n",
       "    </tr>\n",
       "    <tr>\n",
       "      <th>SS</th>\n",
       "      <td>4.927374</td>\n",
       "      <td>4.803755</td>\n",
       "      <td>0.123619</td>\n",
       "    </tr>\n",
       "    <tr>\n",
       "      <th>WO</th>\n",
       "      <td>5.288136</td>\n",
       "      <td>5.493019</td>\n",
       "      <td>-0.204883</td>\n",
       "    </tr>\n",
       "  </tbody>\n",
       "</table>\n",
       "</div>"
      ],
      "text/plain": [
       "         ERA   predict      diff\n",
       "HH  5.811429  5.163619  0.647810\n",
       "HT  5.591418  5.944472 -0.353054\n",
       "KT  5.548624  5.674203 -0.125580\n",
       "LG  5.778409  4.747435  1.030974\n",
       "LT  4.776536  5.557233 -0.780697\n",
       "NC  6.593023  5.477387  1.115636\n",
       "OB  4.458256  5.336658 -0.878402\n",
       "SK  5.471591  4.688478  0.783113\n",
       "SS  4.927374  4.803755  0.123619\n",
       "WO  5.288136  5.493019 -0.204883"
      ]
     },
     "execution_count": 66,
     "metadata": {},
     "output_type": "execute_result"
    }
   ],
   "source": [
    "print('2018 >',abs(result[2]['diff']).sum())\n",
    "result[2]"
   ]
  },
  {
   "cell_type": "code",
   "execution_count": 67,
   "metadata": {
    "scrolled": false
   },
   "outputs": [
    {
     "name": "stdout",
     "output_type": "stream",
     "text": [
      "2019 > 10.943147985781822\n"
     ]
    },
    {
     "data": {
      "text/html": [
       "<div>\n",
       "<style scoped>\n",
       "    .dataframe tbody tr th:only-of-type {\n",
       "        vertical-align: middle;\n",
       "    }\n",
       "\n",
       "    .dataframe tbody tr th {\n",
       "        vertical-align: top;\n",
       "    }\n",
       "\n",
       "    .dataframe thead th {\n",
       "        text-align: right;\n",
       "    }\n",
       "</style>\n",
       "<table border=\"1\" class=\"dataframe\">\n",
       "  <thead>\n",
       "    <tr style=\"text-align: right;\">\n",
       "      <th></th>\n",
       "      <th>ERA</th>\n",
       "      <th>predict</th>\n",
       "      <th>diff</th>\n",
       "    </tr>\n",
       "  </thead>\n",
       "  <tbody>\n",
       "    <tr>\n",
       "      <th>HH</th>\n",
       "      <td>3.262082</td>\n",
       "      <td>5.020867</td>\n",
       "      <td>-1.758786</td>\n",
       "    </tr>\n",
       "    <tr>\n",
       "      <th>HT</th>\n",
       "      <td>4.000000</td>\n",
       "      <td>4.029225</td>\n",
       "      <td>-0.029225</td>\n",
       "    </tr>\n",
       "    <tr>\n",
       "      <th>KT</th>\n",
       "      <td>3.254237</td>\n",
       "      <td>4.264306</td>\n",
       "      <td>-1.010068</td>\n",
       "    </tr>\n",
       "    <tr>\n",
       "      <th>LG</th>\n",
       "      <td>2.943609</td>\n",
       "      <td>5.490658</td>\n",
       "      <td>-2.547049</td>\n",
       "    </tr>\n",
       "    <tr>\n",
       "      <th>LT</th>\n",
       "      <td>3.568966</td>\n",
       "      <td>4.602575</td>\n",
       "      <td>-1.033609</td>\n",
       "    </tr>\n",
       "    <tr>\n",
       "      <th>NC</th>\n",
       "      <td>2.927103</td>\n",
       "      <td>3.791151</td>\n",
       "      <td>-0.864049</td>\n",
       "    </tr>\n",
       "    <tr>\n",
       "      <th>OB</th>\n",
       "      <td>3.405850</td>\n",
       "      <td>3.794245</td>\n",
       "      <td>-0.388395</td>\n",
       "    </tr>\n",
       "    <tr>\n",
       "      <th>SK</th>\n",
       "      <td>3.806391</td>\n",
       "      <td>3.434806</td>\n",
       "      <td>0.371585</td>\n",
       "    </tr>\n",
       "    <tr>\n",
       "      <th>SS</th>\n",
       "      <td>4.680000</td>\n",
       "      <td>5.731751</td>\n",
       "      <td>-1.051751</td>\n",
       "    </tr>\n",
       "    <tr>\n",
       "      <th>WO</th>\n",
       "      <td>1.902857</td>\n",
       "      <td>3.791488</td>\n",
       "      <td>-1.888631</td>\n",
       "    </tr>\n",
       "  </tbody>\n",
       "</table>\n",
       "</div>"
      ],
      "text/plain": [
       "         ERA   predict      diff\n",
       "HH  3.262082  5.020867 -1.758786\n",
       "HT  4.000000  4.029225 -0.029225\n",
       "KT  3.254237  4.264306 -1.010068\n",
       "LG  2.943609  5.490658 -2.547049\n",
       "LT  3.568966  4.602575 -1.033609\n",
       "NC  2.927103  3.791151 -0.864049\n",
       "OB  3.405850  3.794245 -0.388395\n",
       "SK  3.806391  3.434806  0.371585\n",
       "SS  4.680000  5.731751 -1.051751\n",
       "WO  1.902857  3.791488 -1.888631"
      ]
     },
     "execution_count": 67,
     "metadata": {},
     "output_type": "execute_result"
    }
   ],
   "source": [
    "print('2019 >',abs(result[3]['diff']).sum())\n",
    "result[3]"
   ]
  },
  {
   "cell_type": "code",
   "execution_count": null,
   "metadata": {},
   "outputs": [],
   "source": []
  },
  {
   "cell_type": "code",
   "execution_count": null,
   "metadata": {},
   "outputs": [],
   "source": []
  }
 ],
 "metadata": {
  "kernelspec": {
   "display_name": "Python [default]",
   "language": "python",
   "name": "python3"
  },
  "language_info": {
   "codemirror_mode": {
    "name": "ipython",
    "version": 3
   },
   "file_extension": ".py",
   "mimetype": "text/x-python",
   "name": "python",
   "nbconvert_exporter": "python",
   "pygments_lexer": "ipython3",
   "version": "3.6.5"
  }
 },
 "nbformat": 4,
 "nbformat_minor": 2
}
